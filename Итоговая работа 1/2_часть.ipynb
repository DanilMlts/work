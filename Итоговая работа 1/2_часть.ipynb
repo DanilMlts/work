{
  "nbformat": 4,
  "nbformat_minor": 0,
  "metadata": {
    "colab": {
      "provenance": [],
      "toc_visible": true
    },
    "kernelspec": {
      "name": "python3",
      "display_name": "Python 3"
    },
    "language_info": {
      "name": "python"
    }
  },
  "cells": [
    {
      "cell_type": "code",
      "source": [
        "import pandas as pd\n",
        "from matplotlib import pyplot as plt"
      ],
      "metadata": {
        "id": "262univPpTrl"
      },
      "execution_count": 1,
      "outputs": []
    },
    {
      "cell_type": "code",
      "execution_count": 2,
      "metadata": {
        "id": "8Kc0bfeQoxF5",
        "outputId": "e83f35b3-04c1-43cf-8b0c-d12ecdcad4d2",
        "colab": {
          "base_uri": "https://localhost:8080/",
          "height": 634
        }
      },
      "outputs": [
        {
          "output_type": "execute_result",
          "data": {
            "text/plain": [
              "          Unnamed: 0                                 session_id     client_id  \\\n",
              "0                  0  9055434745589932991.1637753792.1637753792  2.108383e+09   \n",
              "1                  1  9055434745589932991.1637753792.1637753792  2.108383e+09   \n",
              "2                  2   905544597018549464.1636867290.1636867290  2.108385e+08   \n",
              "3                  3  9055446045651783499.1640648526.1640648526  2.108385e+09   \n",
              "4                  4  9055446045651783499.1640648526.1640648526  2.108385e+09   \n",
              "...              ...                                        ...           ...   \n",
              "15685214    15685214  9055430416266113553.1640968742.1640968742  2.108382e+09   \n",
              "15685215    15685215  9055430416266113553.1640968742.1640968742  2.108382e+09   \n",
              "15685216    15685216  9055430416266113553.1640968742.1640968742  2.108382e+09   \n",
              "15685217    15685217  9055430416266113553.1640968742.1640968742  2.108382e+09   \n",
              "15685218    15685218  9055430416266113553.1640968742.1640968742  2.108382e+09   \n",
              "\n",
              "          visit_date visit_time  visit_number            utm_source  \\\n",
              "0         2021-11-24   14:36:32             1  ZpYIoDJMcFzVoPFsHGJL   \n",
              "1         2021-11-24   14:36:32             1  ZpYIoDJMcFzVoPFsHGJL   \n",
              "2         2021-11-14   08:21:30             1  MvfHsxITijuriZxsqZqt   \n",
              "3         2021-12-28   02:42:06             1  ZpYIoDJMcFzVoPFsHGJL   \n",
              "4         2021-12-28   02:42:06             1  ZpYIoDJMcFzVoPFsHGJL   \n",
              "...              ...        ...           ...                   ...   \n",
              "15685214  2021-12-31   19:39:02             1  fgymSoTvjKPEgaIJqsiH   \n",
              "15685215  2021-12-31   19:39:02             1  fgymSoTvjKPEgaIJqsiH   \n",
              "15685216  2021-12-31   19:39:02             1  fgymSoTvjKPEgaIJqsiH   \n",
              "15685217  2021-12-31   19:39:02             1  fgymSoTvjKPEgaIJqsiH   \n",
              "15685218  2021-12-31   19:39:02             1  fgymSoTvjKPEgaIJqsiH   \n",
              "\n",
              "         utm_medium          utm_campaign         utm_adcontent  ...  \\\n",
              "0            banner  LEoPHuyFvzoNfnzGgfcd  vCIpmpaGBnIQhyYNkXqp  ...   \n",
              "1            banner  LEoPHuyFvzoNfnzGgfcd  vCIpmpaGBnIQhyYNkXqp  ...   \n",
              "2               cpm  FTjNLDyTrXaWYgZymFkV  xhoenQgDQsgfEPYNPwKO  ...   \n",
              "3            banner  LEoPHuyFvzoNfnzGgfcd  vCIpmpaGBnIQhyYNkXqp  ...   \n",
              "4            banner  LEoPHuyFvzoNfnzGgfcd  vCIpmpaGBnIQhyYNkXqp  ...   \n",
              "...             ...                   ...                   ...  ...   \n",
              "15685214        cpm  FTjNLDyTrXaWYgZymFkV  yYdBRbPmBMUZHXwqGxNx  ...   \n",
              "15685215        cpm  FTjNLDyTrXaWYgZymFkV  yYdBRbPmBMUZHXwqGxNx  ...   \n",
              "15685216        cpm  FTjNLDyTrXaWYgZymFkV  yYdBRbPmBMUZHXwqGxNx  ...   \n",
              "15685217        cpm  FTjNLDyTrXaWYgZymFkV  yYdBRbPmBMUZHXwqGxNx  ...   \n",
              "15685218        cpm  FTjNLDyTrXaWYgZymFkV  yYdBRbPmBMUZHXwqGxNx  ...   \n",
              "\n",
              "         geo_country     geo_city    hit_date hit_number hit_type  \\\n",
              "0             Russia     Zlatoust  2021-11-24          3    event   \n",
              "1             Russia     Zlatoust  2021-11-24          4    event   \n",
              "2             Russia       Moscow  2021-11-14          3    event   \n",
              "3             Russia  Krasnoyarsk  2021-12-28         10    event   \n",
              "4             Russia  Krasnoyarsk  2021-12-28         13    event   \n",
              "...              ...          ...         ...        ...      ...   \n",
              "15685214      Russia       Moscow  2021-12-31         11    event   \n",
              "15685215      Russia       Moscow  2021-12-31         16    event   \n",
              "15685216      Russia       Moscow  2021-12-31          3    event   \n",
              "15685217      Russia       Moscow  2021-12-31         14    event   \n",
              "15685218      Russia       Moscow  2021-12-31         17    event   \n",
              "\n",
              "                                              hit_page_path    event_category  \\\n",
              "0                                    podpiska.sberauto.com/     sub_page_view   \n",
              "1                                    podpiska.sberauto.com/  sub_button_click   \n",
              "2                                    podpiska.sberauto.com/     sub_page_view   \n",
              "3         sberauto.com/cars?utm_source_initial=sbol&utm_...       search_form   \n",
              "4         sberauto.com/cars?utm_source_initial=sbol&utm_...       search_form   \n",
              "...                                                     ...               ...   \n",
              "15685214  sberauto.com/cars/all/bmw/3-serii/bde2c9d5?utm...          card_web   \n",
              "15685215  sberauto.com/cars/all/bmw/3-serii/bde2c9d5?utm...          card_web   \n",
              "15685216  sberauto.com/cars/all/mercedes-benz/e-klasse/d...          card_web   \n",
              "15685217  sberauto.com/cars/all/bmw/3-serii/bde2c9d5?utm...          card_web   \n",
              "15685218  sberauto.com/cars/all/bmw/3-serii/bde2c9d5?utm...          card_web   \n",
              "\n",
              "                 event_action           event_label target_event  \n",
              "0                 sub_landing                 other        False  \n",
              "1         sub_view_cars_click  vodKSlUobUWTVlgsJqdI        False  \n",
              "2                 sub_landing                 other        False  \n",
              "3          search_form_region  KWTCzSIXzoqUWjfUQMgP        False  \n",
              "4          search_form_region  CBqnBQaKoQUyWJhLcxxN        False  \n",
              "...                       ...                   ...          ...  \n",
              "15685214            view_card                 other        False  \n",
              "15685215        view_new_card                 other        False  \n",
              "15685216            view_card                 other        False  \n",
              "15685217            view_card                 other        False  \n",
              "15685218            view_card                 other        False  \n",
              "\n",
              "[15685219 rows x 24 columns]"
            ],
            "text/html": [
              "<div>\n",
              "<style scoped>\n",
              "    .dataframe tbody tr th:only-of-type {\n",
              "        vertical-align: middle;\n",
              "    }\n",
              "\n",
              "    .dataframe tbody tr th {\n",
              "        vertical-align: top;\n",
              "    }\n",
              "\n",
              "    .dataframe thead th {\n",
              "        text-align: right;\n",
              "    }\n",
              "</style>\n",
              "<table border=\"1\" class=\"dataframe\">\n",
              "  <thead>\n",
              "    <tr style=\"text-align: right;\">\n",
              "      <th></th>\n",
              "      <th>Unnamed: 0</th>\n",
              "      <th>session_id</th>\n",
              "      <th>client_id</th>\n",
              "      <th>visit_date</th>\n",
              "      <th>visit_time</th>\n",
              "      <th>visit_number</th>\n",
              "      <th>utm_source</th>\n",
              "      <th>utm_medium</th>\n",
              "      <th>utm_campaign</th>\n",
              "      <th>utm_adcontent</th>\n",
              "      <th>...</th>\n",
              "      <th>geo_country</th>\n",
              "      <th>geo_city</th>\n",
              "      <th>hit_date</th>\n",
              "      <th>hit_number</th>\n",
              "      <th>hit_type</th>\n",
              "      <th>hit_page_path</th>\n",
              "      <th>event_category</th>\n",
              "      <th>event_action</th>\n",
              "      <th>event_label</th>\n",
              "      <th>target_event</th>\n",
              "    </tr>\n",
              "  </thead>\n",
              "  <tbody>\n",
              "    <tr>\n",
              "      <th>0</th>\n",
              "      <td>0</td>\n",
              "      <td>9055434745589932991.1637753792.1637753792</td>\n",
              "      <td>2.108383e+09</td>\n",
              "      <td>2021-11-24</td>\n",
              "      <td>14:36:32</td>\n",
              "      <td>1</td>\n",
              "      <td>ZpYIoDJMcFzVoPFsHGJL</td>\n",
              "      <td>banner</td>\n",
              "      <td>LEoPHuyFvzoNfnzGgfcd</td>\n",
              "      <td>vCIpmpaGBnIQhyYNkXqp</td>\n",
              "      <td>...</td>\n",
              "      <td>Russia</td>\n",
              "      <td>Zlatoust</td>\n",
              "      <td>2021-11-24</td>\n",
              "      <td>3</td>\n",
              "      <td>event</td>\n",
              "      <td>podpiska.sberauto.com/</td>\n",
              "      <td>sub_page_view</td>\n",
              "      <td>sub_landing</td>\n",
              "      <td>other</td>\n",
              "      <td>False</td>\n",
              "    </tr>\n",
              "    <tr>\n",
              "      <th>1</th>\n",
              "      <td>1</td>\n",
              "      <td>9055434745589932991.1637753792.1637753792</td>\n",
              "      <td>2.108383e+09</td>\n",
              "      <td>2021-11-24</td>\n",
              "      <td>14:36:32</td>\n",
              "      <td>1</td>\n",
              "      <td>ZpYIoDJMcFzVoPFsHGJL</td>\n",
              "      <td>banner</td>\n",
              "      <td>LEoPHuyFvzoNfnzGgfcd</td>\n",
              "      <td>vCIpmpaGBnIQhyYNkXqp</td>\n",
              "      <td>...</td>\n",
              "      <td>Russia</td>\n",
              "      <td>Zlatoust</td>\n",
              "      <td>2021-11-24</td>\n",
              "      <td>4</td>\n",
              "      <td>event</td>\n",
              "      <td>podpiska.sberauto.com/</td>\n",
              "      <td>sub_button_click</td>\n",
              "      <td>sub_view_cars_click</td>\n",
              "      <td>vodKSlUobUWTVlgsJqdI</td>\n",
              "      <td>False</td>\n",
              "    </tr>\n",
              "    <tr>\n",
              "      <th>2</th>\n",
              "      <td>2</td>\n",
              "      <td>905544597018549464.1636867290.1636867290</td>\n",
              "      <td>2.108385e+08</td>\n",
              "      <td>2021-11-14</td>\n",
              "      <td>08:21:30</td>\n",
              "      <td>1</td>\n",
              "      <td>MvfHsxITijuriZxsqZqt</td>\n",
              "      <td>cpm</td>\n",
              "      <td>FTjNLDyTrXaWYgZymFkV</td>\n",
              "      <td>xhoenQgDQsgfEPYNPwKO</td>\n",
              "      <td>...</td>\n",
              "      <td>Russia</td>\n",
              "      <td>Moscow</td>\n",
              "      <td>2021-11-14</td>\n",
              "      <td>3</td>\n",
              "      <td>event</td>\n",
              "      <td>podpiska.sberauto.com/</td>\n",
              "      <td>sub_page_view</td>\n",
              "      <td>sub_landing</td>\n",
              "      <td>other</td>\n",
              "      <td>False</td>\n",
              "    </tr>\n",
              "    <tr>\n",
              "      <th>3</th>\n",
              "      <td>3</td>\n",
              "      <td>9055446045651783499.1640648526.1640648526</td>\n",
              "      <td>2.108385e+09</td>\n",
              "      <td>2021-12-28</td>\n",
              "      <td>02:42:06</td>\n",
              "      <td>1</td>\n",
              "      <td>ZpYIoDJMcFzVoPFsHGJL</td>\n",
              "      <td>banner</td>\n",
              "      <td>LEoPHuyFvzoNfnzGgfcd</td>\n",
              "      <td>vCIpmpaGBnIQhyYNkXqp</td>\n",
              "      <td>...</td>\n",
              "      <td>Russia</td>\n",
              "      <td>Krasnoyarsk</td>\n",
              "      <td>2021-12-28</td>\n",
              "      <td>10</td>\n",
              "      <td>event</td>\n",
              "      <td>sberauto.com/cars?utm_source_initial=sbol&amp;utm_...</td>\n",
              "      <td>search_form</td>\n",
              "      <td>search_form_region</td>\n",
              "      <td>KWTCzSIXzoqUWjfUQMgP</td>\n",
              "      <td>False</td>\n",
              "    </tr>\n",
              "    <tr>\n",
              "      <th>4</th>\n",
              "      <td>4</td>\n",
              "      <td>9055446045651783499.1640648526.1640648526</td>\n",
              "      <td>2.108385e+09</td>\n",
              "      <td>2021-12-28</td>\n",
              "      <td>02:42:06</td>\n",
              "      <td>1</td>\n",
              "      <td>ZpYIoDJMcFzVoPFsHGJL</td>\n",
              "      <td>banner</td>\n",
              "      <td>LEoPHuyFvzoNfnzGgfcd</td>\n",
              "      <td>vCIpmpaGBnIQhyYNkXqp</td>\n",
              "      <td>...</td>\n",
              "      <td>Russia</td>\n",
              "      <td>Krasnoyarsk</td>\n",
              "      <td>2021-12-28</td>\n",
              "      <td>13</td>\n",
              "      <td>event</td>\n",
              "      <td>sberauto.com/cars?utm_source_initial=sbol&amp;utm_...</td>\n",
              "      <td>search_form</td>\n",
              "      <td>search_form_region</td>\n",
              "      <td>CBqnBQaKoQUyWJhLcxxN</td>\n",
              "      <td>False</td>\n",
              "    </tr>\n",
              "    <tr>\n",
              "      <th>...</th>\n",
              "      <td>...</td>\n",
              "      <td>...</td>\n",
              "      <td>...</td>\n",
              "      <td>...</td>\n",
              "      <td>...</td>\n",
              "      <td>...</td>\n",
              "      <td>...</td>\n",
              "      <td>...</td>\n",
              "      <td>...</td>\n",
              "      <td>...</td>\n",
              "      <td>...</td>\n",
              "      <td>...</td>\n",
              "      <td>...</td>\n",
              "      <td>...</td>\n",
              "      <td>...</td>\n",
              "      <td>...</td>\n",
              "      <td>...</td>\n",
              "      <td>...</td>\n",
              "      <td>...</td>\n",
              "      <td>...</td>\n",
              "      <td>...</td>\n",
              "    </tr>\n",
              "    <tr>\n",
              "      <th>15685214</th>\n",
              "      <td>15685214</td>\n",
              "      <td>9055430416266113553.1640968742.1640968742</td>\n",
              "      <td>2.108382e+09</td>\n",
              "      <td>2021-12-31</td>\n",
              "      <td>19:39:02</td>\n",
              "      <td>1</td>\n",
              "      <td>fgymSoTvjKPEgaIJqsiH</td>\n",
              "      <td>cpm</td>\n",
              "      <td>FTjNLDyTrXaWYgZymFkV</td>\n",
              "      <td>yYdBRbPmBMUZHXwqGxNx</td>\n",
              "      <td>...</td>\n",
              "      <td>Russia</td>\n",
              "      <td>Moscow</td>\n",
              "      <td>2021-12-31</td>\n",
              "      <td>11</td>\n",
              "      <td>event</td>\n",
              "      <td>sberauto.com/cars/all/bmw/3-serii/bde2c9d5?utm...</td>\n",
              "      <td>card_web</td>\n",
              "      <td>view_card</td>\n",
              "      <td>other</td>\n",
              "      <td>False</td>\n",
              "    </tr>\n",
              "    <tr>\n",
              "      <th>15685215</th>\n",
              "      <td>15685215</td>\n",
              "      <td>9055430416266113553.1640968742.1640968742</td>\n",
              "      <td>2.108382e+09</td>\n",
              "      <td>2021-12-31</td>\n",
              "      <td>19:39:02</td>\n",
              "      <td>1</td>\n",
              "      <td>fgymSoTvjKPEgaIJqsiH</td>\n",
              "      <td>cpm</td>\n",
              "      <td>FTjNLDyTrXaWYgZymFkV</td>\n",
              "      <td>yYdBRbPmBMUZHXwqGxNx</td>\n",
              "      <td>...</td>\n",
              "      <td>Russia</td>\n",
              "      <td>Moscow</td>\n",
              "      <td>2021-12-31</td>\n",
              "      <td>16</td>\n",
              "      <td>event</td>\n",
              "      <td>sberauto.com/cars/all/bmw/3-serii/bde2c9d5?utm...</td>\n",
              "      <td>card_web</td>\n",
              "      <td>view_new_card</td>\n",
              "      <td>other</td>\n",
              "      <td>False</td>\n",
              "    </tr>\n",
              "    <tr>\n",
              "      <th>15685216</th>\n",
              "      <td>15685216</td>\n",
              "      <td>9055430416266113553.1640968742.1640968742</td>\n",
              "      <td>2.108382e+09</td>\n",
              "      <td>2021-12-31</td>\n",
              "      <td>19:39:02</td>\n",
              "      <td>1</td>\n",
              "      <td>fgymSoTvjKPEgaIJqsiH</td>\n",
              "      <td>cpm</td>\n",
              "      <td>FTjNLDyTrXaWYgZymFkV</td>\n",
              "      <td>yYdBRbPmBMUZHXwqGxNx</td>\n",
              "      <td>...</td>\n",
              "      <td>Russia</td>\n",
              "      <td>Moscow</td>\n",
              "      <td>2021-12-31</td>\n",
              "      <td>3</td>\n",
              "      <td>event</td>\n",
              "      <td>sberauto.com/cars/all/mercedes-benz/e-klasse/d...</td>\n",
              "      <td>card_web</td>\n",
              "      <td>view_card</td>\n",
              "      <td>other</td>\n",
              "      <td>False</td>\n",
              "    </tr>\n",
              "    <tr>\n",
              "      <th>15685217</th>\n",
              "      <td>15685217</td>\n",
              "      <td>9055430416266113553.1640968742.1640968742</td>\n",
              "      <td>2.108382e+09</td>\n",
              "      <td>2021-12-31</td>\n",
              "      <td>19:39:02</td>\n",
              "      <td>1</td>\n",
              "      <td>fgymSoTvjKPEgaIJqsiH</td>\n",
              "      <td>cpm</td>\n",
              "      <td>FTjNLDyTrXaWYgZymFkV</td>\n",
              "      <td>yYdBRbPmBMUZHXwqGxNx</td>\n",
              "      <td>...</td>\n",
              "      <td>Russia</td>\n",
              "      <td>Moscow</td>\n",
              "      <td>2021-12-31</td>\n",
              "      <td>14</td>\n",
              "      <td>event</td>\n",
              "      <td>sberauto.com/cars/all/bmw/3-serii/bde2c9d5?utm...</td>\n",
              "      <td>card_web</td>\n",
              "      <td>view_card</td>\n",
              "      <td>other</td>\n",
              "      <td>False</td>\n",
              "    </tr>\n",
              "    <tr>\n",
              "      <th>15685218</th>\n",
              "      <td>15685218</td>\n",
              "      <td>9055430416266113553.1640968742.1640968742</td>\n",
              "      <td>2.108382e+09</td>\n",
              "      <td>2021-12-31</td>\n",
              "      <td>19:39:02</td>\n",
              "      <td>1</td>\n",
              "      <td>fgymSoTvjKPEgaIJqsiH</td>\n",
              "      <td>cpm</td>\n",
              "      <td>FTjNLDyTrXaWYgZymFkV</td>\n",
              "      <td>yYdBRbPmBMUZHXwqGxNx</td>\n",
              "      <td>...</td>\n",
              "      <td>Russia</td>\n",
              "      <td>Moscow</td>\n",
              "      <td>2021-12-31</td>\n",
              "      <td>17</td>\n",
              "      <td>event</td>\n",
              "      <td>sberauto.com/cars/all/bmw/3-serii/bde2c9d5?utm...</td>\n",
              "      <td>card_web</td>\n",
              "      <td>view_card</td>\n",
              "      <td>other</td>\n",
              "      <td>False</td>\n",
              "    </tr>\n",
              "  </tbody>\n",
              "</table>\n",
              "<p>15685219 rows × 24 columns</p>\n",
              "</div>"
            ]
          },
          "metadata": {},
          "execution_count": 2
        }
      ],
      "source": [
        "# Загружаю датасет из прошлого файла\n",
        "df = pd.read_csv('df_union.csv')\n",
        "\n",
        "df"
      ]
    },
    {
      "cell_type": "code",
      "source": [
        "df.info()"
      ],
      "metadata": {
        "id": "9VYTUkEP6Ett",
        "colab": {
          "base_uri": "https://localhost:8080/"
        },
        "outputId": "15de8338-1fae-4be0-e06a-1e3bc6a14b74"
      },
      "execution_count": 3,
      "outputs": [
        {
          "output_type": "stream",
          "name": "stdout",
          "text": [
            "<class 'pandas.core.frame.DataFrame'>\n",
            "RangeIndex: 15685219 entries, 0 to 15685218\n",
            "Data columns (total 24 columns):\n",
            " #   Column                    Dtype  \n",
            "---  ------                    -----  \n",
            " 0   Unnamed: 0                int64  \n",
            " 1   session_id                object \n",
            " 2   client_id                 float64\n",
            " 3   visit_date                object \n",
            " 4   visit_time                object \n",
            " 5   visit_number              int64  \n",
            " 6   utm_source                object \n",
            " 7   utm_medium                object \n",
            " 8   utm_campaign              object \n",
            " 9   utm_adcontent             object \n",
            " 10  device_category           object \n",
            " 11  device_brand              object \n",
            " 12  device_screen_resolution  object \n",
            " 13  device_browser            object \n",
            " 14  geo_country               object \n",
            " 15  geo_city                  object \n",
            " 16  hit_date                  object \n",
            " 17  hit_number                int64  \n",
            " 18  hit_type                  object \n",
            " 19  hit_page_path             object \n",
            " 20  event_category            object \n",
            " 21  event_action              object \n",
            " 22  event_label               object \n",
            " 23  target_event              bool   \n",
            "dtypes: bool(1), float64(1), int64(3), object(19)\n",
            "memory usage: 2.7+ GB\n"
          ]
        }
      ]
    },
    {
      "cell_type": "markdown",
      "source": [
        "#Ответы на вопросы продуктовой команды"
      ],
      "metadata": {
        "id": "Dvia1eRJqdWI"
      }
    },
    {
      "cell_type": "markdown",
      "source": [
        "##Вопрос: Из каких источников / кампаний / устройств / локаций к нам идёт самый целевой трафик (и с точки зрения объёма трафика, и с точки зрения CR)?\n",
        "\n"
      ],
      "metadata": {
        "id": "nmnhoQ8cqmvW"
      }
    },
    {
      "cell_type": "markdown",
      "source": [
        "###С точки зрения объема трафика"
      ],
      "metadata": {
        "id": "UunItLbiq_pt"
      }
    },
    {
      "cell_type": "code",
      "source": [
        "df1 = df[df['target_event']]"
      ],
      "metadata": {
        "id": "HitNrSydJLpL"
      },
      "execution_count": 4,
      "outputs": []
    },
    {
      "cell_type": "markdown",
      "source": [
        "####Источники"
      ],
      "metadata": {
        "id": "MLzOOYEbKkwP"
      }
    },
    {
      "cell_type": "markdown",
      "source": [],
      "metadata": {
        "id": "mVjxsY0JKhng"
      }
    },
    {
      "cell_type": "code",
      "source": [
        "values = df1.utm_medium.value_counts()\n",
        "values = values.drop(labels='(none)')\n",
        "values = values[:10]\n",
        "values"
      ],
      "metadata": {
        "id": "JLPugX7SrGwl",
        "colab": {
          "base_uri": "https://localhost:8080/"
        },
        "outputId": "d474ae44-7098-4e5e-a38f-de1c4f80c963"
      },
      "execution_count": 5,
      "outputs": [
        {
          "output_type": "execute_result",
          "data": {
            "text/plain": [
              "utm_medium\n",
              "banner             30290\n",
              "cpc                20968\n",
              "referral           17332\n",
              "cpm                 4883\n",
              "organic             4078\n",
              "push                1864\n",
              "email                838\n",
              "blogger_channel      463\n",
              "smartbanner          378\n",
              "cpa                  324\n",
              "Name: count, dtype: int64"
            ]
          },
          "metadata": {},
          "execution_count": 5
        }
      ]
    },
    {
      "cell_type": "code",
      "source": [
        "plt.barh(values.index, values.values)\n",
        "plt.xlabel('Источники')\n",
        "plt.ylabel('Трафик')"
      ],
      "metadata": {
        "id": "syGJZNDevMoN",
        "colab": {
          "base_uri": "https://localhost:8080/",
          "height": 467
        },
        "outputId": "a0f05797-f77d-4550-ced9-b258b6294f97"
      },
      "execution_count": 6,
      "outputs": [
        {
          "output_type": "execute_result",
          "data": {
            "text/plain": [
              "Text(0, 0.5, 'Трафик')"
            ]
          },
          "metadata": {},
          "execution_count": 6
        },
        {
          "output_type": "display_data",
          "data": {
            "text/plain": [
              "<Figure size 640x480 with 1 Axes>"
            ],
            "image/png": "[encoded data removed]"
          },
          "metadata": {}
        }
      ]
    },
    {
      "cell_type": "markdown",
      "source": [
        "С точки зрения объема трафика, целевой трафик идет из таких источников как: banner, cpc, referral. (Лидеры по трафику изображены на графике)"
      ],
      "metadata": {
        "id": "9pOpuO36xXet"
      }
    },
    {
      "cell_type": "markdown",
      "source": [
        "####Кампании"
      ],
      "metadata": {
        "id": "p-bEqCvjKn3O"
      }
    },
    {
      "cell_type": "code",
      "source": [
        "values = df1.utm_campaign.value_counts().drop(labels='other')\n",
        "values = values[:10]\n",
        "values"
      ],
      "metadata": {
        "id": "ZS1GdRV0y08b",
        "colab": {
          "base_uri": "https://localhost:8080/"
        },
        "outputId": "3c57da95-0a24-435a-8021-9b55130326a5"
      },
      "execution_count": 7,
      "outputs": [
        {
          "output_type": "execute_result",
          "data": {
            "text/plain": [
              "utm_campaign\n",
              "LTuZkdKfxRGVceoWkVyg    37744\n",
              "LEoPHuyFvzoNfnzGgfcd    18326\n",
              "gecBYcKZCPMcVYdSSzKP     9619\n",
              "FTjNLDyTrXaWYgZymFkV     4598\n",
              "sbJRYgVfvcnqKJNDDYIr     1275\n",
              "XHNUiSKKGTEpSAlaVMFQ      927\n",
              "SgIUDYUKnyWHVowUOqid      779\n",
              "LwJZxKuWmvOhPsaCeRjG      580\n",
              "zxoiLxhuSIFrCeTLQVWZ      527\n",
              "YCKgTzTDywjcWyQudGch      467\n",
              "Name: count, dtype: int64"
            ]
          },
          "metadata": {},
          "execution_count": 7
        }
      ]
    },
    {
      "cell_type": "code",
      "source": [
        "plt.barh(values.index, values.values)\n",
        "plt.xlabel('Кампании')\n",
        "plt.ylabel('Трафик')"
      ],
      "metadata": {
        "id": "sAJ_5aWb3Yzy",
        "colab": {
          "base_uri": "https://localhost:8080/",
          "height": 467
        },
        "outputId": "e0bf92fa-d2cb-4305-a0b2-5d584a40ea25"
      },
      "execution_count": 8,
      "outputs": [
        {
          "output_type": "execute_result",
          "data": {
            "text/plain": [
              "Text(0, 0.5, 'Трафик')"
            ]
          },
          "metadata": {},
          "execution_count": 8
        },
        {
          "output_type": "display_data",
          "data": {
            "text/plain": [
              "<Figure size 640x480 with 1 Axes>"
            ],
            "image/png": "[encoded data removed]"
          },
          "metadata": {}
        }
      ]
    },
    {
      "cell_type": "markdown",
      "source": [
        "Лидеры по трафику изображены на графике"
      ],
      "metadata": {
        "id": "ZDdbCfaO5s7m"
      }
    },
    {
      "cell_type": "code",
      "source": [
        "campaigns=str(values[:3])\n",
        "campaigns = campaigns.replace('utm_campaign', '')"
      ],
      "metadata": {
        "id": "MoGWjWr34VXD"
      },
      "execution_count": 9,
      "outputs": []
    },
    {
      "cell_type": "code",
      "source": [
        "print(f'С точки зрения объема трафика, целевой трафик идет из таких компаний как: {campaigns}')"
      ],
      "metadata": {
        "id": "C3aDjuOj3qke",
        "colab": {
          "base_uri": "https://localhost:8080/"
        },
        "outputId": "f6bbf8b5-2726-4047-dc2e-8af83cfe5909"
      },
      "execution_count": 10,
      "outputs": [
        {
          "output_type": "stream",
          "name": "stdout",
          "text": [
            "С точки зрения объема трафика, целевой трафик идет из таких компаний как: \n",
            "LTuZkdKfxRGVceoWkVyg    37744\n",
            "LEoPHuyFvzoNfnzGgfcd    18326\n",
            "gecBYcKZCPMcVYdSSzKP     9619\n",
            "Name: count, dtype: int64\n"
          ]
        }
      ]
    },
    {
      "cell_type": "markdown",
      "source": [
        "####Устройства"
      ],
      "metadata": {
        "id": "qN58qV0fKvYJ"
      }
    },
    {
      "cell_type": "code",
      "source": [
        "values = df1.device_brand.value_counts().drop(labels='(not set)')\n",
        "values = values[:10]\n",
        "values"
      ],
      "metadata": {
        "id": "pMP8dbOT5yFO",
        "colab": {
          "base_uri": "https://localhost:8080/"
        },
        "outputId": "70a7e280-d193-4227-d7ed-14ad1f38b72e"
      },
      "execution_count": 11,
      "outputs": [
        {
          "output_type": "execute_result",
          "data": {
            "text/plain": [
              "device_brand\n",
              "Apple      28818\n",
              "other      25255\n",
              "Samsung    20050\n",
              "Xiaomi     13340\n",
              "Huawei      9182\n",
              "Realme       859\n",
              "OPPO         805\n",
              "Vivo         679\n",
              "Nokia        313\n",
              "Sony         277\n",
              "Name: count, dtype: int64"
            ]
          },
          "metadata": {},
          "execution_count": 11
        }
      ]
    },
    {
      "cell_type": "code",
      "source": [
        "plt.barh(values.index, values.values)\n",
        "plt.xlabel('Устройства')\n",
        "plt.ylabel('Трафик')"
      ],
      "metadata": {
        "colab": {
          "base_uri": "https://localhost:8080/",
          "height": 467
        },
        "id": "yBmJh27fLlFF",
        "outputId": "fbe9a6db-f80a-4eba-d86e-c803560b7d17"
      },
      "execution_count": 12,
      "outputs": [
        {
          "output_type": "execute_result",
          "data": {
            "text/plain": [
              "Text(0, 0.5, 'Трафик')"
            ]
          },
          "metadata": {},
          "execution_count": 12
        },
        {
          "output_type": "display_data",
          "data": {
            "text/plain": [
              "<Figure size 640x480 with 1 Axes>"
            ],
            "image/png": "[encoded data removed]"
          },
          "metadata": {}
        }
      ]
    },
    {
      "cell_type": "markdown",
      "source": [
        "*бОльшая часть значений \"other\" - это десктопные устройства"
      ],
      "metadata": {
        "id": "qd4rcwMTNkho"
      }
    },
    {
      "cell_type": "markdown",
      "source": [
        "С точки зрения объема трафика, целевой трафик идет из таких устройств как: Apple, Samsung, Xiaomi, Hauwei(мобильные) и с десктопных устройств"
      ],
      "metadata": {
        "id": "rPwI0ueTNNQb"
      }
    },
    {
      "cell_type": "markdown",
      "source": [
        "####Локации"
      ],
      "metadata": {
        "id": "Yz5W--ErP583"
      }
    },
    {
      "cell_type": "code",
      "source": [
        "values = df1.geo_country.value_counts().drop(labels='(not set)')\n",
        "values = values[:10]\n",
        "values"
      ],
      "metadata": {
        "colab": {
          "base_uri": "https://localhost:8080/"
        },
        "id": "gjmOk_sGQCNJ",
        "outputId": "2da656b7-a7ef-4261-f37d-fb3346cfdef8"
      },
      "execution_count": 13,
      "outputs": [
        {
          "output_type": "execute_result",
          "data": {
            "text/plain": [
              "geo_country\n",
              "Russia            100888\n",
              "Ukraine              358\n",
              "Germany              148\n",
              "United States        124\n",
              "Kazakhstan           102\n",
              "Turkey                94\n",
              "Belarus               92\n",
              "United Kingdom        74\n",
              "Georgia               65\n",
              "Netherlands           61\n",
              "Name: count, dtype: int64"
            ]
          },
          "metadata": {},
          "execution_count": 13
        }
      ]
    },
    {
      "cell_type": "code",
      "source": [
        "values = df1.geo_city.value_counts().drop(labels='(not set)')\n",
        "values = values[:10]\n",
        "values"
      ],
      "metadata": {
        "colab": {
          "base_uri": "https://localhost:8080/"
        },
        "id": "mVFvnEMXQk2E",
        "outputId": "54c1cf41-a395-4982-c597-97af54eada57"
      },
      "execution_count": 14,
      "outputs": [
        {
          "output_type": "execute_result",
          "data": {
            "text/plain": [
              "geo_city\n",
              "Moscow              51249\n",
              "Saint Petersburg    13736\n",
              "Kazan                2515\n",
              "Krasnodar            2186\n",
              "Yekaterinburg        1604\n",
              "Samara               1415\n",
              "Ufa                  1290\n",
              "Nizhny Novgorod      1022\n",
              "Tula                  950\n",
              "Novosibirsk           912\n",
              "Name: count, dtype: int64"
            ]
          },
          "metadata": {},
          "execution_count": 14
        }
      ]
    },
    {
      "cell_type": "code",
      "source": [
        "plt.barh(values.index, values.values)\n",
        "plt.xlabel('Локации')\n",
        "plt.ylabel('Трафик');"
      ],
      "metadata": {
        "colab": {
          "base_uri": "https://localhost:8080/",
          "height": 449
        },
        "id": "P_5Zq8Z-QuMm",
        "outputId": "76d36061-b2bb-4793-cdfd-199f07581b36"
      },
      "execution_count": 15,
      "outputs": [
        {
          "output_type": "display_data",
          "data": {
            "text/plain": [
              "<Figure size 640x480 with 1 Axes>"
            ],
            "image/png": "[encoded data removed]"
          },
          "metadata": {}
        }
      ]
    },
    {
      "cell_type": "markdown",
      "source": [
        "С точки зрения объема трафика, целевой трафик идет из, перимущественно, Русских городов, а именно из Москвы и Санкт-Петербурга"
      ],
      "metadata": {
        "id": "IhBRu_1HRIMP"
      }
    },
    {
      "cell_type": "markdown",
      "source": [
        "###С точки зрения CR"
      ],
      "metadata": {
        "id": "Xz0i5SOuRfxG"
      }
    },
    {
      "cell_type": "markdown",
      "source": [
        "####Источники"
      ],
      "metadata": {
        "id": "EPHh5jSRR7sU"
      }
    },
    {
      "cell_type": "code",
      "source": [
        "all = df.utm_medium.value_counts().drop(labels=['(none)', '(not set)'])[:30]\n",
        "all"
      ],
      "metadata": {
        "colab": {
          "base_uri": "https://localhost:8080/"
        },
        "id": "ulaa9pVVR5aP",
        "outputId": "89a58a0a-4f37-4a6a-aa54-4756c52fa270"
      },
      "execution_count": 16,
      "outputs": [
        {
          "output_type": "execute_result",
          "data": {
            "text/plain": [
              "utm_medium\n",
              "banner             4898563\n",
              "cpc                3300503\n",
              "referral           1920459\n",
              "cpm                 738765\n",
              "organic             646182\n",
              "push                252864\n",
              "email               241084\n",
              "stories              95604\n",
              "blogger_channel      87087\n",
              "smartbanner          49146\n",
              "tg                   33822\n",
              "blogger_stories      33068\n",
              "cpa                  31586\n",
              "cpv                  27395\n",
              "post                 21531\n",
              "outlook              14702\n",
              "smm                  12388\n",
              "clicks                8988\n",
              "app                   3806\n",
              "info_text             3401\n",
              "blogger_header        2888\n",
              "sms                   2051\n",
              "landing               1069\n",
              "partner                582\n",
              "CPM                    412\n",
              "link                   372\n",
              "yandex_cpc             247\n",
              "vk_smm                 211\n",
              "medium                 153\n",
              "static                 132\n",
              "Name: count, dtype: int64"
            ]
          },
          "metadata": {},
          "execution_count": 16
        }
      ]
    },
    {
      "cell_type": "code",
      "source": [
        "target = df[df['target_event']].utm_medium.value_counts().drop(labels=['(none)', '(not set)'])\n",
        "target"
      ],
      "metadata": {
        "colab": {
          "base_uri": "https://localhost:8080/"
        },
        "id": "C65MS8PT6nUB",
        "outputId": "453bde3e-9805-4e32-edc2-f1bf3b031ec8"
      },
      "execution_count": 17,
      "outputs": [
        {
          "output_type": "execute_result",
          "data": {
            "text/plain": [
              "utm_medium\n",
              "banner             30290\n",
              "cpc                20968\n",
              "referral           17332\n",
              "cpm                 4883\n",
              "organic             4078\n",
              "push                1864\n",
              "email                838\n",
              "blogger_channel      463\n",
              "smartbanner          378\n",
              "cpa                  324\n",
              "smm                  182\n",
              "stories              164\n",
              "cpv                  159\n",
              "link                  86\n",
              "post                  81\n",
              "clicks                79\n",
              "tg                    69\n",
              "landing               50\n",
              "blogger_stories       49\n",
              "outlook               45\n",
              "sms                   36\n",
              "app                   28\n",
              "medium                 6\n",
              "fb_smm                 5\n",
              "info_text              4\n",
              "CPM                    4\n",
              "static                 2\n",
              "partner                2\n",
              "blogger_header         2\n",
              "social                 1\n",
              "dom_click              1\n",
              "yandex_cpc             1\n",
              "Name: count, dtype: int64"
            ]
          },
          "metadata": {},
          "execution_count": 17
        }
      ]
    },
    {
      "cell_type": "code",
      "source": [
        "cr1 = target.div(all, axis = 0).dropna()\n",
        "cr1 = cr1.sort_values(ascending=False)\n",
        "cr1 = cr1[:8]\n",
        "cr1"
      ],
      "metadata": {
        "colab": {
          "base_uri": "https://localhost:8080/"
        },
        "id": "1GBBx4qO9shV",
        "outputId": "803d6cd7-4f63-4239-ad1f-5070ae4a3712"
      },
      "execution_count": 18,
      "outputs": [
        {
          "output_type": "execute_result",
          "data": {
            "text/plain": [
              "utm_medium\n",
              "link       0.231183\n",
              "landing    0.046773\n",
              "medium     0.039216\n",
              "sms        0.017552\n",
              "static     0.015152\n",
              "smm        0.014692\n",
              "cpa        0.010258\n",
              "CPM        0.009709\n",
              "Name: count, dtype: float64"
            ]
          },
          "metadata": {},
          "execution_count": 18
        }
      ]
    },
    {
      "cell_type": "code",
      "source": [
        "plt.barh(cr1.index, cr1.values)\n",
        "plt.xlabel('Conversion Rate')\n",
        "plt.ylabel('источники');"
      ],
      "metadata": {
        "colab": {
          "base_uri": "https://localhost:8080/",
          "height": 449
        },
        "id": "yfupnuLn-Vxp",
        "outputId": "da7507eb-a41e-46fc-eb94-95148fe09fe5"
      },
      "execution_count": 19,
      "outputs": [
        {
          "output_type": "display_data",
          "data": {
            "text/plain": [
              "<Figure size 640x480 with 1 Axes>"
            ],
            "image/png": "[encoded data removed]"
          },
          "metadata": {}
        }
      ]
    },
    {
      "cell_type": "markdown",
      "source": [
        "Лидеры по трафику изображены на рисунке"
      ],
      "metadata": {
        "id": "Hz-vHmVXBQAu"
      }
    },
    {
      "cell_type": "markdown",
      "source": [
        "С точки зрения CR, к нам идет самый целевой трафик из источника link. На втором и третьем месте landing и medium"
      ],
      "metadata": {
        "id": "XYhUONYZA4G2"
      }
    },
    {
      "cell_type": "markdown",
      "source": [
        "####Камапании"
      ],
      "metadata": {
        "id": "Bm7dYBXHBgXP"
      }
    },
    {
      "cell_type": "code",
      "source": [
        "all = df.utm_campaign.value_counts()[:270]\n",
        "all"
      ],
      "metadata": {
        "id": "BMG-DkwIBi0C",
        "colab": {
          "base_uri": "https://localhost:8080/"
        },
        "outputId": "dd09aabb-5248-4259-fac5-0eecc99ba05c"
      },
      "execution_count": 20,
      "outputs": [
        {
          "output_type": "execute_result",
          "data": {
            "text/plain": [
              "utm_campaign\n",
              "LTuZkdKfxRGVceoWkVyg    5166521\n",
              "LEoPHuyFvzoNfnzGgfcd    3177265\n",
              "other                   2198873\n",
              "gecBYcKZCPMcVYdSSzKP    1138547\n",
              "FTjNLDyTrXaWYgZymFkV     750959\n",
              "                         ...   \n",
              "DfoBrvtzFbohFKcUrmMV        147\n",
              "UFjBFJhIpQsfVIWQKdaW        144\n",
              "GqeiAYRNSJPqyMnJQPkv        142\n",
              "VfhMXDwtKbBKHfyoCvdn        141\n",
              "UCpELiEcSpcQwocxJRuB        137\n",
              "Name: count, Length: 270, dtype: int64"
            ]
          },
          "metadata": {},
          "execution_count": 20
        }
      ]
    },
    {
      "cell_type": "code",
      "source": [
        "target = df[df['target_event']].utm_campaign.value_counts()\n",
        "target"
      ],
      "metadata": {
        "colab": {
          "base_uri": "https://localhost:8080/"
        },
        "id": "4utW4YhXDHgw",
        "outputId": "9bc8d903-b480-4d5a-a233-23df322d30d9"
      },
      "execution_count": 21,
      "outputs": [
        {
          "output_type": "execute_result",
          "data": {
            "text/plain": [
              "utm_campaign\n",
              "LTuZkdKfxRGVceoWkVyg    37744\n",
              "LEoPHuyFvzoNfnzGgfcd    18326\n",
              "other                   16550\n",
              "gecBYcKZCPMcVYdSSzKP     9619\n",
              "FTjNLDyTrXaWYgZymFkV     4598\n",
              "                        ...  \n",
              "mtQufDECJCXyKwpKQPvz        1\n",
              "gNOygIoePsujXLVGYNZi        1\n",
              "gaFBXpMUrvHAilRkjPSS        1\n",
              "WYZTTdhWPjttFYmcGjBP        1\n",
              "rKHSSStqLNTbdGVZMwfG        1\n",
              "Name: count, Length: 224, dtype: int64"
            ]
          },
          "metadata": {},
          "execution_count": 21
        }
      ]
    },
    {
      "cell_type": "code",
      "source": [
        "cr2 = target.div(all, axis=0).sort_values(ascending=False)[:10]\n",
        "cr2"
      ],
      "metadata": {
        "colab": {
          "base_uri": "https://localhost:8080/"
        },
        "id": "z89eb5ZUHDm_",
        "outputId": "893e2292-6956-4737-ad02-87b60b495dee"
      },
      "execution_count": 22,
      "outputs": [
        {
          "output_type": "execute_result",
          "data": {
            "text/plain": [
              "utm_campaign\n",
              "IRKNegNgOUQLwudzMElF    0.229412\n",
              "TOSjvKcurFlcKJijjpYP    0.195540\n",
              "lndNIerCYECRQvBTyTye    0.145299\n",
              "hJvOVTMdhkqIBqjVrsOL    0.081983\n",
              "niQdLVcBlNylrEuNcCYH    0.060403\n",
              "vZqcBrFwxYPoYzJyhYGI    0.055556\n",
              "kwdmElMUPDZaLQdgjcsI    0.052728\n",
              "KCcrgoFqYxCpSjdRyJjZ    0.042955\n",
              "emlBaVkgLVRqbEVOSSXt    0.035757\n",
              "DsqwamlMwRgMTyspCjFR    0.033924\n",
              "Name: count, dtype: float64"
            ]
          },
          "metadata": {},
          "execution_count": 22
        }
      ]
    },
    {
      "cell_type": "code",
      "source": [
        "plt.barh(cr2.index, cr2.values)\n",
        "plt.xlabel('Conversion Rate')\n",
        "plt.ylabel('Кампании');"
      ],
      "metadata": {
        "colab": {
          "base_uri": "https://localhost:8080/",
          "height": 449
        },
        "id": "I9Jar5QNJXz1",
        "outputId": "68a29dc0-5197-4e32-c261-699da3b1d828"
      },
      "execution_count": 23,
      "outputs": [
        {
          "output_type": "display_data",
          "data": {
            "text/plain": [
              "<Figure size 640x480 with 1 Axes>"
            ],
            "image/png": "[encoded data removed]"
          },
          "metadata": {}
        }
      ]
    },
    {
      "cell_type": "markdown",
      "source": [
        "Лидеры по трафику изображены на графике"
      ],
      "metadata": {
        "id": "qQX0TFmPJw1I"
      }
    },
    {
      "cell_type": "code",
      "source": [
        "campaign = str(cr2[:3]).replace('utm_campaign', '')\n",
        "print(f'С точки зрения CR, к нам идет самый целевой трафик из компаний: {campaign}')"
      ],
      "metadata": {
        "colab": {
          "base_uri": "https://localhost:8080/"
        },
        "id": "Gb-hgIOcJzZN",
        "outputId": "88284ceb-27cc-4701-b791-151f8c7963cc"
      },
      "execution_count": 24,
      "outputs": [
        {
          "output_type": "stream",
          "name": "stdout",
          "text": [
            "С точки зрения CR, к нам идет самый целевой трафик из компаний: \n",
            "IRKNegNgOUQLwudzMElF    0.229412\n",
            "TOSjvKcurFlcKJijjpYP    0.195540\n",
            "lndNIerCYECRQvBTyTye    0.145299\n",
            "Name: count, dtype: float64\n"
          ]
        }
      ]
    },
    {
      "cell_type": "markdown",
      "source": [
        "####Устройства"
      ],
      "metadata": {
        "id": "AX1-oXwGKYlq"
      }
    },
    {
      "cell_type": "code",
      "source": [
        "all = df.device_brand.value_counts()[:70]\n",
        "all"
      ],
      "metadata": {
        "colab": {
          "base_uri": "https://localhost:8080/"
        },
        "id": "7Srl6BsRKaRJ",
        "outputId": "8080c8f9-43f1-4dbc-cbc3-1666fe3ee480"
      },
      "execution_count": 25,
      "outputs": [
        {
          "output_type": "execute_result",
          "data": {
            "text/plain": [
              "device_brand\n",
              "Apple        4708652\n",
              "other        3945875\n",
              "Samsung      2609769\n",
              "Xiaomi       2071248\n",
              "Huawei       1370025\n",
              "              ...   \n",
              "Condor           160\n",
              "Wiko             135\n",
              "Mito             129\n",
              "Nuu              125\n",
              "Black Fox        125\n",
              "Name: count, Length: 70, dtype: int64"
            ]
          },
          "metadata": {},
          "execution_count": 25
        }
      ]
    },
    {
      "cell_type": "code",
      "source": [
        "target = df[df['target_event']].device_brand.value_counts()\n",
        "target"
      ],
      "metadata": {
        "colab": {
          "base_uri": "https://localhost:8080/"
        },
        "id": "hG-3n5IPKyro",
        "outputId": "c5e1f5ef-18d6-40a8-f983-32c6eed2d2c4"
      },
      "execution_count": 26,
      "outputs": [
        {
          "output_type": "execute_result",
          "data": {
            "text/plain": [
              "device_brand\n",
              "Apple      28818\n",
              "other      25255\n",
              "Samsung    20050\n",
              "Xiaomi     13340\n",
              "Huawei      9182\n",
              "           ...  \n",
              "Vertu          1\n",
              "Inoi           1\n",
              "Mito           1\n",
              "Acer           1\n",
              "Philips        1\n",
              "Name: count, Length: 67, dtype: int64"
            ]
          },
          "metadata": {},
          "execution_count": 26
        }
      ]
    },
    {
      "cell_type": "code",
      "source": [
        "cr3 = target.div(all, axis=0).sort_values(ascending=False)[:10]\n",
        "cr3"
      ],
      "metadata": {
        "colab": {
          "base_uri": "https://localhost:8080/"
        },
        "id": "Oe2k4WhbK3-5",
        "outputId": "133a4ab3-9a6f-42d5-b76d-25cbf66b13a5"
      },
      "execution_count": 27,
      "outputs": [
        {
          "output_type": "execute_result",
          "data": {
            "text/plain": [
              "device_brand\n",
              "AGM           0.070922\n",
              "Condor        0.056250\n",
              "Black Fox     0.032000\n",
              "Highscreen    0.017621\n",
              "Karbonn       0.013393\n",
              "Hisense       0.012238\n",
              "Alcatel       0.011599\n",
              "iNew          0.011236\n",
              "Teclast       0.010169\n",
              "Tecno         0.009493\n",
              "Name: count, dtype: float64"
            ]
          },
          "metadata": {},
          "execution_count": 27
        }
      ]
    },
    {
      "cell_type": "code",
      "source": [
        "plt.barh(cr3.index, cr3.values)\n",
        "plt.xlabel('Conversion Rate')\n",
        "plt.ylabel('Устройства');"
      ],
      "metadata": {
        "colab": {
          "base_uri": "https://localhost:8080/",
          "height": 449
        },
        "id": "C6g2KfY8LSqD",
        "outputId": "a73b544f-fc63-49b3-dcef-84fe59369027"
      },
      "execution_count": 28,
      "outputs": [
        {
          "output_type": "display_data",
          "data": {
            "text/plain": [
              "<Figure size 640x480 with 1 Axes>"
            ],
            "image/png": "[encoded data removed]"
          },
          "metadata": {}
        }
      ]
    },
    {
      "cell_type": "markdown",
      "source": [
        "Лидеры по трафику изображены на графике"
      ],
      "metadata": {
        "id": "gfzOyoNsLhX9"
      }
    },
    {
      "cell_type": "markdown",
      "source": [
        "С точки зрения CR, к нам идет самый целевой трафик с устройств: AGM, Condor, Black Fox и др."
      ],
      "metadata": {
        "id": "XwA17IW9LjhH"
      }
    },
    {
      "cell_type": "markdown",
      "source": [
        "####Локации"
      ],
      "metadata": {
        "id": "rGMssk_KL2Ns"
      }
    },
    {
      "cell_type": "code",
      "source": [
        "all = df.geo_country.value_counts()[:100]\n",
        "all"
      ],
      "metadata": {
        "colab": {
          "base_uri": "https://localhost:8080/"
        },
        "id": "_CeDPubWL4J2",
        "outputId": "465c7e62-9e25-40d2-9a1e-ff9a3005aa1c"
      },
      "execution_count": 29,
      "outputs": [
        {
          "output_type": "execute_result",
          "data": {
            "text/plain": [
              "geo_country\n",
              "Russia             15270908\n",
              "Ukraine               76283\n",
              "United States         34389\n",
              "Belarus               29799\n",
              "Germany               25116\n",
              "                     ...   \n",
              "Wallis & Futuna         114\n",
              "Kenya                   109\n",
              "Angola                  108\n",
              "Uganda                  107\n",
              "New Zealand             102\n",
              "Name: count, Length: 100, dtype: int64"
            ]
          },
          "metadata": {},
          "execution_count": 29
        }
      ]
    },
    {
      "cell_type": "code",
      "source": [
        "target = df[df['target_event']].geo_country.value_counts()\n",
        "target"
      ],
      "metadata": {
        "colab": {
          "base_uri": "https://localhost:8080/"
        },
        "id": "8R6ekygtL_vN",
        "outputId": "b50b713b-08ae-4165-eda0-aadba6e504fe"
      },
      "execution_count": 30,
      "outputs": [
        {
          "output_type": "execute_result",
          "data": {
            "text/plain": [
              "geo_country\n",
              "Russia           100888\n",
              "Ukraine             358\n",
              "Germany             148\n",
              "United States       124\n",
              "Kazakhstan          102\n",
              "                  ...  \n",
              "Nigeria               1\n",
              "Belgium               1\n",
              "Hong Kong             1\n",
              "Ireland               1\n",
              "Iran                  1\n",
              "Name: count, Length: 75, dtype: int64"
            ]
          },
          "metadata": {},
          "execution_count": 30
        }
      ]
    },
    {
      "cell_type": "code",
      "source": [
        "cr_country = target.div(all, axis=0).sort_values(ascending=False)[:10]\n",
        "cr_country"
      ],
      "metadata": {
        "colab": {
          "base_uri": "https://localhost:8080/"
        },
        "id": "kwVG8XBTMJoX",
        "outputId": "df417883-cb71-401e-ddeb-e8f96b074cfb"
      },
      "execution_count": 31,
      "outputs": [
        {
          "output_type": "execute_result",
          "data": {
            "text/plain": [
              "geo_country\n",
              "Pakistan        0.036082\n",
              "Albania         0.021505\n",
              "Morocco         0.017098\n",
              "Iraq            0.014011\n",
              "Croatia         0.013571\n",
              "Turkmenistan    0.012121\n",
              "Estonia         0.011661\n",
              "Serbia          0.010989\n",
              "Philippines     0.010909\n",
              "Slovenia        0.010684\n",
              "Name: count, dtype: float64"
            ]
          },
          "metadata": {},
          "execution_count": 31
        }
      ]
    },
    {
      "cell_type": "code",
      "source": [
        "all = df.geo_city.value_counts()[:650]\n",
        "all"
      ],
      "metadata": {
        "colab": {
          "base_uri": "https://localhost:8080/"
        },
        "id": "4x2LTLYjMjYU",
        "outputId": "3b08891e-671d-4fef-fde7-0fd8b3f432d2"
      },
      "execution_count": 32,
      "outputs": [
        {
          "output_type": "execute_result",
          "data": {
            "text/plain": [
              "geo_city\n",
              "Moscow              6795118\n",
              "Saint Petersburg    2365520\n",
              "(not set)            596279\n",
              "Yekaterinburg        328301\n",
              "Krasnodar            293501\n",
              "                     ...   \n",
              "Russkiy                 161\n",
              "Reykjavik               161\n",
              "Otradny                 159\n",
              "Irpin'                  158\n",
              "Korsakov                158\n",
              "Name: count, Length: 650, dtype: int64"
            ]
          },
          "metadata": {},
          "execution_count": 32
        }
      ]
    },
    {
      "cell_type": "code",
      "source": [
        "target = df[df['target_event']].geo_city.value_counts()\n",
        "cr_city = target.div(all, axis=0).sort_values(ascending=False)\n",
        "cr_city = cr_city[:10]\n",
        "cr_city"
      ],
      "metadata": {
        "colab": {
          "base_uri": "https://localhost:8080/"
        },
        "id": "nGoZ0y-2MoZn",
        "outputId": "94399114-67a0-4889-fcee-4b32ae5a2426"
      },
      "execution_count": 33,
      "outputs": [
        {
          "output_type": "execute_result",
          "data": {
            "text/plain": [
              "geo_city\n",
              "Richmond        0.040892\n",
              "Meknes          0.039773\n",
              "Sosnovoborsk    0.032698\n",
              "Seminole        0.030488\n",
              "Tarko-Sale      0.029703\n",
              "Dallas          0.024631\n",
              "Coffeyville     0.024324\n",
              "Krakow          0.024038\n",
              "Porec           0.023810\n",
              "Tetouan         0.023697\n",
              "Name: count, dtype: float64"
            ]
          },
          "metadata": {},
          "execution_count": 33
        }
      ]
    },
    {
      "cell_type": "code",
      "source": [
        "plt.barh(cr_country.index, cr_country.values)\n",
        "plt.xlabel('Conversion Rate')\n",
        "plt.ylabel('Страны');"
      ],
      "metadata": {
        "colab": {
          "base_uri": "https://localhost:8080/",
          "height": 449
        },
        "id": "wqYJ7HqRMcen",
        "outputId": "f6c49f8c-989c-493c-8a89-ea86cbaac4c2"
      },
      "execution_count": 34,
      "outputs": [
        {
          "output_type": "display_data",
          "data": {
            "text/plain": [
              "<Figure size 640x480 with 1 Axes>"
            ],
            "image/png": "[encoded data removed]"
          },
          "metadata": {}
        }
      ]
    },
    {
      "cell_type": "code",
      "source": [
        "plt.barh(cr_city.index, cr_city.values)\n",
        "plt.xlabel('Conversion Rate')\n",
        "plt.ylabel('Города');"
      ],
      "metadata": {
        "colab": {
          "base_uri": "https://localhost:8080/",
          "height": 449
        },
        "id": "8fbZ2F7oNcpJ",
        "outputId": "24940a43-739a-444f-9a0f-2856c486798f"
      },
      "execution_count": 35,
      "outputs": [
        {
          "output_type": "display_data",
          "data": {
            "text/plain": [
              "<Figure size 640x480 with 1 Axes>"
            ],
            "image/png": "[encoded data removed]"
          },
          "metadata": {}
        }
      ]
    },
    {
      "cell_type": "code",
      "source": [
        "print(f'С точки зрения CR, к нам идет самый целевой трафик из {cr_city[:3]}')"
      ],
      "metadata": {
        "colab": {
          "base_uri": "https://localhost:8080/"
        },
        "id": "aDUlhqyCIoj1",
        "outputId": "e1fc17fe-e9f5-4268-b187-76ccf0b69726"
      },
      "execution_count": 36,
      "outputs": [
        {
          "output_type": "stream",
          "name": "stdout",
          "text": [
            "С точки зрения CR, к нам идет самый целевой трафик из geo_city\n",
            "Richmond        0.040892\n",
            "Meknes          0.039773\n",
            "Sosnovoborsk    0.032698\n",
            "Name: count, dtype: float64\n"
          ]
        }
      ]
    },
    {
      "cell_type": "markdown",
      "source": [
        "##Вопрос: Какие авто пользуются наибольшим спросом? У каких авто самый лучший показатель CR (Conversion Rate) в целевые события?"
      ],
      "metadata": {
        "id": "YX5u2K0GOifC"
      }
    },
    {
      "cell_type": "code",
      "source": [
        "df['car'] = df['hit_page_path'].apply(lambda x: ' '.join(x.split('/')[3:5]))\n",
        "values = df.car.value_counts().drop(labels='')"
      ],
      "metadata": {
        "id": "W9TR4ciiOs5Z"
      },
      "execution_count": 37,
      "outputs": []
    },
    {
      "cell_type": "code",
      "source": [
        "values = values[:200]\n",
        "values"
      ],
      "metadata": {
        "colab": {
          "base_uri": "https://localhost:8080/"
        },
        "id": "Om3PaLgfYDvT",
        "outputId": "66b6b5f4-4bcc-4bf9-95ea-53e9d3591088"
      },
      "execution_count": 38,
      "outputs": [
        {
          "output_type": "execute_result",
          "data": {
            "text/plain": [
              "car\n",
              "skoda rapid                                                                                                                                                                    440488\n",
              "lada-vaz vesta                                                                                                                                                                 401655\n",
              "volkswagen polo                                                                                                                                                                315584\n",
              "skoda karoq                                                                                                                                                                    193788\n",
              "mercedes-benz e-klasse                                                                                                                                                         177988\n",
              "                                                                                                                                                                                ...  \n",
              "sberauto.com cars&city=1&shortlink=opensearchcars&c=sberauto&pid=sber&rental_page=rental_only&rental_car=rental_only&referrer=af_tranid=m5_yup7uazdquzu1uukstq&af_dp=https:        42\n",
              "ij?rental_car=rental_only&rental_page=rental_only&page=1                                                                                                                           42\n",
              "sberauto.com cars&city=1&shortlink=opensearchcars&c=sberauto&pid=sber&rental_page=rental_only&rental_car=rental_only&referrer=af_tranid=7ffidr4-nqpmilar8wawqw&af_dp=https:        42\n",
              "sberauto.com cars&city=1&pid=sber&shortlink=opensearchcars&rental_page=rental_only&c=sberauto&rental_car=rental_only&referrer=af_tranid=iiulqpncpztouechullbtg&af_dp=https:        42\n",
              "sberauto.com cars&city=1&pid=sber&shortlink=opensearchcars&rental_page=rental_only&c=sberauto&rental_car=rental_only&referrer=af_tranid=dtl6eqgiiyce7cmmjawdgq&af_dp=https:        42\n",
              "Name: count, Length: 200, dtype: int64"
            ]
          },
          "metadata": {},
          "execution_count": 38
        }
      ]
    },
    {
      "cell_type": "code",
      "source": [
        "df1['car'] = df1['hit_page_path'].apply(lambda x: ' '.join(x.split('/')[3:5]))\n",
        "hits = df1.car.value_counts().drop(labels='')\n"
      ],
      "metadata": {
        "colab": {
          "base_uri": "https://localhost:8080/"
        },
        "id": "u4QALaMrYTog",
        "outputId": "ebb3cf05-47c2-461d-89ef-16f9b4210dd3"
      },
      "execution_count": 39,
      "outputs": [
        {
          "output_type": "stream",
          "name": "stderr",
          "text": [
            "C:\\Users\\Danil\\AppData\\Local\\Temp\\ipykernel_7796\\3155424862.py:1: SettingWithCopyWarning: \n",
            "A value is trying to be set on a copy of a slice from a DataFrame.\n",
            "Try using .loc[row_indexer,col_indexer] = value instead\n",
            "\n",
            "See the caveats in the documentation: https://pandas.pydata.org/pandas-docs/stable/user_guide/indexing.html#returning-a-view-versus-a-copy\n",
            "  df1['car'] = df1['hit_page_path'].apply(lambda x: ' '.join(x.split('/')[3:5]))\n"
          ]
        }
      ]
    },
    {
      "cell_type": "code",
      "source": [
        "hits"
      ],
      "metadata": {
        "colab": {
          "base_uri": "https://localhost:8080/"
        },
        "id": "rUb4UdbQZOLV",
        "outputId": "f92b8bac-4a3e-4df8-9a7e-61d9196f0e01"
      },
      "execution_count": 40,
      "outputs": [
        {
          "output_type": "execute_result",
          "data": {
            "text/plain": [
              "car\n",
              "skoda rapid                                                                                                                                                         5824\n",
              "lada-vaz vesta                                                                                                                                                      5230\n",
              "volkswagen polo                                                                                                                                                     4515\n",
              "kia rio                                                                                                                                                             1410\n",
              "skoda karoq                                                                                                                                                         1287\n",
              "                                                                                                                                                                    ... \n",
              "zen.yandex.com?yzclid=7632746137848628782                                                                                                                              1\n",
              "zen.yandex.com?yzclid=8625556286578606737                                                                                                                              1\n",
              "zen.yandex.com?yzclid=8824389325105770931                                                                                                                              1\n",
              "rapid sale                                                                                                                                                             1\n",
              "sberauto.com autosubscribe&referrer=af_tranid=urietdcilsp88w-kj0fd6q&shortlink=autosubscribelending&pid=sberauto&c=open_auto_subscribe_lending&af_ios_url=https:       1\n",
              "Name: count, Length: 103, dtype: int64"
            ]
          },
          "metadata": {},
          "execution_count": 40
        }
      ]
    },
    {
      "cell_type": "markdown",
      "source": [
        "###Какие авто пользуются наибольшим спросом"
      ],
      "metadata": {
        "id": "RDnbWL_qaVsN"
      }
    },
    {
      "cell_type": "code",
      "source": [
        "hits1 = hits[:10]"
      ],
      "metadata": {
        "id": "LbdHFX2SabQ0"
      },
      "execution_count": 41,
      "outputs": []
    },
    {
      "cell_type": "code",
      "source": [
        "plt.barh(hits1.index, hits1.values)\n",
        "plt.xlabel('Спрос')\n",
        "plt.ylabel('Автомобили');"
      ],
      "metadata": {
        "colab": {
          "base_uri": "https://localhost:8080/",
          "height": 449
        },
        "id": "9Tg0HelWaioc",
        "outputId": "67cbb1d2-230f-478d-8100-284f9f2e115c"
      },
      "execution_count": 42,
      "outputs": [
        {
          "output_type": "display_data",
          "data": {
            "text/plain": [
              "<Figure size 640x480 with 1 Axes>"
            ],
            "image/png": "[encoded data removed]"
          },
          "metadata": {}
        }
      ]
    },
    {
      "cell_type": "markdown",
      "source": [
        "Лидеры по спросу указаны на графике"
      ],
      "metadata": {
        "id": "chdwdctUa-lc"
      }
    },
    {
      "cell_type": "markdown",
      "source": [
        "Ответ: Наибольшим спросом пользуются skoda rapid, lada-vaz vesta, volkswagen polo."
      ],
      "metadata": {
        "id": "CQkqO2NObEjk"
      }
    },
    {
      "cell_type": "markdown",
      "source": [
        "###У каких авто самый лучший показатель CR в целевые события"
      ],
      "metadata": {
        "id": "nQYK-WM0bPz4"
      }
    },
    {
      "cell_type": "code",
      "source": [
        "cr_cars = hits.div(values, axis=0).dropna().drop(labels='sberauto.com autosubscribe')\n",
        "cr_cars = cr_cars.sort_values(ascending=False)\n",
        "cr_cars = cr_cars[:10]\n",
        "cr_cars"
      ],
      "metadata": {
        "colab": {
          "base_uri": "https://localhost:8080/"
        },
        "id": "a1yhWC0fbXMv",
        "outputId": "17e46ea8-ac3e-419f-9bdc-0fdd01ca2ac6"
      },
      "execution_count": 43,
      "outputs": [
        {
          "output_type": "execute_result",
          "data": {
            "text/plain": [
              "car\n",
              "bmw x1                0.171429\n",
              "renault arkana        0.059972\n",
              "honda civic-type-r    0.056604\n",
              "bmw x3-m              0.052980\n",
              "qashqai sale          0.052174\n",
              "solaris sale          0.043011\n",
              "kia cerato            0.022243\n",
              "hyundai solaris       0.019316\n",
              "kia rio               0.015696\n",
              "toyota camry          0.015679\n",
              "Name: count, dtype: float64"
            ]
          },
          "metadata": {},
          "execution_count": 43
        }
      ]
    },
    {
      "cell_type": "code",
      "source": [
        "plt.barh(cr_cars.index, cr_cars.values)\n",
        "plt.xlabel('Conversion Rate')\n",
        "plt.ylabel('Автомобили');"
      ],
      "metadata": {
        "colab": {
          "base_uri": "https://localhost:8080/",
          "height": 449
        },
        "id": "GqbqliIEfDHd",
        "outputId": "78c31151-66a7-41b0-876e-0b6137250b87"
      },
      "execution_count": 44,
      "outputs": [
        {
          "output_type": "display_data",
          "data": {
            "text/plain": [
              "<Figure size 640x480 with 1 Axes>"
            ],
            "image/png": "[encoded data removed]"
          },
          "metadata": {}
        }
      ]
    },
    {
      "cell_type": "markdown",
      "source": [
        "Ответ: лидеров по CR можно видеть на графике"
      ],
      "metadata": {
        "id": "cKFSmHefgtvp"
      }
    },
    {
      "cell_type": "markdown",
      "source": [
        "##Стоит ли нам увеличивать своё присутствие в соцсетях и давать там больше рекламы?"
      ],
      "metadata": {
        "id": "e63HbDlNhYu-"
      }
    },
    {
      "cell_type": "code",
      "source": [
        "soc_netw = ['QxAxdyPLuQMEcrdZWdWb', 'MvfHsxITijuriZxsqZqt', 'ISrKoXQCxqqYvAZICvjs',\n",
        "'IZEXUFLARCUMynmHNBGo', 'PlbkrSYoHuZBWfYjYnfw', 'gVRrcxiDQubJiljoTbGm']"
      ],
      "metadata": {
        "id": "XsbX0vyLhbUr",
        "colab": {
          "base_uri": "https://localhost:8080/"
        },
        "outputId": "6745a442-5502-4f4a-ed00-3f47786527d6"
      },
      "execution_count": 45,
      "outputs": [
        {
          "output_type": "execute_result",
          "data": {
            "text/plain": [
              "['QxAxdyPLuQMEcrdZWdWb',\n",
              " 'MvfHsxITijuriZxsqZqt',\n",
              " 'ISrKoXQCxqqYvAZICvjs',\n",
              " 'IZEXUFLARCUMynmHNBGo',\n",
              " 'PlbkrSYoHuZBWfYjYnfw',\n",
              " 'gVRrcxiDQubJiljoTbGm']"
            ]
          },
          "metadata": {},
          "execution_count": 45
        }
      ]
    },
    {
      "cell_type": "code",
      "source": [
        "df['source'] = df['utm_source'].apply(lambda x: 'social_network' if x in soc_netw else 'other')\n",
        "val = df.source.value_counts()"
      ],
      "metadata": {
        "id": "l6MprFYpeCC9"
      },
      "execution_count": 63,
      "outputs": []
    },
    {
      "cell_type": "code",
      "source": [
        "plt.bar(val.index, val.values)\n",
        "plt.xlabel('Тип привлечения')\n",
        "plt.ylabel('Трафик');"
      ],
      "metadata": {
        "colab": {
          "base_uri": "https://localhost:8080/",
          "height": 465
        },
        "id": "sGNzRyiXgf2_",
        "outputId": "3ac6179a-d942-43e6-f258-7f130a50ec33"
      },
      "execution_count": 64,
      "outputs": [
        {
          "output_type": "display_data",
          "data": {
            "text/plain": [
              "<Figure size 640x480 with 1 Axes>"
            ],
            "image/png": "[encoded data removed]"
          },
          "metadata": {}
        }
      ]
    },
    {
      "cell_type": "code",
      "source": [
        "df_other = df[df['source'] == 'other']\n",
        "df_social = df[df['source'] == 'social_network']"
      ],
      "metadata": {
        "id": "XBQvLh7IgFDO"
      },
      "execution_count": 74,
      "outputs": []
    },
    {
      "cell_type": "code",
      "source": [
        "target_other = df_other[df_other['target_event']]['session_id'].count()\n",
        "all_other = val.other\n",
        "cr_other = target_other/all_other\n",
        "cr_other"
      ],
      "metadata": {
        "colab": {
          "base_uri": "https://localhost:8080/"
        },
        "id": "C7jYIwFZhQ7g",
        "outputId": "ad1c6022-e280-48ad-e9d5-2fb8f346e9f7"
      },
      "execution_count": 75,
      "outputs": [
        {
          "output_type": "execute_result",
          "data": {
            "text/plain": [
              "0.006540565349275856"
            ]
          },
          "metadata": {},
          "execution_count": 75
        }
      ]
    },
    {
      "cell_type": "code",
      "source": [
        "target_social = df_social[df_social['target_event']]['session_id'].count()\n",
        "all_social = val.social_network\n",
        "cr_social = target_social/all_social\n",
        "cr_social"
      ],
      "metadata": {
        "colab": {
          "base_uri": "https://localhost:8080/"
        },
        "id": "PUACpV1kiCTC",
        "outputId": "a4ab50df-0579-42d0-9628-d56a6aa48c68"
      },
      "execution_count": 76,
      "outputs": [
        {
          "output_type": "execute_result",
          "data": {
            "text/plain": [
              "0.006749958005066003"
            ]
          },
          "metadata": {},
          "execution_count": 76
        }
      ]
    },
    {
      "cell_type": "code",
      "source": [
        "plt.bar(['other', 'social_network'], [cr_other, cr_social])\n",
        "plt.xlabel('Тип привлечения')\n",
        "plt.ylabel('Conversion Rate');"
      ],
      "metadata": {
        "colab": {
          "base_uri": "https://localhost:8080/",
          "height": 450
        },
        "id": "zKdS3Q9ei7Ur",
        "outputId": "4783e0c3-a2c5-422e-b80a-769b6b848c7e"
      },
      "execution_count": 85,
      "outputs": [
        {
          "output_type": "display_data",
          "data": {
            "text/plain": [
              "<Figure size 640x480 with 1 Axes>"
            ],
            "image/png": "[encoded data removed]"
          },
          "metadata": {}
        }
      ]
    },
    {
      "cell_type": "code",
      "source": [
        "vals = df_social.car.value_counts().drop(labels='')\n",
        "vals[:10]"
      ],
      "metadata": {
        "colab": {
          "base_uri": "https://localhost:8080/"
        },
        "id": "VUGBZmg_ljh3",
        "outputId": "5d11b406-fbd5-4984-867b-2677a20e9758"
      },
      "execution_count": 88,
      "outputs": [
        {
          "output_type": "execute_result",
          "data": {
            "text/plain": [
              "car\n",
              "skoda rapid               63387\n",
              "mercedes-benz e-klasse    55057\n",
              "lada-vaz vesta            53848\n",
              "volkswagen polo           40270\n",
              "nissan qashqai            31390\n",
              "mercedes-benz glb         16144\n",
              "renault logan             15644\n",
              "porsche 911               11880\n",
              "skoda karoq               11178\n",
              "porsche cayenne            8401\n",
              "Name: count, dtype: int64"
            ]
          },
          "metadata": {},
          "execution_count": 88
        }
      ]
    },
    {
      "cell_type": "code",
      "source": [
        "vals = df_other.car.value_counts().drop(labels='')\n",
        "vals[:10]"
      ],
      "metadata": {
        "colab": {
          "base_uri": "https://localhost:8080/"
        },
        "id": "jXfqehJmmHpQ",
        "outputId": "2b259dc1-9607-4305-ee62-24415e669d7b"
      },
      "execution_count": 89,
      "outputs": [
        {
          "output_type": "execute_result",
          "data": {
            "text/plain": [
              "car\n",
              "skoda rapid               377101\n",
              "lada-vaz vesta            347807\n",
              "volkswagen polo           275314\n",
              "skoda karoq               182610\n",
              "mercedes-benz e-klasse    122931\n",
              "nissan qashqai            119163\n",
              "kia rio                    83671\n",
              "nissan x-trail             78022\n",
              "skoda octavia              72940\n",
              "renault duster             71680\n",
              "Name: count, dtype: int64"
            ]
          },
          "metadata": {},
          "execution_count": 89
        }
      ]
    },
    {
      "cell_type": "markdown",
      "source": [
        "###Ответ"
      ],
      "metadata": {
        "id": "oKzsGJJtnOEv"
      }
    },
    {
      "cell_type": "markdown",
      "source": [
        "Ответ: на основе иследованных данных, я могу сказать что стоит увелечивать присутствие в соцсетях и давать больше рекламы, т.к. conversion rate с типом привлечения \"Социальные сети\" даже немного превышает все другие, следовательно имеет смысл расширять рекламную компанию там"
      ],
      "metadata": {
        "id": "-sK6jkIjmgRP"
      }
    }
  ]
}