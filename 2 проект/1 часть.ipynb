{
  "nbformat": 4,
  "nbformat_minor": 0,
  "metadata": {
    "colab": {
      "provenance": [],
      "collapsed_sections": [
        "rCoA7RmI6MEn"
      ]
    },
    "kernelspec": {
      "name": "python3",
      "display_name": "Python 3"
    },
    "language_info": {
      "name": "python"
    }
  },
  "cells": [
    {
      "cell_type": "markdown",
      "source": [
        "#Начальная корректировка данных"
      ],
      "metadata": {
        "id": "5IRLtoQnVald"
      }
    },
    {
      "cell_type": "code",
      "execution_count": 47,
      "metadata": {
        "id": "8Nhyzz3iM4P-"
      },
      "outputs": [],
      "source": [
        "import pandas as pd\n",
        "import seaborn as sns\n",
        "import numpy as np\n",
        "import matplotlib.pyplot as plt"
      ]
    },
    {
      "cell_type": "code",
      "source": [
        "df=pd.read_csv('homework.csv')\n",
        "df"
      ],
      "metadata": {
        "colab": {
          "base_uri": "https://localhost:8080/",
          "height": 423
        },
        "id": "cZAMOoIiSCyW",
        "outputId": "6efe1234-9c1d-490c-aa17-2a0c6f4f200b"
      },
      "execution_count": 48,
      "outputs": [
        {
          "output_type": "execute_result",
          "data": {
            "text/plain": [
              "         user_id   funnel_stage  timestamp  profit       os ad_channel  price\n",
              "0         111649  consideration     150000     NaN  Android      video   0.75\n",
              "1         108759       interest     150000     NaN  Android     banner   0.50\n",
              "2         991236       interest     150000     NaN  Android     native   2.00\n",
              "3         387356       INTEREST     150000     NaN      iOS     search   1.50\n",
              "4         619571  CONSIDERATION     150000     NaN      iOS     search   1.50\n",
              "...          ...            ...        ...     ...      ...        ...    ...\n",
              "3845702   929180         INTENT     224682     NaN      iOS     search   1.50\n",
              "3845703  1034498         INTENT     225430     NaN      iOS     search   1.50\n",
              "3845704   947521  consideration     225482     NaN  Android    organic   0.00\n",
              "3845705   720354       purchase     225495    50.0  Android    organic   0.00\n",
              "3845706   151184       INTEREST     225688     NaN      iOS     search   1.50\n",
              "\n",
              "[3845707 rows x 7 columns]"
            ],
            "text/html": [
              "<div>\n",
              "<style scoped>\n",
              "    .dataframe tbody tr th:only-of-type {\n",
              "        vertical-align: middle;\n",
              "    }\n",
              "\n",
              "    .dataframe tbody tr th {\n",
              "        vertical-align: top;\n",
              "    }\n",
              "\n",
              "    .dataframe thead th {\n",
              "        text-align: right;\n",
              "    }\n",
              "</style>\n",
              "<table border=\"1\" class=\"dataframe\">\n",
              "  <thead>\n",
              "    <tr style=\"text-align: right;\">\n",
              "      <th></th>\n",
              "      <th>user_id</th>\n",
              "      <th>funnel_stage</th>\n",
              "      <th>timestamp</th>\n",
              "      <th>profit</th>\n",
              "      <th>os</th>\n",
              "      <th>ad_channel</th>\n",
              "      <th>price</th>\n",
              "    </tr>\n",
              "  </thead>\n",
              "  <tbody>\n",
              "    <tr>\n",
              "      <th>0</th>\n",
              "      <td>111649</td>\n",
              "      <td>consideration</td>\n",
              "      <td>150000</td>\n",
              "      <td>NaN</td>\n",
              "      <td>Android</td>\n",
              "      <td>video</td>\n",
              "      <td>0.75</td>\n",
              "    </tr>\n",
              "    <tr>\n",
              "      <th>1</th>\n",
              "      <td>108759</td>\n",
              "      <td>interest</td>\n",
              "      <td>150000</td>\n",
              "      <td>NaN</td>\n",
              "      <td>Android</td>\n",
              "      <td>banner</td>\n",
              "      <td>0.50</td>\n",
              "    </tr>\n",
              "    <tr>\n",
              "      <th>2</th>\n",
              "      <td>991236</td>\n",
              "      <td>interest</td>\n",
              "      <td>150000</td>\n",
              "      <td>NaN</td>\n",
              "      <td>Android</td>\n",
              "      <td>native</td>\n",
              "      <td>2.00</td>\n",
              "    </tr>\n",
              "    <tr>\n",
              "      <th>3</th>\n",
              "      <td>387356</td>\n",
              "      <td>INTEREST</td>\n",
              "      <td>150000</td>\n",
              "      <td>NaN</td>\n",
              "      <td>iOS</td>\n",
              "      <td>search</td>\n",
              "      <td>1.50</td>\n",
              "    </tr>\n",
              "    <tr>\n",
              "      <th>4</th>\n",
              "      <td>619571</td>\n",
              "      <td>CONSIDERATION</td>\n",
              "      <td>150000</td>\n",
              "      <td>NaN</td>\n",
              "      <td>iOS</td>\n",
              "      <td>search</td>\n",
              "      <td>1.50</td>\n",
              "    </tr>\n",
              "    <tr>\n",
              "      <th>...</th>\n",
              "      <td>...</td>\n",
              "      <td>...</td>\n",
              "      <td>...</td>\n",
              "      <td>...</td>\n",
              "      <td>...</td>\n",
              "      <td>...</td>\n",
              "      <td>...</td>\n",
              "    </tr>\n",
              "    <tr>\n",
              "      <th>3845702</th>\n",
              "      <td>929180</td>\n",
              "      <td>INTENT</td>\n",
              "      <td>224682</td>\n",
              "      <td>NaN</td>\n",
              "      <td>iOS</td>\n",
              "      <td>search</td>\n",
              "      <td>1.50</td>\n",
              "    </tr>\n",
              "    <tr>\n",
              "      <th>3845703</th>\n",
              "      <td>1034498</td>\n",
              "      <td>INTENT</td>\n",
              "      <td>225430</td>\n",
              "      <td>NaN</td>\n",
              "      <td>iOS</td>\n",
              "      <td>search</td>\n",
              "      <td>1.50</td>\n",
              "    </tr>\n",
              "    <tr>\n",
              "      <th>3845704</th>\n",
              "      <td>947521</td>\n",
              "      <td>consideration</td>\n",
              "      <td>225482</td>\n",
              "      <td>NaN</td>\n",
              "      <td>Android</td>\n",
              "      <td>organic</td>\n",
              "      <td>0.00</td>\n",
              "    </tr>\n",
              "    <tr>\n",
              "      <th>3845705</th>\n",
              "      <td>720354</td>\n",
              "      <td>purchase</td>\n",
              "      <td>225495</td>\n",
              "      <td>50.0</td>\n",
              "      <td>Android</td>\n",
              "      <td>organic</td>\n",
              "      <td>0.00</td>\n",
              "    </tr>\n",
              "    <tr>\n",
              "      <th>3845706</th>\n",
              "      <td>151184</td>\n",
              "      <td>INTEREST</td>\n",
              "      <td>225688</td>\n",
              "      <td>NaN</td>\n",
              "      <td>iOS</td>\n",
              "      <td>search</td>\n",
              "      <td>1.50</td>\n",
              "    </tr>\n",
              "  </tbody>\n",
              "</table>\n",
              "<p>3845707 rows × 7 columns</p>\n",
              "</div>"
            ]
          },
          "metadata": {},
          "execution_count": 48
        }
      ]
    },
    {
      "cell_type": "code",
      "source": [
        "df['funnel_stage'] = df['funnel_stage'].apply(lambda x: x.lower())\n",
        "df['funnel_stage'].value_counts()"
      ],
      "metadata": {
        "colab": {
          "base_uri": "https://localhost:8080/"
        },
        "id": "ewapoROYVELI",
        "outputId": "e15249b4-4fa9-482c-c92e-d2665bc42deb"
      },
      "execution_count": 49,
      "outputs": [
        {
          "output_type": "execute_result",
          "data": {
            "text/plain": [
              "funnel_stage\n",
              "interest         3219813\n",
              "consideration     340106\n",
              "intent            280911\n",
              "purchase            4877\n",
              "Name: count, dtype: int64"
            ]
          },
          "metadata": {},
          "execution_count": 49
        }
      ]
    },
    {
      "cell_type": "code",
      "source": [
        "df['profit'] = df['profit'].fillna(0)"
      ],
      "metadata": {
        "id": "xHMnx0AzVqKO"
      },
      "execution_count": 50,
      "outputs": []
    },
    {
      "cell_type": "markdown",
      "source": [
        "#Число уникальных пользователей по каналам в разрезе этапов воронки"
      ],
      "metadata": {
        "id": "rd_38a9We9vd"
      }
    },
    {
      "cell_type": "code",
      "source": [
        "order = ['interest', 'consideration', 'intent', 'purchase']\n",
        "df['funnel_stage'] = pd.Categorical(df['funnel_stage'], categories=order, ordered=True)\n",
        "df_sorted = df.sort_values('funnel_stage')\n",
        "grouped_df = df_sorted.groupby(['ad_channel', 'funnel_stage'])['user_id'].nunique()\n",
        "pd.DataFrame(grouped_df)"
      ],
      "metadata": {
        "id": "3PRG_kSQdeHQ",
        "colab": {
          "base_uri": "https://localhost:8080/",
          "height": 1000
        },
        "outputId": "5f365543-4334-4704-fd8d-2bddda674361"
      },
      "execution_count": 51,
      "outputs": [
        {
          "output_type": "execute_result",
          "data": {
            "text/plain": [
              "                               user_id\n",
              "ad_channel      funnel_stage          \n",
              "banner          interest         92003\n",
              "                consideration    47541\n",
              "                intent            7625\n",
              "                purchase           688\n",
              "native          interest         19381\n",
              "                consideration    12597\n",
              "                intent             412\n",
              "                purchase            37\n",
              "organic         interest         78707\n",
              "                consideration    53592\n",
              "                intent            9163\n",
              "                purchase           542\n",
              "other           interest          3216\n",
              "                consideration     1813\n",
              "                intent             232\n",
              "                purchase            43\n",
              "partner_network interest         66234\n",
              "                consideration    24721\n",
              "                intent            4420\n",
              "                purchase           450\n",
              "rich            interest          8922\n",
              "                consideration     4657\n",
              "                intent            1238\n",
              "                purchase            22\n",
              "search          interest        224668\n",
              "                consideration   134305\n",
              "                intent           27481\n",
              "                purchase          3090\n",
              "video           interest         97961\n",
              "                consideration    60880\n",
              "                intent              58\n",
              "                purchase             5"
            ],
            "text/html": [
              "<div>\n",
              "<style scoped>\n",
              "    .dataframe tbody tr th:only-of-type {\n",
              "        vertical-align: middle;\n",
              "    }\n",
              "\n",
              "    .dataframe tbody tr th {\n",
              "        vertical-align: top;\n",
              "    }\n",
              "\n",
              "    .dataframe thead th {\n",
              "        text-align: right;\n",
              "    }\n",
              "</style>\n",
              "<table border=\"1\" class=\"dataframe\">\n",
              "  <thead>\n",
              "    <tr style=\"text-align: right;\">\n",
              "      <th></th>\n",
              "      <th></th>\n",
              "      <th>user_id</th>\n",
              "    </tr>\n",
              "    <tr>\n",
              "      <th>ad_channel</th>\n",
              "      <th>funnel_stage</th>\n",
              "      <th></th>\n",
              "    </tr>\n",
              "  </thead>\n",
              "  <tbody>\n",
              "    <tr>\n",
              "      <th rowspan=\"4\" valign=\"top\">banner</th>\n",
              "      <th>interest</th>\n",
              "      <td>92003</td>\n",
              "    </tr>\n",
              "    <tr>\n",
              "      <th>consideration</th>\n",
              "      <td>47541</td>\n",
              "    </tr>\n",
              "    <tr>\n",
              "      <th>intent</th>\n",
              "      <td>7625</td>\n",
              "    </tr>\n",
              "    <tr>\n",
              "      <th>purchase</th>\n",
              "      <td>688</td>\n",
              "    </tr>\n",
              "    <tr>\n",
              "      <th rowspan=\"4\" valign=\"top\">native</th>\n",
              "      <th>interest</th>\n",
              "      <td>19381</td>\n",
              "    </tr>\n",
              "    <tr>\n",
              "      <th>consideration</th>\n",
              "      <td>12597</td>\n",
              "    </tr>\n",
              "    <tr>\n",
              "      <th>intent</th>\n",
              "      <td>412</td>\n",
              "    </tr>\n",
              "    <tr>\n",
              "      <th>purchase</th>\n",
              "      <td>37</td>\n",
              "    </tr>\n",
              "    <tr>\n",
              "      <th rowspan=\"4\" valign=\"top\">organic</th>\n",
              "      <th>interest</th>\n",
              "      <td>78707</td>\n",
              "    </tr>\n",
              "    <tr>\n",
              "      <th>consideration</th>\n",
              "      <td>53592</td>\n",
              "    </tr>\n",
              "    <tr>\n",
              "      <th>intent</th>\n",
              "      <td>9163</td>\n",
              "    </tr>\n",
              "    <tr>\n",
              "      <th>purchase</th>\n",
              "      <td>542</td>\n",
              "    </tr>\n",
              "    <tr>\n",
              "      <th rowspan=\"4\" valign=\"top\">other</th>\n",
              "      <th>interest</th>\n",
              "      <td>3216</td>\n",
              "    </tr>\n",
              "    <tr>\n",
              "      <th>consideration</th>\n",
              "      <td>1813</td>\n",
              "    </tr>\n",
              "    <tr>\n",
              "      <th>intent</th>\n",
              "      <td>232</td>\n",
              "    </tr>\n",
              "    <tr>\n",
              "      <th>purchase</th>\n",
              "      <td>43</td>\n",
              "    </tr>\n",
              "    <tr>\n",
              "      <th rowspan=\"4\" valign=\"top\">partner_network</th>\n",
              "      <th>interest</th>\n",
              "      <td>66234</td>\n",
              "    </tr>\n",
              "    <tr>\n",
              "      <th>consideration</th>\n",
              "      <td>24721</td>\n",
              "    </tr>\n",
              "    <tr>\n",
              "      <th>intent</th>\n",
              "      <td>4420</td>\n",
              "    </tr>\n",
              "    <tr>\n",
              "      <th>purchase</th>\n",
              "      <td>450</td>\n",
              "    </tr>\n",
              "    <tr>\n",
              "      <th rowspan=\"4\" valign=\"top\">rich</th>\n",
              "      <th>interest</th>\n",
              "      <td>8922</td>\n",
              "    </tr>\n",
              "    <tr>\n",
              "      <th>consideration</th>\n",
              "      <td>4657</td>\n",
              "    </tr>\n",
              "    <tr>\n",
              "      <th>intent</th>\n",
              "      <td>1238</td>\n",
              "    </tr>\n",
              "    <tr>\n",
              "      <th>purchase</th>\n",
              "      <td>22</td>\n",
              "    </tr>\n",
              "    <tr>\n",
              "      <th rowspan=\"4\" valign=\"top\">search</th>\n",
              "      <th>interest</th>\n",
              "      <td>224668</td>\n",
              "    </tr>\n",
              "    <tr>\n",
              "      <th>consideration</th>\n",
              "      <td>134305</td>\n",
              "    </tr>\n",
              "    <tr>\n",
              "      <th>intent</th>\n",
              "      <td>27481</td>\n",
              "    </tr>\n",
              "    <tr>\n",
              "      <th>purchase</th>\n",
              "      <td>3090</td>\n",
              "    </tr>\n",
              "    <tr>\n",
              "      <th rowspan=\"4\" valign=\"top\">video</th>\n",
              "      <th>interest</th>\n",
              "      <td>97961</td>\n",
              "    </tr>\n",
              "    <tr>\n",
              "      <th>consideration</th>\n",
              "      <td>60880</td>\n",
              "    </tr>\n",
              "    <tr>\n",
              "      <th>intent</th>\n",
              "      <td>58</td>\n",
              "    </tr>\n",
              "    <tr>\n",
              "      <th>purchase</th>\n",
              "      <td>5</td>\n",
              "    </tr>\n",
              "  </tbody>\n",
              "</table>\n",
              "</div>"
            ]
          },
          "metadata": {},
          "execution_count": 51
        }
      ]
    },
    {
      "cell_type": "markdown",
      "source": [
        "#Работа с фальсификациями"
      ],
      "metadata": {
        "id": "Zb9FRpPBlvYj"
      }
    },
    {
      "cell_type": "code",
      "source": [
        "gr_df = df.groupby(['timestamp']).size()\n",
        "sns.distplot(gr_df)"
      ],
      "metadata": {
        "colab": {
          "base_uri": "https://localhost:8080/",
          "height": 649
        },
        "id": "FsuzEVEnk0CX",
        "outputId": "d10278a0-c622-48b7-a484-407154b12bd2"
      },
      "execution_count": 52,
      "outputs": [
        {
          "output_type": "stream",
          "name": "stderr",
          "text": [
            "C:\\Users\\Danil\\AppData\\Local\\Temp\\ipykernel_15972\\1748587712.py:2: UserWarning: \n",
            "\n",
            "`distplot` is a deprecated function and will be removed in seaborn v0.14.0.\n",
            "\n",
            "Please adapt your code to use either `displot` (a figure-level function with\n",
            "similar flexibility) or `histplot` (an axes-level function for histograms).\n",
            "\n",
            "For a guide to updating your code to use the new functions, please see\n",
            "https://gist.github.com/mwaskom/de44147ed2974457ad6372750bbe5751\n",
            "\n",
            "  sns.distplot(gr_df)\n"
          ]
        },
        {
          "output_type": "execute_result",
          "data": {
            "text/plain": [
              "<Axes: ylabel='Density'>"
            ]
          },
          "metadata": {},
          "execution_count": 52
        },
        {
          "output_type": "display_data",
          "data": {
            "text/plain": [
              "<Figure size 640x480 with 1 Axes>"
            ],
            "image/png": "[encoded data removed]"
          },
          "metadata": {}
        }
      ]
    },
    {
      "cell_type": "code",
      "source": [
        "gr_df"
      ],
      "metadata": {
        "colab": {
          "base_uri": "https://localhost:8080/"
        },
        "id": "Gf7GOWM0D2PX",
        "outputId": "7f649457-95ef-4046-d496-c2e2b057ea69"
      },
      "execution_count": 53,
      "outputs": [
        {
          "output_type": "execute_result",
          "data": {
            "text/plain": [
              "timestamp\n",
              "150000    16\n",
              "150001     9\n",
              "150002    11\n",
              "150003    15\n",
              "150004    10\n",
              "          ..\n",
              "224682     1\n",
              "225430     1\n",
              "225482     1\n",
              "225495     1\n",
              "225688     1\n",
              "Length: 60736, dtype: int64"
            ]
          },
          "metadata": {},
          "execution_count": 53
        }
      ]
    },
    {
      "cell_type": "code",
      "source": [
        "gr_df.describe()\n"
      ],
      "metadata": {
        "colab": {
          "base_uri": "https://localhost:8080/"
        },
        "id": "Nx_z-NesnPDM",
        "outputId": "cf003a74-d7f1-4952-eaa3-eb7e0eaf00db"
      },
      "execution_count": 54,
      "outputs": [
        {
          "output_type": "execute_result",
          "data": {
            "text/plain": [
              "count    60736.000000\n",
              "mean        63.318411\n",
              "std        163.342578\n",
              "min          1.000000\n",
              "25%         13.000000\n",
              "50%         18.000000\n",
              "75%         22.000000\n",
              "max       1735.000000\n",
              "dtype: float64"
            ]
          },
          "metadata": {},
          "execution_count": 54
        }
      ]
    },
    {
      "cell_type": "code",
      "source": [
        "q75, q25 = np.percentile(gr_df, [75,25])"
      ],
      "metadata": {
        "id": "SmCCwhjv6T6A"
      },
      "execution_count": 55,
      "outputs": []
    },
    {
      "cell_type": "code",
      "source": [
        "print(f'q75={q75}, q25={q25}')"
      ],
      "metadata": {
        "colab": {
          "base_uri": "https://localhost:8080/"
        },
        "id": "hTtItxW8El5v",
        "outputId": "a07f9897-b192-4cf5-a57c-725e4a9ee653"
      },
      "execution_count": 56,
      "outputs": [
        {
          "output_type": "stream",
          "name": "stdout",
          "text": [
            "q75=22.0, q25=13.0\n"
          ]
        }
      ]
    },
    {
      "cell_type": "code",
      "source": [
        "outliers = gr_df.apply(lambda x: x if x>q75 else None)\n",
        "outliers = outliers.dropna()\n",
        "outliers"
      ],
      "metadata": {
        "colab": {
          "base_uri": "https://localhost:8080/"
        },
        "id": "zuuJSp-xA-uq",
        "outputId": "ff48480d-d58d-4a30-da39-e38435b680ef"
      },
      "execution_count": 57,
      "outputs": [
        {
          "output_type": "execute_result",
          "data": {
            "text/plain": [
              "timestamp\n",
              "150029     607.0\n",
              "150074     589.0\n",
              "150081    1098.0\n",
              "150111     543.0\n",
              "150126     532.0\n",
              "           ...  \n",
              "213008     521.0\n",
              "214121     585.0\n",
              "214849     558.0\n",
              "216517     529.0\n",
              "217701     582.0\n",
              "Length: 14861, dtype: float64"
            ]
          },
          "metadata": {},
          "execution_count": 57
        }
      ]
    },
    {
      "cell_type": "code",
      "source": [
        "id_remove = outliers.index.tolist()\n"
      ],
      "metadata": {
        "id": "nYFEhfVsGSLS"
      },
      "execution_count": 58,
      "outputs": []
    },
    {
      "cell_type": "code",
      "source": [
        "df_new = df[~df['timestamp'].isin(id_remove)]\n",
        "df_new"
      ],
      "metadata": {
        "colab": {
          "base_uri": "https://localhost:8080/",
          "height": 423
        },
        "id": "_lj6wJclFWDY",
        "outputId": "899819ae-1c2e-4a04-e824-4fbc7c503dec"
      },
      "execution_count": 59,
      "outputs": [
        {
          "output_type": "execute_result",
          "data": {
            "text/plain": [
              "         user_id   funnel_stage  timestamp  profit       os ad_channel  price\n",
              "0         111649  consideration     150000     0.0  Android      video   0.75\n",
              "1         108759       interest     150000     0.0  Android     banner   0.50\n",
              "2         991236       interest     150000     0.0  Android     native   2.00\n",
              "3         387356       interest     150000     0.0      iOS     search   1.50\n",
              "4         619571  consideration     150000     0.0      iOS     search   1.50\n",
              "...          ...            ...        ...     ...      ...        ...    ...\n",
              "3845702   929180         intent     224682     0.0      iOS     search   1.50\n",
              "3845703  1034498         intent     225430     0.0      iOS     search   1.50\n",
              "3845704   947521  consideration     225482     0.0  Android    organic   0.00\n",
              "3845705   720354       purchase     225495    50.0  Android    organic   0.00\n",
              "3845706   151184       interest     225688     0.0      iOS     search   1.50\n",
              "\n",
              "[643694 rows x 7 columns]"
            ],
            "text/html": [
              "<div>\n",
              "<style scoped>\n",
              "    .dataframe tbody tr th:only-of-type {\n",
              "        vertical-align: middle;\n",
              "    }\n",
              "\n",
              "    .dataframe tbody tr th {\n",
              "        vertical-align: top;\n",
              "    }\n",
              "\n",
              "    .dataframe thead th {\n",
              "        text-align: right;\n",
              "    }\n",
              "</style>\n",
              "<table border=\"1\" class=\"dataframe\">\n",
              "  <thead>\n",
              "    <tr style=\"text-align: right;\">\n",
              "      <th></th>\n",
              "      <th>user_id</th>\n",
              "      <th>funnel_stage</th>\n",
              "      <th>timestamp</th>\n",
              "      <th>profit</th>\n",
              "      <th>os</th>\n",
              "      <th>ad_channel</th>\n",
              "      <th>price</th>\n",
              "    </tr>\n",
              "  </thead>\n",
              "  <tbody>\n",
              "    <tr>\n",
              "      <th>0</th>\n",
              "      <td>111649</td>\n",
              "      <td>consideration</td>\n",
              "      <td>150000</td>\n",
              "      <td>0.0</td>\n",
              "      <td>Android</td>\n",
              "      <td>video</td>\n",
              "      <td>0.75</td>\n",
              "    </tr>\n",
              "    <tr>\n",
              "      <th>1</th>\n",
              "      <td>108759</td>\n",
              "      <td>interest</td>\n",
              "      <td>150000</td>\n",
              "      <td>0.0</td>\n",
              "      <td>Android</td>\n",
              "      <td>banner</td>\n",
              "      <td>0.50</td>\n",
              "    </tr>\n",
              "    <tr>\n",
              "      <th>2</th>\n",
              "      <td>991236</td>\n",
              "      <td>interest</td>\n",
              "      <td>150000</td>\n",
              "      <td>0.0</td>\n",
              "      <td>Android</td>\n",
              "      <td>native</td>\n",
              "      <td>2.00</td>\n",
              "    </tr>\n",
              "    <tr>\n",
              "      <th>3</th>\n",
              "      <td>387356</td>\n",
              "      <td>interest</td>\n",
              "      <td>150000</td>\n",
              "      <td>0.0</td>\n",
              "      <td>iOS</td>\n",
              "      <td>search</td>\n",
              "      <td>1.50</td>\n",
              "    </tr>\n",
              "    <tr>\n",
              "      <th>4</th>\n",
              "      <td>619571</td>\n",
              "      <td>consideration</td>\n",
              "      <td>150000</td>\n",
              "      <td>0.0</td>\n",
              "      <td>iOS</td>\n",
              "      <td>search</td>\n",
              "      <td>1.50</td>\n",
              "    </tr>\n",
              "    <tr>\n",
              "      <th>...</th>\n",
              "      <td>...</td>\n",
              "      <td>...</td>\n",
              "      <td>...</td>\n",
              "      <td>...</td>\n",
              "      <td>...</td>\n",
              "      <td>...</td>\n",
              "      <td>...</td>\n",
              "    </tr>\n",
              "    <tr>\n",
              "      <th>3845702</th>\n",
              "      <td>929180</td>\n",
              "      <td>intent</td>\n",
              "      <td>224682</td>\n",
              "      <td>0.0</td>\n",
              "      <td>iOS</td>\n",
              "      <td>search</td>\n",
              "      <td>1.50</td>\n",
              "    </tr>\n",
              "    <tr>\n",
              "      <th>3845703</th>\n",
              "      <td>1034498</td>\n",
              "      <td>intent</td>\n",
              "      <td>225430</td>\n",
              "      <td>0.0</td>\n",
              "      <td>iOS</td>\n",
              "      <td>search</td>\n",
              "      <td>1.50</td>\n",
              "    </tr>\n",
              "    <tr>\n",
              "      <th>3845704</th>\n",
              "      <td>947521</td>\n",
              "      <td>consideration</td>\n",
              "      <td>225482</td>\n",
              "      <td>0.0</td>\n",
              "      <td>Android</td>\n",
              "      <td>organic</td>\n",
              "      <td>0.00</td>\n",
              "    </tr>\n",
              "    <tr>\n",
              "      <th>3845705</th>\n",
              "      <td>720354</td>\n",
              "      <td>purchase</td>\n",
              "      <td>225495</td>\n",
              "      <td>50.0</td>\n",
              "      <td>Android</td>\n",
              "      <td>organic</td>\n",
              "      <td>0.00</td>\n",
              "    </tr>\n",
              "    <tr>\n",
              "      <th>3845706</th>\n",
              "      <td>151184</td>\n",
              "      <td>interest</td>\n",
              "      <td>225688</td>\n",
              "      <td>0.0</td>\n",
              "      <td>iOS</td>\n",
              "      <td>search</td>\n",
              "      <td>1.50</td>\n",
              "    </tr>\n",
              "  </tbody>\n",
              "</table>\n",
              "<p>643694 rows × 7 columns</p>\n",
              "</div>"
            ]
          },
          "metadata": {},
          "execution_count": 59
        }
      ]
    },
    {
      "cell_type": "code",
      "source": [
        "df_new.timestamp.value_counts().describe()"
      ],
      "metadata": {
        "colab": {
          "base_uri": "https://localhost:8080/"
        },
        "id": "NsjirFTpHbZi",
        "outputId": "8e6758bc-9859-4110-e152-351a5b29ed41"
      },
      "execution_count": 60,
      "outputs": [
        {
          "output_type": "execute_result",
          "data": {
            "text/plain": [
              "count    45875.000000\n",
              "mean        14.031477\n",
              "std          6.437228\n",
              "min          1.000000\n",
              "25%         10.000000\n",
              "50%         16.000000\n",
              "75%         19.000000\n",
              "max         22.000000\n",
              "Name: count, dtype: float64"
            ]
          },
          "metadata": {},
          "execution_count": 60
        }
      ]
    },
    {
      "cell_type": "markdown",
      "source": [
        "#Гистограмма числа действий, совершаемых пользователями в один момент времени"
      ],
      "metadata": {
        "id": "awxow6XnH5JL"
      }
    },
    {
      "cell_type": "code",
      "source": [
        "sns.histplot(df_new.timestamp, bins=25)"
      ],
      "metadata": {
        "colab": {
          "base_uri": "https://localhost:8080/",
          "height": 467
        },
        "id": "sHO4YK2SH8nV",
        "outputId": "839f2c68-9d39-4809-8732-7b976c9fca34"
      },
      "execution_count": 61,
      "outputs": [
        {
          "output_type": "execute_result",
          "data": {
            "text/plain": [
              "<Axes: xlabel='timestamp', ylabel='Count'>"
            ]
          },
          "metadata": {},
          "execution_count": 61
        },
        {
          "output_type": "display_data",
          "data": {
            "text/plain": [
              "<Figure size 640x480 with 1 Axes>"
            ],
            "image/png": "[encoded data removed]"
          },
          "metadata": {}
        }
      ]
    },
    {
      "cell_type": "markdown",
      "source": [
        "#Процент фродовых пользователей от общего числа"
      ],
      "metadata": {
        "id": "BT02a-Z2JF_m"
      }
    },
    {
      "cell_type": "code",
      "source": [
        "all_count = df.shape[0]\n",
        "frod_count = outliers.shape[0]\n",
        "print(f'Процент фродовых пользователей от общего числа: {frod_count/all_count}')"
      ],
      "metadata": {
        "colab": {
          "base_uri": "https://localhost:8080/"
        },
        "id": "Itbd2fCCJHq7",
        "outputId": "a2061720-9fc7-4255-e252-9b65d289227a"
      },
      "execution_count": 62,
      "outputs": [
        {
          "output_type": "stream",
          "name": "stdout",
          "text": [
            "Процент фродовых пользователей от общего числа: 0.00386430895541444\n"
          ]
        }
      ]
    },
    {
      "cell_type": "code",
      "source": [
        "frod_table = df[df['timestamp'].isin(id_remove)]\n",
        "frod_table"
      ],
      "metadata": {
        "colab": {
          "base_uri": "https://localhost:8080/",
          "height": 423
        },
        "id": "tdetcvsjKVFH",
        "outputId": "4d73a885-5c98-4e1d-c2b3-0b0e094c658d"
      },
      "execution_count": 63,
      "outputs": [
        {
          "output_type": "execute_result",
          "data": {
            "text/plain": [
              "         user_id funnel_stage  timestamp  profit       os ad_channel  price\n",
              "373       910643     interest     150029     0.0  Android     search    1.5\n",
              "374       910643     interest     150029     0.0  Android     search    1.5\n",
              "375       910643     interest     150029     0.0      iOS     search    1.5\n",
              "376       910643     interest     150029     0.0      iOS     search    1.5\n",
              "377       910643     interest     150029     0.0      iOS     search    1.5\n",
              "...          ...          ...        ...     ...      ...        ...    ...\n",
              "3845612   153440       intent     217701     0.0  Android    organic    0.0\n",
              "3845613   153440       intent     217701     0.0  Android    organic    0.0\n",
              "3845614   153440       intent     217701     0.0  Android    organic    0.0\n",
              "3845615   153440       intent     217701     0.0  Android    organic    0.0\n",
              "3845616   153440       intent     217701     0.0  Android    organic    0.0\n",
              "\n",
              "[3202013 rows x 7 columns]"
            ],
            "text/html": [
              "<div>\n",
              "<style scoped>\n",
              "    .dataframe tbody tr th:only-of-type {\n",
              "        vertical-align: middle;\n",
              "    }\n",
              "\n",
              "    .dataframe tbody tr th {\n",
              "        vertical-align: top;\n",
              "    }\n",
              "\n",
              "    .dataframe thead th {\n",
              "        text-align: right;\n",
              "    }\n",
              "</style>\n",
              "<table border=\"1\" class=\"dataframe\">\n",
              "  <thead>\n",
              "    <tr style=\"text-align: right;\">\n",
              "      <th></th>\n",
              "      <th>user_id</th>\n",
              "      <th>funnel_stage</th>\n",
              "      <th>timestamp</th>\n",
              "      <th>profit</th>\n",
              "      <th>os</th>\n",
              "      <th>ad_channel</th>\n",
              "      <th>price</th>\n",
              "    </tr>\n",
              "  </thead>\n",
              "  <tbody>\n",
              "    <tr>\n",
              "      <th>373</th>\n",
              "      <td>910643</td>\n",
              "      <td>interest</td>\n",
              "      <td>150029</td>\n",
              "      <td>0.0</td>\n",
              "      <td>Android</td>\n",
              "      <td>search</td>\n",
              "      <td>1.5</td>\n",
              "    </tr>\n",
              "    <tr>\n",
              "      <th>374</th>\n",
              "      <td>910643</td>\n",
              "      <td>interest</td>\n",
              "      <td>150029</td>\n",
              "      <td>0.0</td>\n",
              "      <td>Android</td>\n",
              "      <td>search</td>\n",
              "      <td>1.5</td>\n",
              "    </tr>\n",
              "    <tr>\n",
              "      <th>375</th>\n",
              "      <td>910643</td>\n",
              "      <td>interest</td>\n",
              "      <td>150029</td>\n",
              "      <td>0.0</td>\n",
              "      <td>iOS</td>\n",
              "      <td>search</td>\n",
              "      <td>1.5</td>\n",
              "    </tr>\n",
              "    <tr>\n",
              "      <th>376</th>\n",
              "      <td>910643</td>\n",
              "      <td>interest</td>\n",
              "      <td>150029</td>\n",
              "      <td>0.0</td>\n",
              "      <td>iOS</td>\n",
              "      <td>search</td>\n",
              "      <td>1.5</td>\n",
              "    </tr>\n",
              "    <tr>\n",
              "      <th>377</th>\n",
              "      <td>910643</td>\n",
              "      <td>interest</td>\n",
              "      <td>150029</td>\n",
              "      <td>0.0</td>\n",
              "      <td>iOS</td>\n",
              "      <td>search</td>\n",
              "      <td>1.5</td>\n",
              "    </tr>\n",
              "    <tr>\n",
              "      <th>...</th>\n",
              "      <td>...</td>\n",
              "      <td>...</td>\n",
              "      <td>...</td>\n",
              "      <td>...</td>\n",
              "      <td>...</td>\n",
              "      <td>...</td>\n",
              "      <td>...</td>\n",
              "    </tr>\n",
              "    <tr>\n",
              "      <th>3845612</th>\n",
              "      <td>153440</td>\n",
              "      <td>intent</td>\n",
              "      <td>217701</td>\n",
              "      <td>0.0</td>\n",
              "      <td>Android</td>\n",
              "      <td>organic</td>\n",
              "      <td>0.0</td>\n",
              "    </tr>\n",
              "    <tr>\n",
              "      <th>3845613</th>\n",
              "      <td>153440</td>\n",
              "      <td>intent</td>\n",
              "      <td>217701</td>\n",
              "      <td>0.0</td>\n",
              "      <td>Android</td>\n",
              "      <td>organic</td>\n",
              "      <td>0.0</td>\n",
              "    </tr>\n",
              "    <tr>\n",
              "      <th>3845614</th>\n",
              "      <td>153440</td>\n",
              "      <td>intent</td>\n",
              "      <td>217701</td>\n",
              "      <td>0.0</td>\n",
              "      <td>Android</td>\n",
              "      <td>organic</td>\n",
              "      <td>0.0</td>\n",
              "    </tr>\n",
              "    <tr>\n",
              "      <th>3845615</th>\n",
              "      <td>153440</td>\n",
              "      <td>intent</td>\n",
              "      <td>217701</td>\n",
              "      <td>0.0</td>\n",
              "      <td>Android</td>\n",
              "      <td>organic</td>\n",
              "      <td>0.0</td>\n",
              "    </tr>\n",
              "    <tr>\n",
              "      <th>3845616</th>\n",
              "      <td>153440</td>\n",
              "      <td>intent</td>\n",
              "      <td>217701</td>\n",
              "      <td>0.0</td>\n",
              "      <td>Android</td>\n",
              "      <td>organic</td>\n",
              "      <td>0.0</td>\n",
              "    </tr>\n",
              "  </tbody>\n",
              "</table>\n",
              "<p>3202013 rows × 7 columns</p>\n",
              "</div>"
            ]
          },
          "metadata": {},
          "execution_count": 63
        }
      ]
    },
    {
      "cell_type": "code",
      "source": [
        "#frod_table.to_csv('frod_table.csv', index=False)"
      ],
      "metadata": {
        "id": "CaQ_D4roKBeC"
      },
      "execution_count": 64,
      "outputs": []
    },
    {
      "cell_type": "markdown",
      "source": [
        "#Модуль 9"
      ],
      "metadata": {
        "id": "BMLerVKeItc9"
      }
    },
    {
      "cell_type": "markdown",
      "source": [
        "##Преобразование категориальных признаков"
      ],
      "metadata": {
        "id": "P4y9vWZE59aa"
      }
    },
    {
      "cell_type": "markdown",
      "source": [
        "###Преобразование признака операционной системы"
      ],
      "metadata": {
        "id": "rCoA7RmI6MEn"
      }
    },
    {
      "cell_type": "code",
      "source": [
        "from sklearn.preprocessing import LabelEncoder, StandardScaler, OneHotEncoder"
      ],
      "metadata": {
        "id": "r9fhSPF-xjtj"
      },
      "execution_count": 65,
      "outputs": []
    },
    {
      "cell_type": "code",
      "source": [
        "os_data = df_new[['os']]"
      ],
      "metadata": {
        "id": "TP9XuP_-yLG1"
      },
      "execution_count": 66,
      "outputs": []
    },
    {
      "cell_type": "code",
      "source": [
        "ohe = OneHotEncoder(sparse=False)"
      ],
      "metadata": {
        "id": "yLzINXSewA_l"
      },
      "execution_count": 67,
      "outputs": []
    },
    {
      "cell_type": "code",
      "source": [
        "enc_os_data = ohe.fit_transform(os_data)"
      ],
      "metadata": {
        "colab": {
          "base_uri": "https://localhost:8080/"
        },
        "id": "xxq-z3gLynS4",
        "outputId": "0f15f004-6979-4683-e50f-9090923c6a52"
      },
      "execution_count": 68,
      "outputs": [
        {
          "output_type": "stream",
          "name": "stderr",
          "text": [
            "C:\\Users\\Danil\\anaconda3\\Lib\\site-packages\\sklearn\\preprocessing\\_encoders.py:972: FutureWarning: `sparse` was renamed to `sparse_output` in version 1.2 and will be removed in 1.4. `sparse_output` is ignored unless you leave `sparse` to its default value.\n",
            "  warnings.warn(\n"
          ]
        }
      ]
    },
    {
      "cell_type": "code",
      "source": [
        "df_new[ohe.get_feature_names_out()] = enc_os_data\n",
        "df_new"
      ],
      "metadata": {
        "colab": {
          "base_uri": "https://localhost:8080/",
          "height": 642
        },
        "id": "cxnX6OAA2V7t",
        "outputId": "056f6e28-59f9-4e05-cbbd-796d52b54450"
      },
      "execution_count": 69,
      "outputs": [
        {
          "output_type": "stream",
          "name": "stderr",
          "text": [
            "C:\\Users\\Danil\\AppData\\Local\\Temp\\ipykernel_15972\\4273702362.py:1: SettingWithCopyWarning: \n",
            "A value is trying to be set on a copy of a slice from a DataFrame.\n",
            "Try using .loc[row_indexer,col_indexer] = value instead\n",
            "\n",
            "See the caveats in the documentation: https://pandas.pydata.org/pandas-docs/stable/user_guide/indexing.html#returning-a-view-versus-a-copy\n",
            "  df_new[ohe.get_feature_names_out()] = enc_os_data\n",
            "C:\\Users\\Danil\\AppData\\Local\\Temp\\ipykernel_15972\\4273702362.py:1: SettingWithCopyWarning: \n",
            "A value is trying to be set on a copy of a slice from a DataFrame.\n",
            "Try using .loc[row_indexer,col_indexer] = value instead\n",
            "\n",
            "See the caveats in the documentation: https://pandas.pydata.org/pandas-docs/stable/user_guide/indexing.html#returning-a-view-versus-a-copy\n",
            "  df_new[ohe.get_feature_names_out()] = enc_os_data\n"
          ]
        },
        {
          "output_type": "execute_result",
          "data": {
            "text/plain": [
              "         user_id   funnel_stage  timestamp  profit       os ad_channel  price  \\\n",
              "0         111649  consideration     150000     0.0  Android      video   0.75   \n",
              "1         108759       interest     150000     0.0  Android     banner   0.50   \n",
              "2         991236       interest     150000     0.0  Android     native   2.00   \n",
              "3         387356       interest     150000     0.0      iOS     search   1.50   \n",
              "4         619571  consideration     150000     0.0      iOS     search   1.50   \n",
              "...          ...            ...        ...     ...      ...        ...    ...   \n",
              "3845702   929180         intent     224682     0.0      iOS     search   1.50   \n",
              "3845703  1034498         intent     225430     0.0      iOS     search   1.50   \n",
              "3845704   947521  consideration     225482     0.0  Android    organic   0.00   \n",
              "3845705   720354       purchase     225495    50.0  Android    organic   0.00   \n",
              "3845706   151184       interest     225688     0.0      iOS     search   1.50   \n",
              "\n",
              "         os_Android  os_iOS  \n",
              "0               1.0     0.0  \n",
              "1               1.0     0.0  \n",
              "2               1.0     0.0  \n",
              "3               0.0     1.0  \n",
              "4               0.0     1.0  \n",
              "...             ...     ...  \n",
              "3845702         0.0     1.0  \n",
              "3845703         0.0     1.0  \n",
              "3845704         1.0     0.0  \n",
              "3845705         1.0     0.0  \n",
              "3845706         0.0     1.0  \n",
              "\n",
              "[643694 rows x 9 columns]"
            ],
            "text/html": [
              "<div>\n",
              "<style scoped>\n",
              "    .dataframe tbody tr th:only-of-type {\n",
              "        vertical-align: middle;\n",
              "    }\n",
              "\n",
              "    .dataframe tbody tr th {\n",
              "        vertical-align: top;\n",
              "    }\n",
              "\n",
              "    .dataframe thead th {\n",
              "        text-align: right;\n",
              "    }\n",
              "</style>\n",
              "<table border=\"1\" class=\"dataframe\">\n",
              "  <thead>\n",
              "    <tr style=\"text-align: right;\">\n",
              "      <th></th>\n",
              "      <th>user_id</th>\n",
              "      <th>funnel_stage</th>\n",
              "      <th>timestamp</th>\n",
              "      <th>profit</th>\n",
              "      <th>os</th>\n",
              "      <th>ad_channel</th>\n",
              "      <th>price</th>\n",
              "      <th>os_Android</th>\n",
              "      <th>os_iOS</th>\n",
              "    </tr>\n",
              "  </thead>\n",
              "  <tbody>\n",
              "    <tr>\n",
              "      <th>0</th>\n",
              "      <td>111649</td>\n",
              "      <td>consideration</td>\n",
              "      <td>150000</td>\n",
              "      <td>0.0</td>\n",
              "      <td>Android</td>\n",
              "      <td>video</td>\n",
              "      <td>0.75</td>\n",
              "      <td>1.0</td>\n",
              "      <td>0.0</td>\n",
              "    </tr>\n",
              "    <tr>\n",
              "      <th>1</th>\n",
              "      <td>108759</td>\n",
              "      <td>interest</td>\n",
              "      <td>150000</td>\n",
              "      <td>0.0</td>\n",
              "      <td>Android</td>\n",
              "      <td>banner</td>\n",
              "      <td>0.50</td>\n",
              "      <td>1.0</td>\n",
              "      <td>0.0</td>\n",
              "    </tr>\n",
              "    <tr>\n",
              "      <th>2</th>\n",
              "      <td>991236</td>\n",
              "      <td>interest</td>\n",
              "      <td>150000</td>\n",
              "      <td>0.0</td>\n",
              "      <td>Android</td>\n",
              "      <td>native</td>\n",
              "      <td>2.00</td>\n",
              "      <td>1.0</td>\n",
              "      <td>0.0</td>\n",
              "    </tr>\n",
              "    <tr>\n",
              "      <th>3</th>\n",
              "      <td>387356</td>\n",
              "      <td>interest</td>\n",
              "      <td>150000</td>\n",
              "      <td>0.0</td>\n",
              "      <td>iOS</td>\n",
              "      <td>search</td>\n",
              "      <td>1.50</td>\n",
              "      <td>0.0</td>\n",
              "      <td>1.0</td>\n",
              "    </tr>\n",
              "    <tr>\n",
              "      <th>4</th>\n",
              "      <td>619571</td>\n",
              "      <td>consideration</td>\n",
              "      <td>150000</td>\n",
              "      <td>0.0</td>\n",
              "      <td>iOS</td>\n",
              "      <td>search</td>\n",
              "      <td>1.50</td>\n",
              "      <td>0.0</td>\n",
              "      <td>1.0</td>\n",
              "    </tr>\n",
              "    <tr>\n",
              "      <th>...</th>\n",
              "      <td>...</td>\n",
              "      <td>...</td>\n",
              "      <td>...</td>\n",
              "      <td>...</td>\n",
              "      <td>...</td>\n",
              "      <td>...</td>\n",
              "      <td>...</td>\n",
              "      <td>...</td>\n",
              "      <td>...</td>\n",
              "    </tr>\n",
              "    <tr>\n",
              "      <th>3845702</th>\n",
              "      <td>929180</td>\n",
              "      <td>intent</td>\n",
              "      <td>224682</td>\n",
              "      <td>0.0</td>\n",
              "      <td>iOS</td>\n",
              "      <td>search</td>\n",
              "      <td>1.50</td>\n",
              "      <td>0.0</td>\n",
              "      <td>1.0</td>\n",
              "    </tr>\n",
              "    <tr>\n",
              "      <th>3845703</th>\n",
              "      <td>1034498</td>\n",
              "      <td>intent</td>\n",
              "      <td>225430</td>\n",
              "      <td>0.0</td>\n",
              "      <td>iOS</td>\n",
              "      <td>search</td>\n",
              "      <td>1.50</td>\n",
              "      <td>0.0</td>\n",
              "      <td>1.0</td>\n",
              "    </tr>\n",
              "    <tr>\n",
              "      <th>3845704</th>\n",
              "      <td>947521</td>\n",
              "      <td>consideration</td>\n",
              "      <td>225482</td>\n",
              "      <td>0.0</td>\n",
              "      <td>Android</td>\n",
              "      <td>organic</td>\n",
              "      <td>0.00</td>\n",
              "      <td>1.0</td>\n",
              "      <td>0.0</td>\n",
              "    </tr>\n",
              "    <tr>\n",
              "      <th>3845705</th>\n",
              "      <td>720354</td>\n",
              "      <td>purchase</td>\n",
              "      <td>225495</td>\n",
              "      <td>50.0</td>\n",
              "      <td>Android</td>\n",
              "      <td>organic</td>\n",
              "      <td>0.00</td>\n",
              "      <td>1.0</td>\n",
              "      <td>0.0</td>\n",
              "    </tr>\n",
              "    <tr>\n",
              "      <th>3845706</th>\n",
              "      <td>151184</td>\n",
              "      <td>interest</td>\n",
              "      <td>225688</td>\n",
              "      <td>0.0</td>\n",
              "      <td>iOS</td>\n",
              "      <td>search</td>\n",
              "      <td>1.50</td>\n",
              "      <td>0.0</td>\n",
              "      <td>1.0</td>\n",
              "    </tr>\n",
              "  </tbody>\n",
              "</table>\n",
              "<p>643694 rows × 9 columns</p>\n",
              "</div>"
            ]
          },
          "metadata": {},
          "execution_count": 69
        }
      ]
    },
    {
      "cell_type": "markdown",
      "source": [
        "###Преобразование признака этапа воронки продаж"
      ],
      "metadata": {
        "id": "e_-9qaTr6Qqv"
      }
    },
    {
      "cell_type": "code",
      "source": [
        "stage_mapping = {'interest' : 0.0, 'consideration' : 1.0, 'intent' : 2.0, 'purchase' : 3.0}"
      ],
      "metadata": {
        "id": "etfjoLxv6wcY"
      },
      "execution_count": 70,
      "outputs": []
    },
    {
      "cell_type": "code",
      "source": [
        "stage_data = df_new['funnel_stage']"
      ],
      "metadata": {
        "id": "Yj3zZn478sFs"
      },
      "execution_count": 71,
      "outputs": []
    },
    {
      "cell_type": "code",
      "source": [
        "enc_stage_data = [stage_mapping[stage] for stage in stage_data]\n",
        "df_new['funnel_stage_enc'] = enc_stage_data\n",
        "df_new.head()"
      ],
      "metadata": {
        "colab": {
          "base_uri": "https://localhost:8080/",
          "height": 0
        },
        "id": "IYz-p-pz6lzP",
        "outputId": "15fb955f-a050-4f5f-e535-4000a5ed52c5"
      },
      "execution_count": 72,
      "outputs": [
        {
          "output_type": "stream",
          "name": "stderr",
          "text": [
            "C:\\Users\\Danil\\AppData\\Local\\Temp\\ipykernel_15972\\3784887318.py:2: SettingWithCopyWarning: \n",
            "A value is trying to be set on a copy of a slice from a DataFrame.\n",
            "Try using .loc[row_indexer,col_indexer] = value instead\n",
            "\n",
            "See the caveats in the documentation: https://pandas.pydata.org/pandas-docs/stable/user_guide/indexing.html#returning-a-view-versus-a-copy\n",
            "  df_new['funnel_stage_enc'] = enc_stage_data\n"
          ]
        },
        {
          "output_type": "execute_result",
          "data": {
            "text/plain": [
              "   user_id   funnel_stage  timestamp  profit       os ad_channel  price  \\\n",
              "0   111649  consideration     150000     0.0  Android      video   0.75   \n",
              "1   108759       interest     150000     0.0  Android     banner   0.50   \n",
              "2   991236       interest     150000     0.0  Android     native   2.00   \n",
              "3   387356       interest     150000     0.0      iOS     search   1.50   \n",
              "4   619571  consideration     150000     0.0      iOS     search   1.50   \n",
              "\n",
              "   os_Android  os_iOS  funnel_stage_enc  \n",
              "0         1.0     0.0               1.0  \n",
              "1         1.0     0.0               0.0  \n",
              "2         1.0     0.0               0.0  \n",
              "3         0.0     1.0               0.0  \n",
              "4         0.0     1.0               1.0  "
            ],
            "text/html": [
              "<div>\n",
              "<style scoped>\n",
              "    .dataframe tbody tr th:only-of-type {\n",
              "        vertical-align: middle;\n",
              "    }\n",
              "\n",
              "    .dataframe tbody tr th {\n",
              "        vertical-align: top;\n",
              "    }\n",
              "\n",
              "    .dataframe thead th {\n",
              "        text-align: right;\n",
              "    }\n",
              "</style>\n",
              "<table border=\"1\" class=\"dataframe\">\n",
              "  <thead>\n",
              "    <tr style=\"text-align: right;\">\n",
              "      <th></th>\n",
              "      <th>user_id</th>\n",
              "      <th>funnel_stage</th>\n",
              "      <th>timestamp</th>\n",
              "      <th>profit</th>\n",
              "      <th>os</th>\n",
              "      <th>ad_channel</th>\n",
              "      <th>price</th>\n",
              "      <th>os_Android</th>\n",
              "      <th>os_iOS</th>\n",
              "      <th>funnel_stage_enc</th>\n",
              "    </tr>\n",
              "  </thead>\n",
              "  <tbody>\n",
              "    <tr>\n",
              "      <th>0</th>\n",
              "      <td>111649</td>\n",
              "      <td>consideration</td>\n",
              "      <td>150000</td>\n",
              "      <td>0.0</td>\n",
              "      <td>Android</td>\n",
              "      <td>video</td>\n",
              "      <td>0.75</td>\n",
              "      <td>1.0</td>\n",
              "      <td>0.0</td>\n",
              "      <td>1.0</td>\n",
              "    </tr>\n",
              "    <tr>\n",
              "      <th>1</th>\n",
              "      <td>108759</td>\n",
              "      <td>interest</td>\n",
              "      <td>150000</td>\n",
              "      <td>0.0</td>\n",
              "      <td>Android</td>\n",
              "      <td>banner</td>\n",
              "      <td>0.50</td>\n",
              "      <td>1.0</td>\n",
              "      <td>0.0</td>\n",
              "      <td>0.0</td>\n",
              "    </tr>\n",
              "    <tr>\n",
              "      <th>2</th>\n",
              "      <td>991236</td>\n",
              "      <td>interest</td>\n",
              "      <td>150000</td>\n",
              "      <td>0.0</td>\n",
              "      <td>Android</td>\n",
              "      <td>native</td>\n",
              "      <td>2.00</td>\n",
              "      <td>1.0</td>\n",
              "      <td>0.0</td>\n",
              "      <td>0.0</td>\n",
              "    </tr>\n",
              "    <tr>\n",
              "      <th>3</th>\n",
              "      <td>387356</td>\n",
              "      <td>interest</td>\n",
              "      <td>150000</td>\n",
              "      <td>0.0</td>\n",
              "      <td>iOS</td>\n",
              "      <td>search</td>\n",
              "      <td>1.50</td>\n",
              "      <td>0.0</td>\n",
              "      <td>1.0</td>\n",
              "      <td>0.0</td>\n",
              "    </tr>\n",
              "    <tr>\n",
              "      <th>4</th>\n",
              "      <td>619571</td>\n",
              "      <td>consideration</td>\n",
              "      <td>150000</td>\n",
              "      <td>0.0</td>\n",
              "      <td>iOS</td>\n",
              "      <td>search</td>\n",
              "      <td>1.50</td>\n",
              "      <td>0.0</td>\n",
              "      <td>1.0</td>\n",
              "      <td>1.0</td>\n",
              "    </tr>\n",
              "  </tbody>\n",
              "</table>\n",
              "</div>"
            ]
          },
          "metadata": {},
          "execution_count": 72
        }
      ]
    },
    {
      "cell_type": "code",
      "source": [
        "df_new = df_new.drop(columns=['funnel_stage', 'os'])\n",
        "df_new"
      ],
      "metadata": {
        "colab": {
          "base_uri": "https://localhost:8080/",
          "height": 0
        },
        "id": "JQxf_7nxY6jT",
        "outputId": "bcc4f38d-f667-4837-9d55-99dfdefc1633"
      },
      "execution_count": 73,
      "outputs": [
        {
          "output_type": "execute_result",
          "data": {
            "text/plain": [
              "         user_id  timestamp  profit ad_channel  price  os_Android  os_iOS  \\\n",
              "0         111649     150000     0.0      video   0.75         1.0     0.0   \n",
              "1         108759     150000     0.0     banner   0.50         1.0     0.0   \n",
              "2         991236     150000     0.0     native   2.00         1.0     0.0   \n",
              "3         387356     150000     0.0     search   1.50         0.0     1.0   \n",
              "4         619571     150000     0.0     search   1.50         0.0     1.0   \n",
              "...          ...        ...     ...        ...    ...         ...     ...   \n",
              "3845702   929180     224682     0.0     search   1.50         0.0     1.0   \n",
              "3845703  1034498     225430     0.0     search   1.50         0.0     1.0   \n",
              "3845704   947521     225482     0.0    organic   0.00         1.0     0.0   \n",
              "3845705   720354     225495    50.0    organic   0.00         1.0     0.0   \n",
              "3845706   151184     225688     0.0     search   1.50         0.0     1.0   \n",
              "\n",
              "         funnel_stage_enc  \n",
              "0                     1.0  \n",
              "1                     0.0  \n",
              "2                     0.0  \n",
              "3                     0.0  \n",
              "4                     1.0  \n",
              "...                   ...  \n",
              "3845702               2.0  \n",
              "3845703               2.0  \n",
              "3845704               1.0  \n",
              "3845705               3.0  \n",
              "3845706               0.0  \n",
              "\n",
              "[643694 rows x 8 columns]"
            ],
            "text/html": [
              "<div>\n",
              "<style scoped>\n",
              "    .dataframe tbody tr th:only-of-type {\n",
              "        vertical-align: middle;\n",
              "    }\n",
              "\n",
              "    .dataframe tbody tr th {\n",
              "        vertical-align: top;\n",
              "    }\n",
              "\n",
              "    .dataframe thead th {\n",
              "        text-align: right;\n",
              "    }\n",
              "</style>\n",
              "<table border=\"1\" class=\"dataframe\">\n",
              "  <thead>\n",
              "    <tr style=\"text-align: right;\">\n",
              "      <th></th>\n",
              "      <th>user_id</th>\n",
              "      <th>timestamp</th>\n",
              "      <th>profit</th>\n",
              "      <th>ad_channel</th>\n",
              "      <th>price</th>\n",
              "      <th>os_Android</th>\n",
              "      <th>os_iOS</th>\n",
              "      <th>funnel_stage_enc</th>\n",
              "    </tr>\n",
              "  </thead>\n",
              "  <tbody>\n",
              "    <tr>\n",
              "      <th>0</th>\n",
              "      <td>111649</td>\n",
              "      <td>150000</td>\n",
              "      <td>0.0</td>\n",
              "      <td>video</td>\n",
              "      <td>0.75</td>\n",
              "      <td>1.0</td>\n",
              "      <td>0.0</td>\n",
              "      <td>1.0</td>\n",
              "    </tr>\n",
              "    <tr>\n",
              "      <th>1</th>\n",
              "      <td>108759</td>\n",
              "      <td>150000</td>\n",
              "      <td>0.0</td>\n",
              "      <td>banner</td>\n",
              "      <td>0.50</td>\n",
              "      <td>1.0</td>\n",
              "      <td>0.0</td>\n",
              "      <td>0.0</td>\n",
              "    </tr>\n",
              "    <tr>\n",
              "      <th>2</th>\n",
              "      <td>991236</td>\n",
              "      <td>150000</td>\n",
              "      <td>0.0</td>\n",
              "      <td>native</td>\n",
              "      <td>2.00</td>\n",
              "      <td>1.0</td>\n",
              "      <td>0.0</td>\n",
              "      <td>0.0</td>\n",
              "    </tr>\n",
              "    <tr>\n",
              "      <th>3</th>\n",
              "      <td>387356</td>\n",
              "      <td>150000</td>\n",
              "      <td>0.0</td>\n",
              "      <td>search</td>\n",
              "      <td>1.50</td>\n",
              "      <td>0.0</td>\n",
              "      <td>1.0</td>\n",
              "      <td>0.0</td>\n",
              "    </tr>\n",
              "    <tr>\n",
              "      <th>4</th>\n",
              "      <td>619571</td>\n",
              "      <td>150000</td>\n",
              "      <td>0.0</td>\n",
              "      <td>search</td>\n",
              "      <td>1.50</td>\n",
              "      <td>0.0</td>\n",
              "      <td>1.0</td>\n",
              "      <td>1.0</td>\n",
              "    </tr>\n",
              "    <tr>\n",
              "      <th>...</th>\n",
              "      <td>...</td>\n",
              "      <td>...</td>\n",
              "      <td>...</td>\n",
              "      <td>...</td>\n",
              "      <td>...</td>\n",
              "      <td>...</td>\n",
              "      <td>...</td>\n",
              "      <td>...</td>\n",
              "    </tr>\n",
              "    <tr>\n",
              "      <th>3845702</th>\n",
              "      <td>929180</td>\n",
              "      <td>224682</td>\n",
              "      <td>0.0</td>\n",
              "      <td>search</td>\n",
              "      <td>1.50</td>\n",
              "      <td>0.0</td>\n",
              "      <td>1.0</td>\n",
              "      <td>2.0</td>\n",
              "    </tr>\n",
              "    <tr>\n",
              "      <th>3845703</th>\n",
              "      <td>1034498</td>\n",
              "      <td>225430</td>\n",
              "      <td>0.0</td>\n",
              "      <td>search</td>\n",
              "      <td>1.50</td>\n",
              "      <td>0.0</td>\n",
              "      <td>1.0</td>\n",
              "      <td>2.0</td>\n",
              "    </tr>\n",
              "    <tr>\n",
              "      <th>3845704</th>\n",
              "      <td>947521</td>\n",
              "      <td>225482</td>\n",
              "      <td>0.0</td>\n",
              "      <td>organic</td>\n",
              "      <td>0.00</td>\n",
              "      <td>1.0</td>\n",
              "      <td>0.0</td>\n",
              "      <td>1.0</td>\n",
              "    </tr>\n",
              "    <tr>\n",
              "      <th>3845705</th>\n",
              "      <td>720354</td>\n",
              "      <td>225495</td>\n",
              "      <td>50.0</td>\n",
              "      <td>organic</td>\n",
              "      <td>0.00</td>\n",
              "      <td>1.0</td>\n",
              "      <td>0.0</td>\n",
              "      <td>3.0</td>\n",
              "    </tr>\n",
              "    <tr>\n",
              "      <th>3845706</th>\n",
              "      <td>151184</td>\n",
              "      <td>225688</td>\n",
              "      <td>0.0</td>\n",
              "      <td>search</td>\n",
              "      <td>1.50</td>\n",
              "      <td>0.0</td>\n",
              "      <td>1.0</td>\n",
              "      <td>0.0</td>\n",
              "    </tr>\n",
              "  </tbody>\n",
              "</table>\n",
              "<p>643694 rows × 8 columns</p>\n",
              "</div>"
            ]
          },
          "metadata": {},
          "execution_count": 73
        }
      ]
    },
    {
      "cell_type": "markdown",
      "source": [
        "###Преобразование признака рекламных каналов"
      ],
      "metadata": {
        "id": "PTX6VG5AayKC"
      }
    },
    {
      "cell_type": "code",
      "source": [
        "df_new"
      ],
      "metadata": {
        "colab": {
          "base_uri": "https://localhost:8080/",
          "height": 423
        },
        "id": "m5iu4NX_bCK5",
        "outputId": "7ccce680-88c6-4d8a-972c-7bebc12c4c08"
      },
      "execution_count": 74,
      "outputs": [
        {
          "output_type": "execute_result",
          "data": {
            "text/plain": [
              "         user_id  timestamp  profit ad_channel  price  os_Android  os_iOS  \\\n",
              "0         111649     150000     0.0      video   0.75         1.0     0.0   \n",
              "1         108759     150000     0.0     banner   0.50         1.0     0.0   \n",
              "2         991236     150000     0.0     native   2.00         1.0     0.0   \n",
              "3         387356     150000     0.0     search   1.50         0.0     1.0   \n",
              "4         619571     150000     0.0     search   1.50         0.0     1.0   \n",
              "...          ...        ...     ...        ...    ...         ...     ...   \n",
              "3845702   929180     224682     0.0     search   1.50         0.0     1.0   \n",
              "3845703  1034498     225430     0.0     search   1.50         0.0     1.0   \n",
              "3845704   947521     225482     0.0    organic   0.00         1.0     0.0   \n",
              "3845705   720354     225495    50.0    organic   0.00         1.0     0.0   \n",
              "3845706   151184     225688     0.0     search   1.50         0.0     1.0   \n",
              "\n",
              "         funnel_stage_enc  \n",
              "0                     1.0  \n",
              "1                     0.0  \n",
              "2                     0.0  \n",
              "3                     0.0  \n",
              "4                     1.0  \n",
              "...                   ...  \n",
              "3845702               2.0  \n",
              "3845703               2.0  \n",
              "3845704               1.0  \n",
              "3845705               3.0  \n",
              "3845706               0.0  \n",
              "\n",
              "[643694 rows x 8 columns]"
            ],
            "text/html": [
              "<div>\n",
              "<style scoped>\n",
              "    .dataframe tbody tr th:only-of-type {\n",
              "        vertical-align: middle;\n",
              "    }\n",
              "\n",
              "    .dataframe tbody tr th {\n",
              "        vertical-align: top;\n",
              "    }\n",
              "\n",
              "    .dataframe thead th {\n",
              "        text-align: right;\n",
              "    }\n",
              "</style>\n",
              "<table border=\"1\" class=\"dataframe\">\n",
              "  <thead>\n",
              "    <tr style=\"text-align: right;\">\n",
              "      <th></th>\n",
              "      <th>user_id</th>\n",
              "      <th>timestamp</th>\n",
              "      <th>profit</th>\n",
              "      <th>ad_channel</th>\n",
              "      <th>price</th>\n",
              "      <th>os_Android</th>\n",
              "      <th>os_iOS</th>\n",
              "      <th>funnel_stage_enc</th>\n",
              "    </tr>\n",
              "  </thead>\n",
              "  <tbody>\n",
              "    <tr>\n",
              "      <th>0</th>\n",
              "      <td>111649</td>\n",
              "      <td>150000</td>\n",
              "      <td>0.0</td>\n",
              "      <td>video</td>\n",
              "      <td>0.75</td>\n",
              "      <td>1.0</td>\n",
              "      <td>0.0</td>\n",
              "      <td>1.0</td>\n",
              "    </tr>\n",
              "    <tr>\n",
              "      <th>1</th>\n",
              "      <td>108759</td>\n",
              "      <td>150000</td>\n",
              "      <td>0.0</td>\n",
              "      <td>banner</td>\n",
              "      <td>0.50</td>\n",
              "      <td>1.0</td>\n",
              "      <td>0.0</td>\n",
              "      <td>0.0</td>\n",
              "    </tr>\n",
              "    <tr>\n",
              "      <th>2</th>\n",
              "      <td>991236</td>\n",
              "      <td>150000</td>\n",
              "      <td>0.0</td>\n",
              "      <td>native</td>\n",
              "      <td>2.00</td>\n",
              "      <td>1.0</td>\n",
              "      <td>0.0</td>\n",
              "      <td>0.0</td>\n",
              "    </tr>\n",
              "    <tr>\n",
              "      <th>3</th>\n",
              "      <td>387356</td>\n",
              "      <td>150000</td>\n",
              "      <td>0.0</td>\n",
              "      <td>search</td>\n",
              "      <td>1.50</td>\n",
              "      <td>0.0</td>\n",
              "      <td>1.0</td>\n",
              "      <td>0.0</td>\n",
              "    </tr>\n",
              "    <tr>\n",
              "      <th>4</th>\n",
              "      <td>619571</td>\n",
              "      <td>150000</td>\n",
              "      <td>0.0</td>\n",
              "      <td>search</td>\n",
              "      <td>1.50</td>\n",
              "      <td>0.0</td>\n",
              "      <td>1.0</td>\n",
              "      <td>1.0</td>\n",
              "    </tr>\n",
              "    <tr>\n",
              "      <th>...</th>\n",
              "      <td>...</td>\n",
              "      <td>...</td>\n",
              "      <td>...</td>\n",
              "      <td>...</td>\n",
              "      <td>...</td>\n",
              "      <td>...</td>\n",
              "      <td>...</td>\n",
              "      <td>...</td>\n",
              "    </tr>\n",
              "    <tr>\n",
              "      <th>3845702</th>\n",
              "      <td>929180</td>\n",
              "      <td>224682</td>\n",
              "      <td>0.0</td>\n",
              "      <td>search</td>\n",
              "      <td>1.50</td>\n",
              "      <td>0.0</td>\n",
              "      <td>1.0</td>\n",
              "      <td>2.0</td>\n",
              "    </tr>\n",
              "    <tr>\n",
              "      <th>3845703</th>\n",
              "      <td>1034498</td>\n",
              "      <td>225430</td>\n",
              "      <td>0.0</td>\n",
              "      <td>search</td>\n",
              "      <td>1.50</td>\n",
              "      <td>0.0</td>\n",
              "      <td>1.0</td>\n",
              "      <td>2.0</td>\n",
              "    </tr>\n",
              "    <tr>\n",
              "      <th>3845704</th>\n",
              "      <td>947521</td>\n",
              "      <td>225482</td>\n",
              "      <td>0.0</td>\n",
              "      <td>organic</td>\n",
              "      <td>0.00</td>\n",
              "      <td>1.0</td>\n",
              "      <td>0.0</td>\n",
              "      <td>1.0</td>\n",
              "    </tr>\n",
              "    <tr>\n",
              "      <th>3845705</th>\n",
              "      <td>720354</td>\n",
              "      <td>225495</td>\n",
              "      <td>50.0</td>\n",
              "      <td>organic</td>\n",
              "      <td>0.00</td>\n",
              "      <td>1.0</td>\n",
              "      <td>0.0</td>\n",
              "      <td>3.0</td>\n",
              "    </tr>\n",
              "    <tr>\n",
              "      <th>3845706</th>\n",
              "      <td>151184</td>\n",
              "      <td>225688</td>\n",
              "      <td>0.0</td>\n",
              "      <td>search</td>\n",
              "      <td>1.50</td>\n",
              "      <td>0.0</td>\n",
              "      <td>1.0</td>\n",
              "      <td>0.0</td>\n",
              "    </tr>\n",
              "  </tbody>\n",
              "</table>\n",
              "<p>643694 rows × 8 columns</p>\n",
              "</div>"
            ]
          },
          "metadata": {},
          "execution_count": 74
        }
      ]
    },
    {
      "cell_type": "code",
      "source": [
        "channel_data = df_new['ad_channel']\n",
        "\n",
        "le = LabelEncoder()\n",
        "\n",
        "enc_channel_data = le.fit_transform(channel_data)\n",
        "df_new['ad_channel_enc'] = enc_channel_data\n",
        "df_new = df_new.drop(columns=['ad_channel'])\n",
        "df_new"
      ],
      "metadata": {
        "colab": {
          "base_uri": "https://localhost:8080/",
          "height": 423
        },
        "id": "1RJC2bR8a4kJ",
        "outputId": "aa0c3078-7cf9-4070-f91c-575b8452e825"
      },
      "execution_count": 75,
      "outputs": [
        {
          "output_type": "execute_result",
          "data": {
            "text/plain": [
              "         user_id  timestamp  profit  price  os_Android  os_iOS  \\\n",
              "0         111649     150000     0.0   0.75         1.0     0.0   \n",
              "1         108759     150000     0.0   0.50         1.0     0.0   \n",
              "2         991236     150000     0.0   2.00         1.0     0.0   \n",
              "3         387356     150000     0.0   1.50         0.0     1.0   \n",
              "4         619571     150000     0.0   1.50         0.0     1.0   \n",
              "...          ...        ...     ...    ...         ...     ...   \n",
              "3845702   929180     224682     0.0   1.50         0.0     1.0   \n",
              "3845703  1034498     225430     0.0   1.50         0.0     1.0   \n",
              "3845704   947521     225482     0.0   0.00         1.0     0.0   \n",
              "3845705   720354     225495    50.0   0.00         1.0     0.0   \n",
              "3845706   151184     225688     0.0   1.50         0.0     1.0   \n",
              "\n",
              "         funnel_stage_enc  ad_channel_enc  \n",
              "0                     1.0               7  \n",
              "1                     0.0               0  \n",
              "2                     0.0               1  \n",
              "3                     0.0               6  \n",
              "4                     1.0               6  \n",
              "...                   ...             ...  \n",
              "3845702               2.0               6  \n",
              "3845703               2.0               6  \n",
              "3845704               1.0               2  \n",
              "3845705               3.0               2  \n",
              "3845706               0.0               6  \n",
              "\n",
              "[643694 rows x 8 columns]"
            ],
            "text/html": [
              "<div>\n",
              "<style scoped>\n",
              "    .dataframe tbody tr th:only-of-type {\n",
              "        vertical-align: middle;\n",
              "    }\n",
              "\n",
              "    .dataframe tbody tr th {\n",
              "        vertical-align: top;\n",
              "    }\n",
              "\n",
              "    .dataframe thead th {\n",
              "        text-align: right;\n",
              "    }\n",
              "</style>\n",
              "<table border=\"1\" class=\"dataframe\">\n",
              "  <thead>\n",
              "    <tr style=\"text-align: right;\">\n",
              "      <th></th>\n",
              "      <th>user_id</th>\n",
              "      <th>timestamp</th>\n",
              "      <th>profit</th>\n",
              "      <th>price</th>\n",
              "      <th>os_Android</th>\n",
              "      <th>os_iOS</th>\n",
              "      <th>funnel_stage_enc</th>\n",
              "      <th>ad_channel_enc</th>\n",
              "    </tr>\n",
              "  </thead>\n",
              "  <tbody>\n",
              "    <tr>\n",
              "      <th>0</th>\n",
              "      <td>111649</td>\n",
              "      <td>150000</td>\n",
              "      <td>0.0</td>\n",
              "      <td>0.75</td>\n",
              "      <td>1.0</td>\n",
              "      <td>0.0</td>\n",
              "      <td>1.0</td>\n",
              "      <td>7</td>\n",
              "    </tr>\n",
              "    <tr>\n",
              "      <th>1</th>\n",
              "      <td>108759</td>\n",
              "      <td>150000</td>\n",
              "      <td>0.0</td>\n",
              "      <td>0.50</td>\n",
              "      <td>1.0</td>\n",
              "      <td>0.0</td>\n",
              "      <td>0.0</td>\n",
              "      <td>0</td>\n",
              "    </tr>\n",
              "    <tr>\n",
              "      <th>2</th>\n",
              "      <td>991236</td>\n",
              "      <td>150000</td>\n",
              "      <td>0.0</td>\n",
              "      <td>2.00</td>\n",
              "      <td>1.0</td>\n",
              "      <td>0.0</td>\n",
              "      <td>0.0</td>\n",
              "      <td>1</td>\n",
              "    </tr>\n",
              "    <tr>\n",
              "      <th>3</th>\n",
              "      <td>387356</td>\n",
              "      <td>150000</td>\n",
              "      <td>0.0</td>\n",
              "      <td>1.50</td>\n",
              "      <td>0.0</td>\n",
              "      <td>1.0</td>\n",
              "      <td>0.0</td>\n",
              "      <td>6</td>\n",
              "    </tr>\n",
              "    <tr>\n",
              "      <th>4</th>\n",
              "      <td>619571</td>\n",
              "      <td>150000</td>\n",
              "      <td>0.0</td>\n",
              "      <td>1.50</td>\n",
              "      <td>0.0</td>\n",
              "      <td>1.0</td>\n",
              "      <td>1.0</td>\n",
              "      <td>6</td>\n",
              "    </tr>\n",
              "    <tr>\n",
              "      <th>...</th>\n",
              "      <td>...</td>\n",
              "      <td>...</td>\n",
              "      <td>...</td>\n",
              "      <td>...</td>\n",
              "      <td>...</td>\n",
              "      <td>...</td>\n",
              "      <td>...</td>\n",
              "      <td>...</td>\n",
              "    </tr>\n",
              "    <tr>\n",
              "      <th>3845702</th>\n",
              "      <td>929180</td>\n",
              "      <td>224682</td>\n",
              "      <td>0.0</td>\n",
              "      <td>1.50</td>\n",
              "      <td>0.0</td>\n",
              "      <td>1.0</td>\n",
              "      <td>2.0</td>\n",
              "      <td>6</td>\n",
              "    </tr>\n",
              "    <tr>\n",
              "      <th>3845703</th>\n",
              "      <td>1034498</td>\n",
              "      <td>225430</td>\n",
              "      <td>0.0</td>\n",
              "      <td>1.50</td>\n",
              "      <td>0.0</td>\n",
              "      <td>1.0</td>\n",
              "      <td>2.0</td>\n",
              "      <td>6</td>\n",
              "    </tr>\n",
              "    <tr>\n",
              "      <th>3845704</th>\n",
              "      <td>947521</td>\n",
              "      <td>225482</td>\n",
              "      <td>0.0</td>\n",
              "      <td>0.00</td>\n",
              "      <td>1.0</td>\n",
              "      <td>0.0</td>\n",
              "      <td>1.0</td>\n",
              "      <td>2</td>\n",
              "    </tr>\n",
              "    <tr>\n",
              "      <th>3845705</th>\n",
              "      <td>720354</td>\n",
              "      <td>225495</td>\n",
              "      <td>50.0</td>\n",
              "      <td>0.00</td>\n",
              "      <td>1.0</td>\n",
              "      <td>0.0</td>\n",
              "      <td>3.0</td>\n",
              "      <td>2</td>\n",
              "    </tr>\n",
              "    <tr>\n",
              "      <th>3845706</th>\n",
              "      <td>151184</td>\n",
              "      <td>225688</td>\n",
              "      <td>0.0</td>\n",
              "      <td>1.50</td>\n",
              "      <td>0.0</td>\n",
              "      <td>1.0</td>\n",
              "      <td>0.0</td>\n",
              "      <td>6</td>\n",
              "    </tr>\n",
              "  </tbody>\n",
              "</table>\n",
              "<p>643694 rows × 8 columns</p>\n",
              "</div>"
            ]
          },
          "metadata": {},
          "execution_count": 75
        }
      ]
    },
    {
      "cell_type": "markdown",
      "source": [
        "##Корреляционный анализ"
      ],
      "metadata": {
        "id": "dpbc_HZidiaf"
      }
    },
    {
      "cell_type": "code",
      "source": [
        "df2 =df_new.apply(lambda x: pd.factorize(x)[0])\n",
        "df2"
      ],
      "metadata": {
        "colab": {
          "base_uri": "https://localhost:8080/",
          "height": 423
        },
        "id": "C4BuwEXF4TjQ",
        "outputId": "459a2b0a-a605-4e7f-c939-a155a30f6fd2"
      },
      "execution_count": 76,
      "outputs": [
        {
          "output_type": "execute_result",
          "data": {
            "text/plain": [
              "         user_id  timestamp  profit  price  os_Android  os_iOS  \\\n",
              "0              0          0       0      0           0       0   \n",
              "1              1          0       0      1           0       0   \n",
              "2              2          0       0      2           0       0   \n",
              "3              3          0       0      3           1       1   \n",
              "4              4          0       0      3           1       1   \n",
              "...          ...        ...     ...    ...         ...     ...   \n",
              "3845702   416773      45870       0      3           1       1   \n",
              "3845703   414959      45871       0      3           1       1   \n",
              "3845704   405005      45872       0      4           0       0   \n",
              "3845705   428259      45873       5      4           0       0   \n",
              "3845706   400286      45874       0      3           1       1   \n",
              "\n",
              "         funnel_stage_enc  ad_channel_enc  \n",
              "0                       0               0  \n",
              "1                       1               1  \n",
              "2                       1               2  \n",
              "3                       1               3  \n",
              "4                       0               3  \n",
              "...                   ...             ...  \n",
              "3845702                 2               3  \n",
              "3845703                 2               3  \n",
              "3845704                 0               4  \n",
              "3845705                 3               4  \n",
              "3845706                 1               3  \n",
              "\n",
              "[643694 rows x 8 columns]"
            ],
            "text/html": [
              "<div>\n",
              "<style scoped>\n",
              "    .dataframe tbody tr th:only-of-type {\n",
              "        vertical-align: middle;\n",
              "    }\n",
              "\n",
              "    .dataframe tbody tr th {\n",
              "        vertical-align: top;\n",
              "    }\n",
              "\n",
              "    .dataframe thead th {\n",
              "        text-align: right;\n",
              "    }\n",
              "</style>\n",
              "<table border=\"1\" class=\"dataframe\">\n",
              "  <thead>\n",
              "    <tr style=\"text-align: right;\">\n",
              "      <th></th>\n",
              "      <th>user_id</th>\n",
              "      <th>timestamp</th>\n",
              "      <th>profit</th>\n",
              "      <th>price</th>\n",
              "      <th>os_Android</th>\n",
              "      <th>os_iOS</th>\n",
              "      <th>funnel_stage_enc</th>\n",
              "      <th>ad_channel_enc</th>\n",
              "    </tr>\n",
              "  </thead>\n",
              "  <tbody>\n",
              "    <tr>\n",
              "      <th>0</th>\n",
              "      <td>0</td>\n",
              "      <td>0</td>\n",
              "      <td>0</td>\n",
              "      <td>0</td>\n",
              "      <td>0</td>\n",
              "      <td>0</td>\n",
              "      <td>0</td>\n",
              "      <td>0</td>\n",
              "    </tr>\n",
              "    <tr>\n",
              "      <th>1</th>\n",
              "      <td>1</td>\n",
              "      <td>0</td>\n",
              "      <td>0</td>\n",
              "      <td>1</td>\n",
              "      <td>0</td>\n",
              "      <td>0</td>\n",
              "      <td>1</td>\n",
              "      <td>1</td>\n",
              "    </tr>\n",
              "    <tr>\n",
              "      <th>2</th>\n",
              "      <td>2</td>\n",
              "      <td>0</td>\n",
              "      <td>0</td>\n",
              "      <td>2</td>\n",
              "      <td>0</td>\n",
              "      <td>0</td>\n",
              "      <td>1</td>\n",
              "      <td>2</td>\n",
              "    </tr>\n",
              "    <tr>\n",
              "      <th>3</th>\n",
              "      <td>3</td>\n",
              "      <td>0</td>\n",
              "      <td>0</td>\n",
              "      <td>3</td>\n",
              "      <td>1</td>\n",
              "      <td>1</td>\n",
              "      <td>1</td>\n",
              "      <td>3</td>\n",
              "    </tr>\n",
              "    <tr>\n",
              "      <th>4</th>\n",
              "      <td>4</td>\n",
              "      <td>0</td>\n",
              "      <td>0</td>\n",
              "      <td>3</td>\n",
              "      <td>1</td>\n",
              "      <td>1</td>\n",
              "      <td>0</td>\n",
              "      <td>3</td>\n",
              "    </tr>\n",
              "    <tr>\n",
              "      <th>...</th>\n",
              "      <td>...</td>\n",
              "      <td>...</td>\n",
              "      <td>...</td>\n",
              "      <td>...</td>\n",
              "      <td>...</td>\n",
              "      <td>...</td>\n",
              "      <td>...</td>\n",
              "      <td>...</td>\n",
              "    </tr>\n",
              "    <tr>\n",
              "      <th>3845702</th>\n",
              "      <td>416773</td>\n",
              "      <td>45870</td>\n",
              "      <td>0</td>\n",
              "      <td>3</td>\n",
              "      <td>1</td>\n",
              "      <td>1</td>\n",
              "      <td>2</td>\n",
              "      <td>3</td>\n",
              "    </tr>\n",
              "    <tr>\n",
              "      <th>3845703</th>\n",
              "      <td>414959</td>\n",
              "      <td>45871</td>\n",
              "      <td>0</td>\n",
              "      <td>3</td>\n",
              "      <td>1</td>\n",
              "      <td>1</td>\n",
              "      <td>2</td>\n",
              "      <td>3</td>\n",
              "    </tr>\n",
              "    <tr>\n",
              "      <th>3845704</th>\n",
              "      <td>405005</td>\n",
              "      <td>45872</td>\n",
              "      <td>0</td>\n",
              "      <td>4</td>\n",
              "      <td>0</td>\n",
              "      <td>0</td>\n",
              "      <td>0</td>\n",
              "      <td>4</td>\n",
              "    </tr>\n",
              "    <tr>\n",
              "      <th>3845705</th>\n",
              "      <td>428259</td>\n",
              "      <td>45873</td>\n",
              "      <td>5</td>\n",
              "      <td>4</td>\n",
              "      <td>0</td>\n",
              "      <td>0</td>\n",
              "      <td>3</td>\n",
              "      <td>4</td>\n",
              "    </tr>\n",
              "    <tr>\n",
              "      <th>3845706</th>\n",
              "      <td>400286</td>\n",
              "      <td>45874</td>\n",
              "      <td>0</td>\n",
              "      <td>3</td>\n",
              "      <td>1</td>\n",
              "      <td>1</td>\n",
              "      <td>1</td>\n",
              "      <td>3</td>\n",
              "    </tr>\n",
              "  </tbody>\n",
              "</table>\n",
              "<p>643694 rows × 8 columns</p>\n",
              "</div>"
            ]
          },
          "metadata": {},
          "execution_count": 76
        }
      ]
    },
    {
      "cell_type": "code",
      "source": [
        "df2.corr()"
      ],
      "metadata": {
        "colab": {
          "base_uri": "https://localhost:8080/",
          "height": 300
        },
        "id": "BPx620_rdz-O",
        "outputId": "d277a621-256c-4ed9-927a-9324540ab667"
      },
      "execution_count": 77,
      "outputs": [
        {
          "output_type": "execute_result",
          "data": {
            "text/plain": [
              "                   user_id  timestamp    profit     price  os_Android  \\\n",
              "user_id           1.000000   0.893100 -0.002367 -0.037673   -0.006586   \n",
              "timestamp         0.893100   1.000000  0.023389  0.006310    0.002718   \n",
              "profit           -0.002367   0.023389  1.000000  0.015114    0.008192   \n",
              "price            -0.037673   0.006310  0.015114  1.000000    0.170335   \n",
              "os_Android       -0.006586   0.002718  0.008192  0.170335    1.000000   \n",
              "os_iOS           -0.006586   0.002718  0.008192  0.170335    1.000000   \n",
              "funnel_stage_enc -0.017262  -0.003293  0.250167  0.062999    0.013040   \n",
              "ad_channel_enc   -0.036862   0.006714  0.015255  0.948713    0.168956   \n",
              "\n",
              "                    os_iOS  funnel_stage_enc  ad_channel_enc  \n",
              "user_id          -0.006586         -0.017262       -0.036862  \n",
              "timestamp         0.002718         -0.003293        0.006714  \n",
              "profit            0.008192          0.250167        0.015255  \n",
              "price             0.170335          0.062999        0.948713  \n",
              "os_Android        1.000000          0.013040        0.168956  \n",
              "os_iOS            1.000000          0.013040        0.168956  \n",
              "funnel_stage_enc  0.013040          1.000000        0.062590  \n",
              "ad_channel_enc    0.168956          0.062590        1.000000  "
            ],
            "text/html": [
              "<div>\n",
              "<style scoped>\n",
              "    .dataframe tbody tr th:only-of-type {\n",
              "        vertical-align: middle;\n",
              "    }\n",
              "\n",
              "    .dataframe tbody tr th {\n",
              "        vertical-align: top;\n",
              "    }\n",
              "\n",
              "    .dataframe thead th {\n",
              "        text-align: right;\n",
              "    }\n",
              "</style>\n",
              "<table border=\"1\" class=\"dataframe\">\n",
              "  <thead>\n",
              "    <tr style=\"text-align: right;\">\n",
              "      <th></th>\n",
              "      <th>user_id</th>\n",
              "      <th>timestamp</th>\n",
              "      <th>profit</th>\n",
              "      <th>price</th>\n",
              "      <th>os_Android</th>\n",
              "      <th>os_iOS</th>\n",
              "      <th>funnel_stage_enc</th>\n",
              "      <th>ad_channel_enc</th>\n",
              "    </tr>\n",
              "  </thead>\n",
              "  <tbody>\n",
              "    <tr>\n",
              "      <th>user_id</th>\n",
              "      <td>1.000000</td>\n",
              "      <td>0.893100</td>\n",
              "      <td>-0.002367</td>\n",
              "      <td>-0.037673</td>\n",
              "      <td>-0.006586</td>\n",
              "      <td>-0.006586</td>\n",
              "      <td>-0.017262</td>\n",
              "      <td>-0.036862</td>\n",
              "    </tr>\n",
              "    <tr>\n",
              "      <th>timestamp</th>\n",
              "      <td>0.893100</td>\n",
              "      <td>1.000000</td>\n",
              "      <td>0.023389</td>\n",
              "      <td>0.006310</td>\n",
              "      <td>0.002718</td>\n",
              "      <td>0.002718</td>\n",
              "      <td>-0.003293</td>\n",
              "      <td>0.006714</td>\n",
              "    </tr>\n",
              "    <tr>\n",
              "      <th>profit</th>\n",
              "      <td>-0.002367</td>\n",
              "      <td>0.023389</td>\n",
              "      <td>1.000000</td>\n",
              "      <td>0.015114</td>\n",
              "      <td>0.008192</td>\n",
              "      <td>0.008192</td>\n",
              "      <td>0.250167</td>\n",
              "      <td>0.015255</td>\n",
              "    </tr>\n",
              "    <tr>\n",
              "      <th>price</th>\n",
              "      <td>-0.037673</td>\n",
              "      <td>0.006310</td>\n",
              "      <td>0.015114</td>\n",
              "      <td>1.000000</td>\n",
              "      <td>0.170335</td>\n",
              "      <td>0.170335</td>\n",
              "      <td>0.062999</td>\n",
              "      <td>0.948713</td>\n",
              "    </tr>\n",
              "    <tr>\n",
              "      <th>os_Android</th>\n",
              "      <td>-0.006586</td>\n",
              "      <td>0.002718</td>\n",
              "      <td>0.008192</td>\n",
              "      <td>0.170335</td>\n",
              "      <td>1.000000</td>\n",
              "      <td>1.000000</td>\n",
              "      <td>0.013040</td>\n",
              "      <td>0.168956</td>\n",
              "    </tr>\n",
              "    <tr>\n",
              "      <th>os_iOS</th>\n",
              "      <td>-0.006586</td>\n",
              "      <td>0.002718</td>\n",
              "      <td>0.008192</td>\n",
              "      <td>0.170335</td>\n",
              "      <td>1.000000</td>\n",
              "      <td>1.000000</td>\n",
              "      <td>0.013040</td>\n",
              "      <td>0.168956</td>\n",
              "    </tr>\n",
              "    <tr>\n",
              "      <th>funnel_stage_enc</th>\n",
              "      <td>-0.017262</td>\n",
              "      <td>-0.003293</td>\n",
              "      <td>0.250167</td>\n",
              "      <td>0.062999</td>\n",
              "      <td>0.013040</td>\n",
              "      <td>0.013040</td>\n",
              "      <td>1.000000</td>\n",
              "      <td>0.062590</td>\n",
              "    </tr>\n",
              "    <tr>\n",
              "      <th>ad_channel_enc</th>\n",
              "      <td>-0.036862</td>\n",
              "      <td>0.006714</td>\n",
              "      <td>0.015255</td>\n",
              "      <td>0.948713</td>\n",
              "      <td>0.168956</td>\n",
              "      <td>0.168956</td>\n",
              "      <td>0.062590</td>\n",
              "      <td>1.000000</td>\n",
              "    </tr>\n",
              "  </tbody>\n",
              "</table>\n",
              "</div>"
            ]
          },
          "metadata": {},
          "execution_count": 77
        }
      ]
    },
    {
      "cell_type": "code",
      "source": [
        "sns.heatmap(df2.corr(), cmap='vlag', linewidths=1, linecolor='black', vmin=-1)"
      ],
      "metadata": {
        "colab": {
          "base_uri": "https://localhost:8080/",
          "height": 560
        },
        "id": "pA-to05geDQU",
        "outputId": "e4285328-b622-4055-d671-922e6307bbe1"
      },
      "execution_count": 78,
      "outputs": [
        {
          "output_type": "execute_result",
          "data": {
            "text/plain": [
              "<Axes: >"
            ]
          },
          "metadata": {},
          "execution_count": 78
        },
        {
          "output_type": "display_data",
          "data": {
            "text/plain": [
              "<Figure size 640x480 with 2 Axes>"
            ],
            "image/png": "[encoded data removed]"
          },
          "metadata": {}
        }
      ]
    },
    {
      "cell_type": "code",
      "source": [
        "import scipy.stats as st"
      ],
      "metadata": {
        "id": "kXHMurxWjQwP"
      },
      "execution_count": 79,
      "outputs": []
    },
    {
      "cell_type": "code",
      "source": [
        "df2['price'].fillna(df2.price.median(), inplace=True)\n",
        "df_new['price'].fillna(df_new.price.median(), inplace=True)"
      ],
      "metadata": {
        "id": "epie1dkvkUde"
      },
      "execution_count": 80,
      "outputs": []
    },
    {
      "cell_type": "code",
      "source": [
        "st.pearsonr(df2['price'], df2['user_id'], alternative='less')"
      ],
      "metadata": {
        "colab": {
          "base_uri": "https://localhost:8080/"
        },
        "id": "1foD1mRqlVjW",
        "outputId": "79898e62-58e6-4285-dc5c-43066b000a5f"
      },
      "execution_count": 81,
      "outputs": [
        {
          "output_type": "execute_result",
          "data": {
            "text/plain": [
              "PearsonRResult(statistic=-0.037672586492366975, pvalue=4.03488380444397e-201)"
            ]
          },
          "metadata": {},
          "execution_count": 81
        }
      ]
    },
    {
      "cell_type": "markdown",
      "source": [
        "При аргумента alternative - 'less', я вижу маленький p-value, следовательно я могу принять альтернативнную гипотезу о том что пристуствует обратная корреляция"
      ],
      "metadata": {
        "id": "i5ZwiCgiGHs1"
      }
    },
    {
      "cell_type": "markdown",
      "source": [
        "##Факторный анализ"
      ],
      "metadata": {
        "id": "JY0TAQ_gm9sF"
      }
    },
    {
      "cell_type": "code",
      "source": [
        "#!pip install factor_analyzer"
      ],
      "metadata": {
        "id": "7o7juJzfsc03"
      },
      "execution_count": 82,
      "outputs": []
    },
    {
      "cell_type": "code",
      "source": [
        "from sklearn.preprocessing import StandardScaler\n",
        "from factor_analyzer import FactorAnalyzer\n",
        "from factor_analyzer import calculate_bartlett_sphericity"
      ],
      "metadata": {
        "id": "FghOz-mjqeGB"
      },
      "execution_count": 83,
      "outputs": []
    },
    {
      "cell_type": "code",
      "source": [
        "chi, pvalue = calculate_bartlett_sphericity(df2)\n",
        "chi, pvalue"
      ],
      "metadata": {
        "colab": {
          "base_uri": "https://localhost:8080/"
        },
        "id": "eGcqRoEv6gmb",
        "outputId": "eb712b5f-1fc2-4cd5-86f2-b7f65c529c0e"
      },
      "execution_count": 84,
      "outputs": [
        {
          "output_type": "stream",
          "name": "stderr",
          "text": [
            "C:\\Users\\Danil\\anaconda3\\Lib\\site-packages\\factor_analyzer\\factor_analyzer.py:109: RuntimeWarning: divide by zero encountered in log\n",
            "  statistic = -np.log(corr_det) * (n - 1 - (2 * p + 5) / 6)\n"
          ]
        },
        {
          "output_type": "execute_result",
          "data": {
            "text/plain": [
              "(inf, 0.0)"
            ]
          },
          "metadata": {},
          "execution_count": 84
        }
      ]
    },
    {
      "cell_type": "markdown",
      "source": [
        "P-value получилось нулевым, значит гипотезу о диагональности при стандартном уровне значимости 0,95 мы можем отбросить и считать, что признаки коррелируют между собой."
      ],
      "metadata": {
        "id": "i71LiQJDrKoh"
      }
    },
    {
      "cell_type": "code",
      "source": [
        "sc = StandardScaler()\n",
        "df_sc = sc.fit_transform(df_new)\n",
        "df_sc"
      ],
      "metadata": {
        "colab": {
          "base_uri": "https://localhost:8080/"
        },
        "id": "cyoSI6_z6fLm",
        "outputId": "262f3101-3a54-47c0-cb5e-13865a8058d0"
      },
      "execution_count": 85,
      "outputs": [
        {
          "output_type": "execute_result",
          "data": {
            "text/plain": [
              "array([[-1.42879968, -1.67977526, -0.04992811, ..., -0.94882908,\n",
              "         0.86619769,  1.08310464],\n",
              "       [-1.43820775, -1.67977526, -0.04992811, ..., -0.94882908,\n",
              "        -0.74962727, -1.72315667],\n",
              "       [ 1.43459756, -1.67977526, -0.04992811, ..., -0.94882908,\n",
              "        -0.74962727, -1.32226219],\n",
              "       ...,\n",
              "       [ 1.29228826,  3.0970295 , -0.04992811, ..., -0.94882908,\n",
              "         0.86619769, -0.92136772],\n",
              "       [ 0.55277147,  3.09785219,  0.63707256, ..., -0.94882908,\n",
              "         4.0978476 , -0.92136772],\n",
              "       [-1.3000979 ,  3.11006601, -0.04992811, ...,  1.0539306 ,\n",
              "        -0.74962727,  0.68221017]])"
            ]
          },
          "metadata": {},
          "execution_count": 85
        }
      ]
    },
    {
      "cell_type": "code",
      "source": [
        "fa = FactorAnalyzer(n_factors=3)\n",
        "fa.fit(df_sc)"
      ],
      "metadata": {
        "colab": {
          "base_uri": "https://localhost:8080/",
          "height": 74
        },
        "id": "Fy8h7HtKwwbe",
        "outputId": "7141840f-559c-49ce-d569-34f2931b3f99"
      },
      "execution_count": 86,
      "outputs": [
        {
          "output_type": "execute_result",
          "data": {
            "text/plain": [
              "FactorAnalyzer(rotation_kwargs={})"
            ],
            "text/html": [
              "<style>#sk-container-id-3 {color: black;}#sk-container-id-3 pre{padding: 0;}#sk-container-id-3 div.sk-toggleable {background-color: white;}#sk-container-id-3 label.sk-toggleable__label {cursor: pointer;display: block;width: 100%;margin-bottom: 0;padding: 0.3em;box-sizing: border-box;text-align: center;}#sk-container-id-3 label.sk-toggleable__label-arrow:before {content: \"▸\";float: left;margin-right: 0.25em;color: #696969;}#sk-container-id-3 label.sk-toggleable__label-arrow:hover:before {color: black;}#sk-container-id-3 div.sk-estimator:hover label.sk-toggleable__label-arrow:before {color: black;}#sk-container-id-3 div.sk-toggleable__content {max-height: 0;max-width: 0;overflow: hidden;text-align: left;background-color: #f0f8ff;}#sk-container-id-3 div.sk-toggleable__content pre {margin: 0.2em;color: black;border-radius: 0.25em;background-color: #f0f8ff;}#sk-container-id-3 input.sk-toggleable__control:checked~div.sk-toggleable__content {max-height: 200px;max-width: 100%;overflow: auto;}#sk-container-id-3 input.sk-toggleable__control:checked~label.sk-toggleable__label-arrow:before {content: \"▾\";}#sk-container-id-3 div.sk-estimator input.sk-toggleable__control:checked~label.sk-toggleable__label {background-color: #d4ebff;}#sk-container-id-3 div.sk-label input.sk-toggleable__control:checked~label.sk-toggleable__label {background-color: #d4ebff;}#sk-container-id-3 input.sk-hidden--visually {border: 0;clip: rect(1px 1px 1px 1px);clip: rect(1px, 1px, 1px, 1px);height: 1px;margin: -1px;overflow: hidden;padding: 0;position: absolute;width: 1px;}#sk-container-id-3 div.sk-estimator {font-family: monospace;background-color: #f0f8ff;border: 1px dotted black;border-radius: 0.25em;box-sizing: border-box;margin-bottom: 0.5em;}#sk-container-id-3 div.sk-estimator:hover {background-color: #d4ebff;}#sk-container-id-3 div.sk-parallel-item::after {content: \"\";width: 100%;border-bottom: 1px solid gray;flex-grow: 1;}#sk-container-id-3 div.sk-label:hover label.sk-toggleable__label {background-color: #d4ebff;}#sk-container-id-3 div.sk-serial::before {content: \"\";position: absolute;border-left: 1px solid gray;box-sizing: border-box;top: 0;bottom: 0;left: 50%;z-index: 0;}#sk-container-id-3 div.sk-serial {display: flex;flex-direction: column;align-items: center;background-color: white;padding-right: 0.2em;padding-left: 0.2em;position: relative;}#sk-container-id-3 div.sk-item {position: relative;z-index: 1;}#sk-container-id-3 div.sk-parallel {display: flex;align-items: stretch;justify-content: center;background-color: white;position: relative;}#sk-container-id-3 div.sk-item::before, #sk-container-id-3 div.sk-parallel-item::before {content: \"\";position: absolute;border-left: 1px solid gray;box-sizing: border-box;top: 0;bottom: 0;left: 50%;z-index: -1;}#sk-container-id-3 div.sk-parallel-item {display: flex;flex-direction: column;z-index: 1;position: relative;background-color: white;}#sk-container-id-3 div.sk-parallel-item:first-child::after {align-self: flex-end;width: 50%;}#sk-container-id-3 div.sk-parallel-item:last-child::after {align-self: flex-start;width: 50%;}#sk-container-id-3 div.sk-parallel-item:only-child::after {width: 0;}#sk-container-id-3 div.sk-dashed-wrapped {border: 1px dashed gray;margin: 0 0.4em 0.5em 0.4em;box-sizing: border-box;padding-bottom: 0.4em;background-color: white;}#sk-container-id-3 div.sk-label label {font-family: monospace;font-weight: bold;display: inline-block;line-height: 1.2em;}#sk-container-id-3 div.sk-label-container {text-align: center;}#sk-container-id-3 div.sk-container {/* jupyter's `normalize.less` sets `[hidden] { display: none; }` but bootstrap.min.css set `[hidden] { display: none !important; }` so we also need the `!important` here to be able to override the default hidden behavior on the sphinx rendered scikit-learn.org. See: https://github.com/scikit-learn/scikit-learn/issues/21755 */display: inline-block !important;position: relative;}#sk-container-id-3 div.sk-text-repr-fallback {display: none;}</style><div id=\"sk-container-id-3\" class=\"sk-top-container\"><div class=\"sk-text-repr-fallback\"><pre>FactorAnalyzer(rotation_kwargs={})</pre><b>In a Jupyter environment, please rerun this cell to show the HTML representation or trust the notebook. <br />On GitHub, the HTML representation is unable to render, please try loading this page with nbviewer.org.</b></div><div class=\"sk-container\" hidden><div class=\"sk-item\"><div class=\"sk-estimator sk-toggleable\"><input class=\"sk-toggleable__control sk-hidden--visually\" id=\"sk-estimator-id-3\" type=\"checkbox\" checked><label for=\"sk-estimator-id-3\" class=\"sk-toggleable__label sk-toggleable__label-arrow\">FactorAnalyzer</label><div class=\"sk-toggleable__content\"><pre>FactorAnalyzer(rotation_kwargs={})</pre></div></div></div></div></div>"
            ]
          },
          "metadata": {},
          "execution_count": 86
        }
      ]
    },
    {
      "cell_type": "code",
      "source": [
        "ev, v = fa.get_eigenvalues()\n",
        "sns.lineplot(data=ev)"
      ],
      "metadata": {
        "colab": {
          "base_uri": "https://localhost:8080/",
          "height": 448
        },
        "id": "8-i-k__4xc12",
        "outputId": "61fdfa81-6688-4de7-80d7-4d882fec1a9d"
      },
      "execution_count": 87,
      "outputs": [
        {
          "output_type": "execute_result",
          "data": {
            "text/plain": [
              "<Axes: >"
            ]
          },
          "metadata": {},
          "execution_count": 87
        },
        {
          "output_type": "display_data",
          "data": {
            "text/plain": [
              "<Figure size 640x480 with 1 Axes>"
            ],
            "image/png": "[encoded data removed]"
          },
          "metadata": {}
        }
      ]
    },
    {
      "cell_type": "code",
      "source": [
        "sum(ev > 1)"
      ],
      "metadata": {
        "colab": {
          "base_uri": "https://localhost:8080/"
        },
        "id": "CKlxMFQpzdyv",
        "outputId": "4c2d173c-cb3d-48db-ee1d-54d538180423"
      },
      "execution_count": 88,
      "outputs": [
        {
          "output_type": "execute_result",
          "data": {
            "text/plain": [
              "4"
            ]
          },
          "metadata": {},
          "execution_count": 88
        }
      ]
    },
    {
      "cell_type": "code",
      "source": [
        "fa = FactorAnalyzer(n_factors=4)\n",
        "fa.fit(df_sc)"
      ],
      "metadata": {
        "colab": {
          "base_uri": "https://localhost:8080/",
          "height": 74
        },
        "id": "R5yyHqS6z7G_",
        "outputId": "b5030e05-fb24-4ec1-b126-0231772db921"
      },
      "execution_count": 89,
      "outputs": [
        {
          "output_type": "execute_result",
          "data": {
            "text/plain": [
              "FactorAnalyzer(n_factors=4, rotation_kwargs={})"
            ],
            "text/html": [
              "<style>#sk-container-id-4 {color: black;}#sk-container-id-4 pre{padding: 0;}#sk-container-id-4 div.sk-toggleable {background-color: white;}#sk-container-id-4 label.sk-toggleable__label {cursor: pointer;display: block;width: 100%;margin-bottom: 0;padding: 0.3em;box-sizing: border-box;text-align: center;}#sk-container-id-4 label.sk-toggleable__label-arrow:before {content: \"▸\";float: left;margin-right: 0.25em;color: #696969;}#sk-container-id-4 label.sk-toggleable__label-arrow:hover:before {color: black;}#sk-container-id-4 div.sk-estimator:hover label.sk-toggleable__label-arrow:before {color: black;}#sk-container-id-4 div.sk-toggleable__content {max-height: 0;max-width: 0;overflow: hidden;text-align: left;background-color: #f0f8ff;}#sk-container-id-4 div.sk-toggleable__content pre {margin: 0.2em;color: black;border-radius: 0.25em;background-color: #f0f8ff;}#sk-container-id-4 input.sk-toggleable__control:checked~div.sk-toggleable__content {max-height: 200px;max-width: 100%;overflow: auto;}#sk-container-id-4 input.sk-toggleable__control:checked~label.sk-toggleable__label-arrow:before {content: \"▾\";}#sk-container-id-4 div.sk-estimator input.sk-toggleable__control:checked~label.sk-toggleable__label {background-color: #d4ebff;}#sk-container-id-4 div.sk-label input.sk-toggleable__control:checked~label.sk-toggleable__label {background-color: #d4ebff;}#sk-container-id-4 input.sk-hidden--visually {border: 0;clip: rect(1px 1px 1px 1px);clip: rect(1px, 1px, 1px, 1px);height: 1px;margin: -1px;overflow: hidden;padding: 0;position: absolute;width: 1px;}#sk-container-id-4 div.sk-estimator {font-family: monospace;background-color: #f0f8ff;border: 1px dotted black;border-radius: 0.25em;box-sizing: border-box;margin-bottom: 0.5em;}#sk-container-id-4 div.sk-estimator:hover {background-color: #d4ebff;}#sk-container-id-4 div.sk-parallel-item::after {content: \"\";width: 100%;border-bottom: 1px solid gray;flex-grow: 1;}#sk-container-id-4 div.sk-label:hover label.sk-toggleable__label {background-color: #d4ebff;}#sk-container-id-4 div.sk-serial::before {content: \"\";position: absolute;border-left: 1px solid gray;box-sizing: border-box;top: 0;bottom: 0;left: 50%;z-index: 0;}#sk-container-id-4 div.sk-serial {display: flex;flex-direction: column;align-items: center;background-color: white;padding-right: 0.2em;padding-left: 0.2em;position: relative;}#sk-container-id-4 div.sk-item {position: relative;z-index: 1;}#sk-container-id-4 div.sk-parallel {display: flex;align-items: stretch;justify-content: center;background-color: white;position: relative;}#sk-container-id-4 div.sk-item::before, #sk-container-id-4 div.sk-parallel-item::before {content: \"\";position: absolute;border-left: 1px solid gray;box-sizing: border-box;top: 0;bottom: 0;left: 50%;z-index: -1;}#sk-container-id-4 div.sk-parallel-item {display: flex;flex-direction: column;z-index: 1;position: relative;background-color: white;}#sk-container-id-4 div.sk-parallel-item:first-child::after {align-self: flex-end;width: 50%;}#sk-container-id-4 div.sk-parallel-item:last-child::after {align-self: flex-start;width: 50%;}#sk-container-id-4 div.sk-parallel-item:only-child::after {width: 0;}#sk-container-id-4 div.sk-dashed-wrapped {border: 1px dashed gray;margin: 0 0.4em 0.5em 0.4em;box-sizing: border-box;padding-bottom: 0.4em;background-color: white;}#sk-container-id-4 div.sk-label label {font-family: monospace;font-weight: bold;display: inline-block;line-height: 1.2em;}#sk-container-id-4 div.sk-label-container {text-align: center;}#sk-container-id-4 div.sk-container {/* jupyter's `normalize.less` sets `[hidden] { display: none; }` but bootstrap.min.css set `[hidden] { display: none !important; }` so we also need the `!important` here to be able to override the default hidden behavior on the sphinx rendered scikit-learn.org. See: https://github.com/scikit-learn/scikit-learn/issues/21755 */display: inline-block !important;position: relative;}#sk-container-id-4 div.sk-text-repr-fallback {display: none;}</style><div id=\"sk-container-id-4\" class=\"sk-top-container\"><div class=\"sk-text-repr-fallback\"><pre>FactorAnalyzer(n_factors=4, rotation_kwargs={})</pre><b>In a Jupyter environment, please rerun this cell to show the HTML representation or trust the notebook. <br />On GitHub, the HTML representation is unable to render, please try loading this page with nbviewer.org.</b></div><div class=\"sk-container\" hidden><div class=\"sk-item\"><div class=\"sk-estimator sk-toggleable\"><input class=\"sk-toggleable__control sk-hidden--visually\" id=\"sk-estimator-id-4\" type=\"checkbox\" checked><label for=\"sk-estimator-id-4\" class=\"sk-toggleable__label sk-toggleable__label-arrow\">FactorAnalyzer</label><div class=\"sk-toggleable__content\"><pre>FactorAnalyzer(n_factors=4, rotation_kwargs={})</pre></div></div></div></div></div>"
            ]
          },
          "metadata": {},
          "execution_count": 89
        }
      ]
    },
    {
      "cell_type": "code",
      "source": [
        "loadings = pd.DataFrame(fa.loadings_, index=df_new.columns, columns=[f'factor_{x}' for x in range(1,5)])\n",
        "loadings.sort_values(by='factor_3', ascending=False)"
      ],
      "metadata": {
        "colab": {
          "base_uri": "https://localhost:8080/",
          "height": 300
        },
        "id": "RTXWHEyk0RcT",
        "outputId": "df7dceda-5110-4c38-e4f6-f3421f90ac99"
      },
      "execution_count": 90,
      "outputs": [
        {
          "output_type": "execute_result",
          "data": {
            "text/plain": [
              "                  factor_1  factor_2  factor_3  factor_4\n",
              "funnel_stage_enc  0.002450 -0.007812  0.904975 -0.030682\n",
              "profit            0.002106  0.004486  0.225644  0.015160\n",
              "timestamp        -0.001076 -0.000813  0.080971 -0.002154\n",
              "ad_channel_enc    0.046582  0.752704  0.008145 -0.141468\n",
              "user_id           0.011824 -0.006019  0.001834  0.505784\n",
              "os_iOS           -1.000871 -0.001533  0.000810 -0.012638\n",
              "os_Android        1.000871  0.001533 -0.000810  0.012638\n",
              "price            -0.051206  0.735884 -0.008891  0.150409"
            ],
            "text/html": [
              "<div>\n",
              "<style scoped>\n",
              "    .dataframe tbody tr th:only-of-type {\n",
              "        vertical-align: middle;\n",
              "    }\n",
              "\n",
              "    .dataframe tbody tr th {\n",
              "        vertical-align: top;\n",
              "    }\n",
              "\n",
              "    .dataframe thead th {\n",
              "        text-align: right;\n",
              "    }\n",
              "</style>\n",
              "<table border=\"1\" class=\"dataframe\">\n",
              "  <thead>\n",
              "    <tr style=\"text-align: right;\">\n",
              "      <th></th>\n",
              "      <th>factor_1</th>\n",
              "      <th>factor_2</th>\n",
              "      <th>factor_3</th>\n",
              "      <th>factor_4</th>\n",
              "    </tr>\n",
              "  </thead>\n",
              "  <tbody>\n",
              "    <tr>\n",
              "      <th>funnel_stage_enc</th>\n",
              "      <td>0.002450</td>\n",
              "      <td>-0.007812</td>\n",
              "      <td>0.904975</td>\n",
              "      <td>-0.030682</td>\n",
              "    </tr>\n",
              "    <tr>\n",
              "      <th>profit</th>\n",
              "      <td>0.002106</td>\n",
              "      <td>0.004486</td>\n",
              "      <td>0.225644</td>\n",
              "      <td>0.015160</td>\n",
              "    </tr>\n",
              "    <tr>\n",
              "      <th>timestamp</th>\n",
              "      <td>-0.001076</td>\n",
              "      <td>-0.000813</td>\n",
              "      <td>0.080971</td>\n",
              "      <td>-0.002154</td>\n",
              "    </tr>\n",
              "    <tr>\n",
              "      <th>ad_channel_enc</th>\n",
              "      <td>0.046582</td>\n",
              "      <td>0.752704</td>\n",
              "      <td>0.008145</td>\n",
              "      <td>-0.141468</td>\n",
              "    </tr>\n",
              "    <tr>\n",
              "      <th>user_id</th>\n",
              "      <td>0.011824</td>\n",
              "      <td>-0.006019</td>\n",
              "      <td>0.001834</td>\n",
              "      <td>0.505784</td>\n",
              "    </tr>\n",
              "    <tr>\n",
              "      <th>os_iOS</th>\n",
              "      <td>-1.000871</td>\n",
              "      <td>-0.001533</td>\n",
              "      <td>0.000810</td>\n",
              "      <td>-0.012638</td>\n",
              "    </tr>\n",
              "    <tr>\n",
              "      <th>os_Android</th>\n",
              "      <td>1.000871</td>\n",
              "      <td>0.001533</td>\n",
              "      <td>-0.000810</td>\n",
              "      <td>0.012638</td>\n",
              "    </tr>\n",
              "    <tr>\n",
              "      <th>price</th>\n",
              "      <td>-0.051206</td>\n",
              "      <td>0.735884</td>\n",
              "      <td>-0.008891</td>\n",
              "      <td>0.150409</td>\n",
              "    </tr>\n",
              "  </tbody>\n",
              "</table>\n",
              "</div>"
            ]
          },
          "metadata": {},
          "execution_count": 90
        }
      ]
    },
    {
      "cell_type": "code",
      "source": [
        "df_tr = pd.DataFrame(fa.transform(df_sc))\n",
        "df_tr"
      ],
      "metadata": {
        "colab": {
          "base_uri": "https://localhost:8080/",
          "height": 423
        },
        "id": "cMxXkllq4yyF",
        "outputId": "486c3d34-78bd-471e-9065-dc23fb2d2cb7"
      },
      "execution_count": 91,
      "outputs": [
        {
          "output_type": "execute_result",
          "data": {
            "text/plain": [
              "               0         1         2         3\n",
              "0       0.958854  0.259370  0.691543 -1.026892\n",
              "1       0.954766 -1.268428 -0.742066 -0.597980\n",
              "2       0.927401  0.142113 -0.639229  1.258722\n",
              "3      -1.050631  0.799401 -0.689706 -0.157795\n",
              "4      -1.055176  0.799530  0.765322  0.285149\n",
              "...          ...       ...       ...       ...\n",
              "643689 -1.060718  0.799047  2.297696  0.852980\n",
              "643690 -1.062728  0.797814  2.306788  1.010957\n",
              "643691  0.944649 -1.308891  0.819352  0.374636\n",
              "643692  0.948642 -1.299228  3.705141  0.236907\n",
              "643693 -1.045623  0.802473 -0.636347 -0.502877\n",
              "\n",
              "[643694 rows x 4 columns]"
            ],
            "text/html": [
              "<div>\n",
              "<style scoped>\n",
              "    .dataframe tbody tr th:only-of-type {\n",
              "        vertical-align: middle;\n",
              "    }\n",
              "\n",
              "    .dataframe tbody tr th {\n",
              "        vertical-align: top;\n",
              "    }\n",
              "\n",
              "    .dataframe thead th {\n",
              "        text-align: right;\n",
              "    }\n",
              "</style>\n",
              "<table border=\"1\" class=\"dataframe\">\n",
              "  <thead>\n",
              "    <tr style=\"text-align: right;\">\n",
              "      <th></th>\n",
              "      <th>0</th>\n",
              "      <th>1</th>\n",
              "      <th>2</th>\n",
              "      <th>3</th>\n",
              "    </tr>\n",
              "  </thead>\n",
              "  <tbody>\n",
              "    <tr>\n",
              "      <th>0</th>\n",
              "      <td>0.958854</td>\n",
              "      <td>0.259370</td>\n",
              "      <td>0.691543</td>\n",
              "      <td>-1.026892</td>\n",
              "    </tr>\n",
              "    <tr>\n",
              "      <th>1</th>\n",
              "      <td>0.954766</td>\n",
              "      <td>-1.268428</td>\n",
              "      <td>-0.742066</td>\n",
              "      <td>-0.597980</td>\n",
              "    </tr>\n",
              "    <tr>\n",
              "      <th>2</th>\n",
              "      <td>0.927401</td>\n",
              "      <td>0.142113</td>\n",
              "      <td>-0.639229</td>\n",
              "      <td>1.258722</td>\n",
              "    </tr>\n",
              "    <tr>\n",
              "      <th>3</th>\n",
              "      <td>-1.050631</td>\n",
              "      <td>0.799401</td>\n",
              "      <td>-0.689706</td>\n",
              "      <td>-0.157795</td>\n",
              "    </tr>\n",
              "    <tr>\n",
              "      <th>4</th>\n",
              "      <td>-1.055176</td>\n",
              "      <td>0.799530</td>\n",
              "      <td>0.765322</td>\n",
              "      <td>0.285149</td>\n",
              "    </tr>\n",
              "    <tr>\n",
              "      <th>...</th>\n",
              "      <td>...</td>\n",
              "      <td>...</td>\n",
              "      <td>...</td>\n",
              "      <td>...</td>\n",
              "    </tr>\n",
              "    <tr>\n",
              "      <th>643689</th>\n",
              "      <td>-1.060718</td>\n",
              "      <td>0.799047</td>\n",
              "      <td>2.297696</td>\n",
              "      <td>0.852980</td>\n",
              "    </tr>\n",
              "    <tr>\n",
              "      <th>643690</th>\n",
              "      <td>-1.062728</td>\n",
              "      <td>0.797814</td>\n",
              "      <td>2.306788</td>\n",
              "      <td>1.010957</td>\n",
              "    </tr>\n",
              "    <tr>\n",
              "      <th>643691</th>\n",
              "      <td>0.944649</td>\n",
              "      <td>-1.308891</td>\n",
              "      <td>0.819352</td>\n",
              "      <td>0.374636</td>\n",
              "    </tr>\n",
              "    <tr>\n",
              "      <th>643692</th>\n",
              "      <td>0.948642</td>\n",
              "      <td>-1.299228</td>\n",
              "      <td>3.705141</td>\n",
              "      <td>0.236907</td>\n",
              "    </tr>\n",
              "    <tr>\n",
              "      <th>643693</th>\n",
              "      <td>-1.045623</td>\n",
              "      <td>0.802473</td>\n",
              "      <td>-0.636347</td>\n",
              "      <td>-0.502877</td>\n",
              "    </tr>\n",
              "  </tbody>\n",
              "</table>\n",
              "<p>643694 rows × 4 columns</p>\n",
              "</div>"
            ]
          },
          "metadata": {},
          "execution_count": 91
        }
      ]
    },
    {
      "cell_type": "markdown",
      "source": [
        "Для исходного датафрейма было проведено снижение размерности"
      ],
      "metadata": {
        "id": "BUjkM26RsVVg"
      }
    }
  ]
}