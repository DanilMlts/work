{
  "nbformat": 4,
  "nbformat_minor": 0,
  "metadata": {
    "colab": {
      "provenance": [],
      "toc_visible": true
    },
    "kernelspec": {
      "name": "python3",
      "display_name": "Python 3"
    },
    "language_info": {
      "name": "python"
    }
  },
  "cells": [
    {
      "cell_type": "markdown",
      "source": [
        "#Модуль 10"
      ],
      "metadata": {
        "id": "3Nz5z_wv_fiX"
      }
    },
    {
      "cell_type": "code",
      "execution_count": 34,
      "metadata": {
        "id": "Y49-zq3r-Mu7"
      },
      "outputs": [],
      "source": [
        "import pandas as pd\n",
        "import seaborn as sns\n",
        "import matplotlib.pyplot as plt\n",
        "import scipy.stats as st"
      ]
    },
    {
      "cell_type": "code",
      "source": [
        "df_frod = pd.read_csv('frod_table.csv')\n",
        "df_frod"
      ],
      "metadata": {
        "colab": {
          "base_uri": "https://localhost:8080/",
          "height": 423
        },
        "id": "wB_hANe6-qY7",
        "outputId": "d7e85d4c-58c2-423a-a687-0a2e40522288"
      },
      "execution_count": 35,
      "outputs": [
        {
          "output_type": "execute_result",
          "data": {
            "text/plain": [
              "         user_id funnel_stage  timestamp  profit       os ad_channel  price\n",
              "0         910643     interest     150029     0.0  Android     search    1.5\n",
              "1         910643     interest     150029     0.0  Android     search    1.5\n",
              "2         910643     interest     150029     0.0      iOS     search    1.5\n",
              "3         910643     interest     150029     0.0      iOS     search    1.5\n",
              "4         910643     interest     150029     0.0      iOS     search    1.5\n",
              "...          ...          ...        ...     ...      ...        ...    ...\n",
              "3202008   153440       intent     217701     0.0  Android    organic    0.0\n",
              "3202009   153440       intent     217701     0.0  Android    organic    0.0\n",
              "3202010   153440       intent     217701     0.0  Android    organic    0.0\n",
              "3202011   153440       intent     217701     0.0  Android    organic    0.0\n",
              "3202012   153440       intent     217701     0.0  Android    organic    0.0\n",
              "\n",
              "[3202013 rows x 7 columns]"
            ],
            "text/html": [
              "<div>\n",
              "<style scoped>\n",
              "    .dataframe tbody tr th:only-of-type {\n",
              "        vertical-align: middle;\n",
              "    }\n",
              "\n",
              "    .dataframe tbody tr th {\n",
              "        vertical-align: top;\n",
              "    }\n",
              "\n",
              "    .dataframe thead th {\n",
              "        text-align: right;\n",
              "    }\n",
              "</style>\n",
              "<table border=\"1\" class=\"dataframe\">\n",
              "  <thead>\n",
              "    <tr style=\"text-align: right;\">\n",
              "      <th></th>\n",
              "      <th>user_id</th>\n",
              "      <th>funnel_stage</th>\n",
              "      <th>timestamp</th>\n",
              "      <th>profit</th>\n",
              "      <th>os</th>\n",
              "      <th>ad_channel</th>\n",
              "      <th>price</th>\n",
              "    </tr>\n",
              "  </thead>\n",
              "  <tbody>\n",
              "    <tr>\n",
              "      <th>0</th>\n",
              "      <td>910643</td>\n",
              "      <td>interest</td>\n",
              "      <td>150029</td>\n",
              "      <td>0.0</td>\n",
              "      <td>Android</td>\n",
              "      <td>search</td>\n",
              "      <td>1.5</td>\n",
              "    </tr>\n",
              "    <tr>\n",
              "      <th>1</th>\n",
              "      <td>910643</td>\n",
              "      <td>interest</td>\n",
              "      <td>150029</td>\n",
              "      <td>0.0</td>\n",
              "      <td>Android</td>\n",
              "      <td>search</td>\n",
              "      <td>1.5</td>\n",
              "    </tr>\n",
              "    <tr>\n",
              "      <th>2</th>\n",
              "      <td>910643</td>\n",
              "      <td>interest</td>\n",
              "      <td>150029</td>\n",
              "      <td>0.0</td>\n",
              "      <td>iOS</td>\n",
              "      <td>search</td>\n",
              "      <td>1.5</td>\n",
              "    </tr>\n",
              "    <tr>\n",
              "      <th>3</th>\n",
              "      <td>910643</td>\n",
              "      <td>interest</td>\n",
              "      <td>150029</td>\n",
              "      <td>0.0</td>\n",
              "      <td>iOS</td>\n",
              "      <td>search</td>\n",
              "      <td>1.5</td>\n",
              "    </tr>\n",
              "    <tr>\n",
              "      <th>4</th>\n",
              "      <td>910643</td>\n",
              "      <td>interest</td>\n",
              "      <td>150029</td>\n",
              "      <td>0.0</td>\n",
              "      <td>iOS</td>\n",
              "      <td>search</td>\n",
              "      <td>1.5</td>\n",
              "    </tr>\n",
              "    <tr>\n",
              "      <th>...</th>\n",
              "      <td>...</td>\n",
              "      <td>...</td>\n",
              "      <td>...</td>\n",
              "      <td>...</td>\n",
              "      <td>...</td>\n",
              "      <td>...</td>\n",
              "      <td>...</td>\n",
              "    </tr>\n",
              "    <tr>\n",
              "      <th>3202008</th>\n",
              "      <td>153440</td>\n",
              "      <td>intent</td>\n",
              "      <td>217701</td>\n",
              "      <td>0.0</td>\n",
              "      <td>Android</td>\n",
              "      <td>organic</td>\n",
              "      <td>0.0</td>\n",
              "    </tr>\n",
              "    <tr>\n",
              "      <th>3202009</th>\n",
              "      <td>153440</td>\n",
              "      <td>intent</td>\n",
              "      <td>217701</td>\n",
              "      <td>0.0</td>\n",
              "      <td>Android</td>\n",
              "      <td>organic</td>\n",
              "      <td>0.0</td>\n",
              "    </tr>\n",
              "    <tr>\n",
              "      <th>3202010</th>\n",
              "      <td>153440</td>\n",
              "      <td>intent</td>\n",
              "      <td>217701</td>\n",
              "      <td>0.0</td>\n",
              "      <td>Android</td>\n",
              "      <td>organic</td>\n",
              "      <td>0.0</td>\n",
              "    </tr>\n",
              "    <tr>\n",
              "      <th>3202011</th>\n",
              "      <td>153440</td>\n",
              "      <td>intent</td>\n",
              "      <td>217701</td>\n",
              "      <td>0.0</td>\n",
              "      <td>Android</td>\n",
              "      <td>organic</td>\n",
              "      <td>0.0</td>\n",
              "    </tr>\n",
              "    <tr>\n",
              "      <th>3202012</th>\n",
              "      <td>153440</td>\n",
              "      <td>intent</td>\n",
              "      <td>217701</td>\n",
              "      <td>0.0</td>\n",
              "      <td>Android</td>\n",
              "      <td>organic</td>\n",
              "      <td>0.0</td>\n",
              "    </tr>\n",
              "  </tbody>\n",
              "</table>\n",
              "<p>3202013 rows × 7 columns</p>\n",
              "</div>"
            ]
          },
          "metadata": {},
          "execution_count": 35
        }
      ]
    },
    {
      "cell_type": "code",
      "source": [
        "df_new = pd.read_csv('df_new.csv')\n",
        "df_new"
      ],
      "metadata": {
        "colab": {
          "base_uri": "https://localhost:8080/",
          "height": 423
        },
        "id": "Xv74-rX0-_os",
        "outputId": "ebbf8cc8-43ad-4a57-8e47-e8c35adce587"
      },
      "execution_count": 36,
      "outputs": [
        {
          "output_type": "execute_result",
          "data": {
            "text/plain": [
              "        user_id   funnel_stage  timestamp  profit       os ad_channel  price\n",
              "0        111649  consideration     150000     0.0  Android      video   0.75\n",
              "1        108759       interest     150000     0.0  Android     banner   0.50\n",
              "2        991236       interest     150000     0.0  Android     native   2.00\n",
              "3        387356       interest     150000     0.0      iOS     search   1.50\n",
              "4        619571  consideration     150000     0.0      iOS     search   1.50\n",
              "...         ...            ...        ...     ...      ...        ...    ...\n",
              "643689   929180         intent     224682     0.0      iOS     search   1.50\n",
              "643690  1034498         intent     225430     0.0      iOS     search   1.50\n",
              "643691   947521  consideration     225482     0.0  Android    organic   0.00\n",
              "643692   720354       purchase     225495    50.0  Android    organic   0.00\n",
              "643693   151184       interest     225688     0.0      iOS     search   1.50\n",
              "\n",
              "[643694 rows x 7 columns]"
            ],
            "text/html": [
              "<div>\n",
              "<style scoped>\n",
              "    .dataframe tbody tr th:only-of-type {\n",
              "        vertical-align: middle;\n",
              "    }\n",
              "\n",
              "    .dataframe tbody tr th {\n",
              "        vertical-align: top;\n",
              "    }\n",
              "\n",
              "    .dataframe thead th {\n",
              "        text-align: right;\n",
              "    }\n",
              "</style>\n",
              "<table border=\"1\" class=\"dataframe\">\n",
              "  <thead>\n",
              "    <tr style=\"text-align: right;\">\n",
              "      <th></th>\n",
              "      <th>user_id</th>\n",
              "      <th>funnel_stage</th>\n",
              "      <th>timestamp</th>\n",
              "      <th>profit</th>\n",
              "      <th>os</th>\n",
              "      <th>ad_channel</th>\n",
              "      <th>price</th>\n",
              "    </tr>\n",
              "  </thead>\n",
              "  <tbody>\n",
              "    <tr>\n",
              "      <th>0</th>\n",
              "      <td>111649</td>\n",
              "      <td>consideration</td>\n",
              "      <td>150000</td>\n",
              "      <td>0.0</td>\n",
              "      <td>Android</td>\n",
              "      <td>video</td>\n",
              "      <td>0.75</td>\n",
              "    </tr>\n",
              "    <tr>\n",
              "      <th>1</th>\n",
              "      <td>108759</td>\n",
              "      <td>interest</td>\n",
              "      <td>150000</td>\n",
              "      <td>0.0</td>\n",
              "      <td>Android</td>\n",
              "      <td>banner</td>\n",
              "      <td>0.50</td>\n",
              "    </tr>\n",
              "    <tr>\n",
              "      <th>2</th>\n",
              "      <td>991236</td>\n",
              "      <td>interest</td>\n",
              "      <td>150000</td>\n",
              "      <td>0.0</td>\n",
              "      <td>Android</td>\n",
              "      <td>native</td>\n",
              "      <td>2.00</td>\n",
              "    </tr>\n",
              "    <tr>\n",
              "      <th>3</th>\n",
              "      <td>387356</td>\n",
              "      <td>interest</td>\n",
              "      <td>150000</td>\n",
              "      <td>0.0</td>\n",
              "      <td>iOS</td>\n",
              "      <td>search</td>\n",
              "      <td>1.50</td>\n",
              "    </tr>\n",
              "    <tr>\n",
              "      <th>4</th>\n",
              "      <td>619571</td>\n",
              "      <td>consideration</td>\n",
              "      <td>150000</td>\n",
              "      <td>0.0</td>\n",
              "      <td>iOS</td>\n",
              "      <td>search</td>\n",
              "      <td>1.50</td>\n",
              "    </tr>\n",
              "    <tr>\n",
              "      <th>...</th>\n",
              "      <td>...</td>\n",
              "      <td>...</td>\n",
              "      <td>...</td>\n",
              "      <td>...</td>\n",
              "      <td>...</td>\n",
              "      <td>...</td>\n",
              "      <td>...</td>\n",
              "    </tr>\n",
              "    <tr>\n",
              "      <th>643689</th>\n",
              "      <td>929180</td>\n",
              "      <td>intent</td>\n",
              "      <td>224682</td>\n",
              "      <td>0.0</td>\n",
              "      <td>iOS</td>\n",
              "      <td>search</td>\n",
              "      <td>1.50</td>\n",
              "    </tr>\n",
              "    <tr>\n",
              "      <th>643690</th>\n",
              "      <td>1034498</td>\n",
              "      <td>intent</td>\n",
              "      <td>225430</td>\n",
              "      <td>0.0</td>\n",
              "      <td>iOS</td>\n",
              "      <td>search</td>\n",
              "      <td>1.50</td>\n",
              "    </tr>\n",
              "    <tr>\n",
              "      <th>643691</th>\n",
              "      <td>947521</td>\n",
              "      <td>consideration</td>\n",
              "      <td>225482</td>\n",
              "      <td>0.0</td>\n",
              "      <td>Android</td>\n",
              "      <td>organic</td>\n",
              "      <td>0.00</td>\n",
              "    </tr>\n",
              "    <tr>\n",
              "      <th>643692</th>\n",
              "      <td>720354</td>\n",
              "      <td>purchase</td>\n",
              "      <td>225495</td>\n",
              "      <td>50.0</td>\n",
              "      <td>Android</td>\n",
              "      <td>organic</td>\n",
              "      <td>0.00</td>\n",
              "    </tr>\n",
              "    <tr>\n",
              "      <th>643693</th>\n",
              "      <td>151184</td>\n",
              "      <td>interest</td>\n",
              "      <td>225688</td>\n",
              "      <td>0.0</td>\n",
              "      <td>iOS</td>\n",
              "      <td>search</td>\n",
              "      <td>1.50</td>\n",
              "    </tr>\n",
              "  </tbody>\n",
              "</table>\n",
              "<p>643694 rows × 7 columns</p>\n",
              "</div>"
            ]
          },
          "metadata": {},
          "execution_count": 36
        }
      ]
    },
    {
      "cell_type": "markdown",
      "source": [
        "##Гистограмма распределения количества этапов воронки, которые были скомпрометированы."
      ],
      "metadata": {
        "id": "8V81dASA_r2F"
      }
    },
    {
      "cell_type": "code",
      "source": [
        "plt.figure(figsize=(7,6))\n",
        "sns.histplot(df_frod['funnel_stage'], shrink=.8)\n",
        "plt.title('Гистограмма распределения количества этапов воронки, которые были скомпрометированы.', fontsize=12)\n",
        "plt.xlabel('Этап')\n",
        "plt.ylabel('Количество')\n",
        "plt.show()"
      ],
      "metadata": {
        "colab": {
          "base_uri": "https://localhost:8080/",
          "height": 582
        },
        "id": "ti_1C1vG_wSe",
        "outputId": "86c6090d-a5c7-45a2-a43b-4dfc7740ab72"
      },
      "execution_count": 37,
      "outputs": [
        {
          "output_type": "display_data",
          "data": {
            "text/plain": [
              "<Figure size 700x600 with 1 Axes>"
            ],
            "image/png": "[encoded data removed]"
          },
          "metadata": {}
        }
      ]
    },
    {
      "cell_type": "markdown",
      "source": [
        "Почему в основном именно эти этапы были скомпрометированы?"
      ],
      "metadata": {
        "id": "yf7RDhEuDDWW"
      }
    },
    {
      "cell_type": "markdown",
      "source": [
        "Потому что для подделки этапов интереса и рассмотрения нужно намного меньше времени и ресурсов, чем на подделку остальных этапов. Достаточно просто кликнуть по рекламе и полистать сайт. Intent сделать не так просто как тот же интерес, нужно зарегестрироваться или оставить заявку. Но мы наблюдаем, что и на нем есть небольшое колиечство скомпрометированных данных. Небольшое оно, как раз таки потому что на это нужно намного больше времени и ресурсов"
      ],
      "metadata": {
        "id": "FcdtKivtDPA9"
      }
    },
    {
      "cell_type": "markdown",
      "source": [
        "##Воронки продаж по всем каналам коммуникации с клиентом"
      ],
      "metadata": {
        "id": "Aww9AhsjIOQU"
      }
    },
    {
      "cell_type": "code",
      "source": [
        "df_new"
      ],
      "metadata": {
        "colab": {
          "base_uri": "https://localhost:8080/",
          "height": 423
        },
        "id": "oSFrr00BJrfM",
        "outputId": "7df166b7-fdb7-4380-867a-c5efec7bf81e"
      },
      "execution_count": 38,
      "outputs": [
        {
          "output_type": "execute_result",
          "data": {
            "text/plain": [
              "        user_id   funnel_stage  timestamp  profit       os ad_channel  price\n",
              "0        111649  consideration     150000     0.0  Android      video   0.75\n",
              "1        108759       interest     150000     0.0  Android     banner   0.50\n",
              "2        991236       interest     150000     0.0  Android     native   2.00\n",
              "3        387356       interest     150000     0.0      iOS     search   1.50\n",
              "4        619571  consideration     150000     0.0      iOS     search   1.50\n",
              "...         ...            ...        ...     ...      ...        ...    ...\n",
              "643689   929180         intent     224682     0.0      iOS     search   1.50\n",
              "643690  1034498         intent     225430     0.0      iOS     search   1.50\n",
              "643691   947521  consideration     225482     0.0  Android    organic   0.00\n",
              "643692   720354       purchase     225495    50.0  Android    organic   0.00\n",
              "643693   151184       interest     225688     0.0      iOS     search   1.50\n",
              "\n",
              "[643694 rows x 7 columns]"
            ],
            "text/html": [
              "<div>\n",
              "<style scoped>\n",
              "    .dataframe tbody tr th:only-of-type {\n",
              "        vertical-align: middle;\n",
              "    }\n",
              "\n",
              "    .dataframe tbody tr th {\n",
              "        vertical-align: top;\n",
              "    }\n",
              "\n",
              "    .dataframe thead th {\n",
              "        text-align: right;\n",
              "    }\n",
              "</style>\n",
              "<table border=\"1\" class=\"dataframe\">\n",
              "  <thead>\n",
              "    <tr style=\"text-align: right;\">\n",
              "      <th></th>\n",
              "      <th>user_id</th>\n",
              "      <th>funnel_stage</th>\n",
              "      <th>timestamp</th>\n",
              "      <th>profit</th>\n",
              "      <th>os</th>\n",
              "      <th>ad_channel</th>\n",
              "      <th>price</th>\n",
              "    </tr>\n",
              "  </thead>\n",
              "  <tbody>\n",
              "    <tr>\n",
              "      <th>0</th>\n",
              "      <td>111649</td>\n",
              "      <td>consideration</td>\n",
              "      <td>150000</td>\n",
              "      <td>0.0</td>\n",
              "      <td>Android</td>\n",
              "      <td>video</td>\n",
              "      <td>0.75</td>\n",
              "    </tr>\n",
              "    <tr>\n",
              "      <th>1</th>\n",
              "      <td>108759</td>\n",
              "      <td>interest</td>\n",
              "      <td>150000</td>\n",
              "      <td>0.0</td>\n",
              "      <td>Android</td>\n",
              "      <td>banner</td>\n",
              "      <td>0.50</td>\n",
              "    </tr>\n",
              "    <tr>\n",
              "      <th>2</th>\n",
              "      <td>991236</td>\n",
              "      <td>interest</td>\n",
              "      <td>150000</td>\n",
              "      <td>0.0</td>\n",
              "      <td>Android</td>\n",
              "      <td>native</td>\n",
              "      <td>2.00</td>\n",
              "    </tr>\n",
              "    <tr>\n",
              "      <th>3</th>\n",
              "      <td>387356</td>\n",
              "      <td>interest</td>\n",
              "      <td>150000</td>\n",
              "      <td>0.0</td>\n",
              "      <td>iOS</td>\n",
              "      <td>search</td>\n",
              "      <td>1.50</td>\n",
              "    </tr>\n",
              "    <tr>\n",
              "      <th>4</th>\n",
              "      <td>619571</td>\n",
              "      <td>consideration</td>\n",
              "      <td>150000</td>\n",
              "      <td>0.0</td>\n",
              "      <td>iOS</td>\n",
              "      <td>search</td>\n",
              "      <td>1.50</td>\n",
              "    </tr>\n",
              "    <tr>\n",
              "      <th>...</th>\n",
              "      <td>...</td>\n",
              "      <td>...</td>\n",
              "      <td>...</td>\n",
              "      <td>...</td>\n",
              "      <td>...</td>\n",
              "      <td>...</td>\n",
              "      <td>...</td>\n",
              "    </tr>\n",
              "    <tr>\n",
              "      <th>643689</th>\n",
              "      <td>929180</td>\n",
              "      <td>intent</td>\n",
              "      <td>224682</td>\n",
              "      <td>0.0</td>\n",
              "      <td>iOS</td>\n",
              "      <td>search</td>\n",
              "      <td>1.50</td>\n",
              "    </tr>\n",
              "    <tr>\n",
              "      <th>643690</th>\n",
              "      <td>1034498</td>\n",
              "      <td>intent</td>\n",
              "      <td>225430</td>\n",
              "      <td>0.0</td>\n",
              "      <td>iOS</td>\n",
              "      <td>search</td>\n",
              "      <td>1.50</td>\n",
              "    </tr>\n",
              "    <tr>\n",
              "      <th>643691</th>\n",
              "      <td>947521</td>\n",
              "      <td>consideration</td>\n",
              "      <td>225482</td>\n",
              "      <td>0.0</td>\n",
              "      <td>Android</td>\n",
              "      <td>organic</td>\n",
              "      <td>0.00</td>\n",
              "    </tr>\n",
              "    <tr>\n",
              "      <th>643692</th>\n",
              "      <td>720354</td>\n",
              "      <td>purchase</td>\n",
              "      <td>225495</td>\n",
              "      <td>50.0</td>\n",
              "      <td>Android</td>\n",
              "      <td>organic</td>\n",
              "      <td>0.00</td>\n",
              "    </tr>\n",
              "    <tr>\n",
              "      <th>643693</th>\n",
              "      <td>151184</td>\n",
              "      <td>interest</td>\n",
              "      <td>225688</td>\n",
              "      <td>0.0</td>\n",
              "      <td>iOS</td>\n",
              "      <td>search</td>\n",
              "      <td>1.50</td>\n",
              "    </tr>\n",
              "  </tbody>\n",
              "</table>\n",
              "<p>643694 rows × 7 columns</p>\n",
              "</div>"
            ]
          },
          "metadata": {},
          "execution_count": 38
        }
      ]
    },
    {
      "cell_type": "code",
      "source": [
        "plt.figure(figsize=(10,7))\n",
        "sns.countplot(data=df_new, x='ad_channel', hue='funnel_stage')\n",
        "plt.title('График воронок продаж по всем каналам')\n",
        "plt.xlabel('Каналы и их этапы')\n",
        "plt.ylabel('Количество')\n",
        "plt.show()"
      ],
      "metadata": {
        "colab": {
          "base_uri": "https://localhost:8080/",
          "height": 644
        },
        "id": "vdnwAZwPdc2x",
        "outputId": "715c3b49-e0c0-4e93-90aa-da45109e2fc2"
      },
      "execution_count": 39,
      "outputs": [
        {
          "output_type": "display_data",
          "data": {
            "text/plain": [
              "<Figure size 1000x700 with 1 Axes>"
            ],
            "image/png": "[encoded data removed]"
          },
          "metadata": {}
        }
      ]
    },
    {
      "cell_type": "markdown",
      "source": [
        "Наименее перспективным каналом мне кажется канал  \"rich\", так же канал \"video\" практически не имеет purchases(покупок), что тоже говорит о неперспективности."
      ],
      "metadata": {
        "id": "9rPL9a6DegBd"
      }
    },
    {
      "cell_type": "markdown",
      "source": [
        "##Графики затрат и прибыли для каждого канала"
      ],
      "metadata": {
        "id": "J15lwz7Usaxw"
      }
    },
    {
      "cell_type": "code",
      "source": [
        "sns.set()"
      ],
      "metadata": {
        "id": "F7NnC3D01Veb"
      },
      "execution_count": 40,
      "outputs": []
    },
    {
      "cell_type": "code",
      "source": [
        "df_new"
      ],
      "metadata": {
        "colab": {
          "base_uri": "https://localhost:8080/",
          "height": 423
        },
        "id": "iULw7Ya3vxUG",
        "outputId": "4a349ad9-bf5b-4000-a03f-160fa12a70c2"
      },
      "execution_count": 41,
      "outputs": [
        {
          "output_type": "execute_result",
          "data": {
            "text/plain": [
              "        user_id   funnel_stage  timestamp  profit       os ad_channel  price\n",
              "0        111649  consideration     150000     0.0  Android      video   0.75\n",
              "1        108759       interest     150000     0.0  Android     banner   0.50\n",
              "2        991236       interest     150000     0.0  Android     native   2.00\n",
              "3        387356       interest     150000     0.0      iOS     search   1.50\n",
              "4        619571  consideration     150000     0.0      iOS     search   1.50\n",
              "...         ...            ...        ...     ...      ...        ...    ...\n",
              "643689   929180         intent     224682     0.0      iOS     search   1.50\n",
              "643690  1034498         intent     225430     0.0      iOS     search   1.50\n",
              "643691   947521  consideration     225482     0.0  Android    organic   0.00\n",
              "643692   720354       purchase     225495    50.0  Android    organic   0.00\n",
              "643693   151184       interest     225688     0.0      iOS     search   1.50\n",
              "\n",
              "[643694 rows x 7 columns]"
            ],
            "text/html": [
              "<div>\n",
              "<style scoped>\n",
              "    .dataframe tbody tr th:only-of-type {\n",
              "        vertical-align: middle;\n",
              "    }\n",
              "\n",
              "    .dataframe tbody tr th {\n",
              "        vertical-align: top;\n",
              "    }\n",
              "\n",
              "    .dataframe thead th {\n",
              "        text-align: right;\n",
              "    }\n",
              "</style>\n",
              "<table border=\"1\" class=\"dataframe\">\n",
              "  <thead>\n",
              "    <tr style=\"text-align: right;\">\n",
              "      <th></th>\n",
              "      <th>user_id</th>\n",
              "      <th>funnel_stage</th>\n",
              "      <th>timestamp</th>\n",
              "      <th>profit</th>\n",
              "      <th>os</th>\n",
              "      <th>ad_channel</th>\n",
              "      <th>price</th>\n",
              "    </tr>\n",
              "  </thead>\n",
              "  <tbody>\n",
              "    <tr>\n",
              "      <th>0</th>\n",
              "      <td>111649</td>\n",
              "      <td>consideration</td>\n",
              "      <td>150000</td>\n",
              "      <td>0.0</td>\n",
              "      <td>Android</td>\n",
              "      <td>video</td>\n",
              "      <td>0.75</td>\n",
              "    </tr>\n",
              "    <tr>\n",
              "      <th>1</th>\n",
              "      <td>108759</td>\n",
              "      <td>interest</td>\n",
              "      <td>150000</td>\n",
              "      <td>0.0</td>\n",
              "      <td>Android</td>\n",
              "      <td>banner</td>\n",
              "      <td>0.50</td>\n",
              "    </tr>\n",
              "    <tr>\n",
              "      <th>2</th>\n",
              "      <td>991236</td>\n",
              "      <td>interest</td>\n",
              "      <td>150000</td>\n",
              "      <td>0.0</td>\n",
              "      <td>Android</td>\n",
              "      <td>native</td>\n",
              "      <td>2.00</td>\n",
              "    </tr>\n",
              "    <tr>\n",
              "      <th>3</th>\n",
              "      <td>387356</td>\n",
              "      <td>interest</td>\n",
              "      <td>150000</td>\n",
              "      <td>0.0</td>\n",
              "      <td>iOS</td>\n",
              "      <td>search</td>\n",
              "      <td>1.50</td>\n",
              "    </tr>\n",
              "    <tr>\n",
              "      <th>4</th>\n",
              "      <td>619571</td>\n",
              "      <td>consideration</td>\n",
              "      <td>150000</td>\n",
              "      <td>0.0</td>\n",
              "      <td>iOS</td>\n",
              "      <td>search</td>\n",
              "      <td>1.50</td>\n",
              "    </tr>\n",
              "    <tr>\n",
              "      <th>...</th>\n",
              "      <td>...</td>\n",
              "      <td>...</td>\n",
              "      <td>...</td>\n",
              "      <td>...</td>\n",
              "      <td>...</td>\n",
              "      <td>...</td>\n",
              "      <td>...</td>\n",
              "    </tr>\n",
              "    <tr>\n",
              "      <th>643689</th>\n",
              "      <td>929180</td>\n",
              "      <td>intent</td>\n",
              "      <td>224682</td>\n",
              "      <td>0.0</td>\n",
              "      <td>iOS</td>\n",
              "      <td>search</td>\n",
              "      <td>1.50</td>\n",
              "    </tr>\n",
              "    <tr>\n",
              "      <th>643690</th>\n",
              "      <td>1034498</td>\n",
              "      <td>intent</td>\n",
              "      <td>225430</td>\n",
              "      <td>0.0</td>\n",
              "      <td>iOS</td>\n",
              "      <td>search</td>\n",
              "      <td>1.50</td>\n",
              "    </tr>\n",
              "    <tr>\n",
              "      <th>643691</th>\n",
              "      <td>947521</td>\n",
              "      <td>consideration</td>\n",
              "      <td>225482</td>\n",
              "      <td>0.0</td>\n",
              "      <td>Android</td>\n",
              "      <td>organic</td>\n",
              "      <td>0.00</td>\n",
              "    </tr>\n",
              "    <tr>\n",
              "      <th>643692</th>\n",
              "      <td>720354</td>\n",
              "      <td>purchase</td>\n",
              "      <td>225495</td>\n",
              "      <td>50.0</td>\n",
              "      <td>Android</td>\n",
              "      <td>organic</td>\n",
              "      <td>0.00</td>\n",
              "    </tr>\n",
              "    <tr>\n",
              "      <th>643693</th>\n",
              "      <td>151184</td>\n",
              "      <td>interest</td>\n",
              "      <td>225688</td>\n",
              "      <td>0.0</td>\n",
              "      <td>iOS</td>\n",
              "      <td>search</td>\n",
              "      <td>1.50</td>\n",
              "    </tr>\n",
              "  </tbody>\n",
              "</table>\n",
              "<p>643694 rows × 7 columns</p>\n",
              "</div>"
            ]
          },
          "metadata": {},
          "execution_count": 41
        }
      ]
    },
    {
      "cell_type": "code",
      "source": [
        "grouped = df_new.groupby('ad_channel')['price'].sum().reset_index()\n",
        "grouped = grouped.sort_values('price', ascending=False)"
      ],
      "metadata": {
        "id": "kZhKQ6AkyIp2"
      },
      "execution_count": 42,
      "outputs": []
    },
    {
      "cell_type": "code",
      "source": [
        "profits = df_new.groupby('ad_channel')['profit'].sum().reset_index()\n",
        "profits = profits.sort_values('profit')"
      ],
      "metadata": {
        "id": "oNLmongF25It"
      },
      "execution_count": 43,
      "outputs": []
    },
    {
      "cell_type": "code",
      "source": [
        "fig, ax = plt.subplots(nrows=1, ncols=2, figsize=(15,6))\n",
        "fig.suptitle('Затраты и прибыли')\n",
        "fig.subplots_adjust(wspace=0.4)\n",
        "\n",
        "ax[0].bar(grouped['ad_channel'], grouped['price'], color='grey')\n",
        "ax[0].set_title('Затраты')\n",
        "ax[0].set_xlabel('Каналы')\n",
        "ax[0].set_ylabel('Затраты')\n",
        "ax[0].set_xticklabels(grouped['ad_channel'], rotation=40)\n",
        "\n",
        "ax[1].barh(profits['ad_channel'], profits['profit'], color='mediumspringgreen')\n",
        "ax[1].set_title('Прибыли')\n",
        "ax[1].set_xlabel('Прибыли')\n",
        "ax[1].set_ylabel('Каналы')\n",
        "ax[1].set_yticklabels(profits['ad_channel'], rotation=53)\n",
        "\n",
        "plt.show()"
      ],
      "metadata": {
        "colab": {
          "base_uri": "https://localhost:8080/",
          "height": 747
        },
        "id": "urYlocxXskTW",
        "outputId": "fb94aa89-6139-4329-da8d-582cf00327c0"
      },
      "execution_count": 44,
      "outputs": [
        {
          "output_type": "stream",
          "name": "stderr",
          "text": [
            "C:\\Users\\Danil\\AppData\\Local\\Temp\\ipykernel_2928\\895632207.py:9: UserWarning: FixedFormatter should only be used together with FixedLocator\n",
            "  ax[0].set_xticklabels(grouped['ad_channel'], rotation=40)\n",
            "C:\\Users\\Danil\\AppData\\Local\\Temp\\ipykernel_2928\\895632207.py:15: UserWarning: FixedFormatter should only be used together with FixedLocator\n",
            "  ax[1].set_yticklabels(profits['ad_channel'], rotation=53)\n"
          ]
        },
        {
          "output_type": "display_data",
          "data": {
            "text/plain": [
              "<Figure size 1500x600 with 2 Axes>"
            ],
            "image/png": "[encoded data removed]"
          },
          "metadata": {}
        }
      ]
    },
    {
      "cell_type": "markdown",
      "source": [
        "Из этих графиков видно, что канал video действительно является бесполезным, т.к. он второй по затратности, но практически нулевой по доходности"
      ],
      "metadata": {
        "id": "AjxA3OBU6NN2"
      }
    },
    {
      "cell_type": "markdown",
      "source": [
        "##Распределение операционной системы пользователя для каждого канала коммуникации"
      ],
      "metadata": {
        "id": "VRMXAi4P6SH8"
      }
    },
    {
      "cell_type": "code",
      "source": [
        "plt.figure(figsize=(10,7))\n",
        "sns.countplot(data=df_new, x='ad_channel', hue='os', palette=['green','blue'])\n",
        "plt.title('Распределение операционной системы пользователя для каждого канала коммуникации')\n",
        "plt.xlabel('Каналы и операционные системы')\n",
        "plt.ylabel('Количество')\n",
        "plt.show()"
      ],
      "metadata": {
        "colab": {
          "base_uri": "https://localhost:8080/",
          "height": 644
        },
        "id": "MPqMMSJ86bKR",
        "outputId": "d61ba7c0-38ad-4e78-ff6c-64df2d0e395a"
      },
      "execution_count": 45,
      "outputs": [
        {
          "output_type": "display_data",
          "data": {
            "text/plain": [
              "<Figure size 1000x700 with 1 Axes>"
            ],
            "image/png": "[encoded data removed]"
          },
          "metadata": {}
        }
      ]
    },
    {
      "cell_type": "markdown",
      "source": [
        "Вывод: Люди с IOS чаще переходят по платному поиску, большому баннеру или нативному баннеру, нежели по другим каналам. Пользователи андроид же, наоборот, чаще переходят по обычным баннерам, видео и органическому траффику. С партнерской сети перехдит практически одинаковое количество пользователей что с ios, что с android"
      ],
      "metadata": {
        "id": "IhUmsA3E8ZZh"
      }
    },
    {
      "cell_type": "markdown",
      "source": [
        "#Модуль 11"
      ],
      "metadata": {
        "id": "X_bCrVLZ5dMG"
      }
    },
    {
      "cell_type": "markdown",
      "source": [
        "##Разеление данных на органический и платный трафик"
      ],
      "metadata": {
        "id": "KPLICl6U66zT"
      }
    },
    {
      "cell_type": "code",
      "source": [
        "df_organic = df_new[df_new['ad_channel'] == 'organic']\n",
        "df_organic.head()"
      ],
      "metadata": {
        "colab": {
          "base_uri": "https://localhost:8080/",
          "height": 206
        },
        "id": "EmU18oyv55Sv",
        "outputId": "cba6ccb6-b708-4102-87c2-4ce307a0f3b4"
      },
      "execution_count": 46,
      "outputs": [
        {
          "output_type": "execute_result",
          "data": {
            "text/plain": [
              "    user_id   funnel_stage  timestamp  profit       os ad_channel  price\n",
              "9    897013       interest     150000     0.0  Android    organic    0.0\n",
              "10   242700       interest     150000     0.0  Android    organic    0.0\n",
              "11   143856       interest     150000     0.0  Android    organic    0.0\n",
              "12    26717  consideration     150000     0.0  Android    organic    0.0\n",
              "21   286799       interest     150001     0.0  Android    organic    0.0"
            ],
            "text/html": [
              "<div>\n",
              "<style scoped>\n",
              "    .dataframe tbody tr th:only-of-type {\n",
              "        vertical-align: middle;\n",
              "    }\n",
              "\n",
              "    .dataframe tbody tr th {\n",
              "        vertical-align: top;\n",
              "    }\n",
              "\n",
              "    .dataframe thead th {\n",
              "        text-align: right;\n",
              "    }\n",
              "</style>\n",
              "<table border=\"1\" class=\"dataframe\">\n",
              "  <thead>\n",
              "    <tr style=\"text-align: right;\">\n",
              "      <th></th>\n",
              "      <th>user_id</th>\n",
              "      <th>funnel_stage</th>\n",
              "      <th>timestamp</th>\n",
              "      <th>profit</th>\n",
              "      <th>os</th>\n",
              "      <th>ad_channel</th>\n",
              "      <th>price</th>\n",
              "    </tr>\n",
              "  </thead>\n",
              "  <tbody>\n",
              "    <tr>\n",
              "      <th>9</th>\n",
              "      <td>897013</td>\n",
              "      <td>interest</td>\n",
              "      <td>150000</td>\n",
              "      <td>0.0</td>\n",
              "      <td>Android</td>\n",
              "      <td>organic</td>\n",
              "      <td>0.0</td>\n",
              "    </tr>\n",
              "    <tr>\n",
              "      <th>10</th>\n",
              "      <td>242700</td>\n",
              "      <td>interest</td>\n",
              "      <td>150000</td>\n",
              "      <td>0.0</td>\n",
              "      <td>Android</td>\n",
              "      <td>organic</td>\n",
              "      <td>0.0</td>\n",
              "    </tr>\n",
              "    <tr>\n",
              "      <th>11</th>\n",
              "      <td>143856</td>\n",
              "      <td>interest</td>\n",
              "      <td>150000</td>\n",
              "      <td>0.0</td>\n",
              "      <td>Android</td>\n",
              "      <td>organic</td>\n",
              "      <td>0.0</td>\n",
              "    </tr>\n",
              "    <tr>\n",
              "      <th>12</th>\n",
              "      <td>26717</td>\n",
              "      <td>consideration</td>\n",
              "      <td>150000</td>\n",
              "      <td>0.0</td>\n",
              "      <td>Android</td>\n",
              "      <td>organic</td>\n",
              "      <td>0.0</td>\n",
              "    </tr>\n",
              "    <tr>\n",
              "      <th>21</th>\n",
              "      <td>286799</td>\n",
              "      <td>interest</td>\n",
              "      <td>150001</td>\n",
              "      <td>0.0</td>\n",
              "      <td>Android</td>\n",
              "      <td>organic</td>\n",
              "      <td>0.0</td>\n",
              "    </tr>\n",
              "  </tbody>\n",
              "</table>\n",
              "</div>"
            ]
          },
          "metadata": {},
          "execution_count": 46
        }
      ]
    },
    {
      "cell_type": "code",
      "source": [
        "df_paid = df_new[df_new['ad_channel'] != 'organic']\n",
        "df_paid.head()"
      ],
      "metadata": {
        "colab": {
          "base_uri": "https://localhost:8080/",
          "height": 206
        },
        "id": "8dFq5Vqt6eFk",
        "outputId": "f96fde8f-9253-43e9-8745-e1df74bc0133"
      },
      "execution_count": 47,
      "outputs": [
        {
          "output_type": "execute_result",
          "data": {
            "text/plain": [
              "   user_id   funnel_stage  timestamp  profit       os ad_channel  price\n",
              "0   111649  consideration     150000     0.0  Android      video   0.75\n",
              "1   108759       interest     150000     0.0  Android     banner   0.50\n",
              "2   991236       interest     150000     0.0  Android     native   2.00\n",
              "3   387356       interest     150000     0.0      iOS     search   1.50\n",
              "4   619571  consideration     150000     0.0      iOS     search   1.50"
            ],
            "text/html": [
              "<div>\n",
              "<style scoped>\n",
              "    .dataframe tbody tr th:only-of-type {\n",
              "        vertical-align: middle;\n",
              "    }\n",
              "\n",
              "    .dataframe tbody tr th {\n",
              "        vertical-align: top;\n",
              "    }\n",
              "\n",
              "    .dataframe thead th {\n",
              "        text-align: right;\n",
              "    }\n",
              "</style>\n",
              "<table border=\"1\" class=\"dataframe\">\n",
              "  <thead>\n",
              "    <tr style=\"text-align: right;\">\n",
              "      <th></th>\n",
              "      <th>user_id</th>\n",
              "      <th>funnel_stage</th>\n",
              "      <th>timestamp</th>\n",
              "      <th>profit</th>\n",
              "      <th>os</th>\n",
              "      <th>ad_channel</th>\n",
              "      <th>price</th>\n",
              "    </tr>\n",
              "  </thead>\n",
              "  <tbody>\n",
              "    <tr>\n",
              "      <th>0</th>\n",
              "      <td>111649</td>\n",
              "      <td>consideration</td>\n",
              "      <td>150000</td>\n",
              "      <td>0.0</td>\n",
              "      <td>Android</td>\n",
              "      <td>video</td>\n",
              "      <td>0.75</td>\n",
              "    </tr>\n",
              "    <tr>\n",
              "      <th>1</th>\n",
              "      <td>108759</td>\n",
              "      <td>interest</td>\n",
              "      <td>150000</td>\n",
              "      <td>0.0</td>\n",
              "      <td>Android</td>\n",
              "      <td>banner</td>\n",
              "      <td>0.50</td>\n",
              "    </tr>\n",
              "    <tr>\n",
              "      <th>2</th>\n",
              "      <td>991236</td>\n",
              "      <td>interest</td>\n",
              "      <td>150000</td>\n",
              "      <td>0.0</td>\n",
              "      <td>Android</td>\n",
              "      <td>native</td>\n",
              "      <td>2.00</td>\n",
              "    </tr>\n",
              "    <tr>\n",
              "      <th>3</th>\n",
              "      <td>387356</td>\n",
              "      <td>interest</td>\n",
              "      <td>150000</td>\n",
              "      <td>0.0</td>\n",
              "      <td>iOS</td>\n",
              "      <td>search</td>\n",
              "      <td>1.50</td>\n",
              "    </tr>\n",
              "    <tr>\n",
              "      <th>4</th>\n",
              "      <td>619571</td>\n",
              "      <td>consideration</td>\n",
              "      <td>150000</td>\n",
              "      <td>0.0</td>\n",
              "      <td>iOS</td>\n",
              "      <td>search</td>\n",
              "      <td>1.50</td>\n",
              "    </tr>\n",
              "  </tbody>\n",
              "</table>\n",
              "</div>"
            ]
          },
          "metadata": {},
          "execution_count": 47
        }
      ]
    },
    {
      "cell_type": "markdown",
      "source": [
        "##Сравнение долей пользователей на каждом этапе воронки продаж для двух групп трафика"
      ],
      "metadata": {
        "id": "0H-smbCG7AHd"
      }
    },
    {
      "cell_type": "code",
      "source": [
        "df_organic['ones'] = 1\n",
        "organic = df_organic[['funnel_stage', 'ones']].groupby('funnel_stage').sum().sort_values(by='ones', ascending=False).reset_index()\n",
        "organic['share'] = organic['ones'].apply(lambda x: x/organic['ones'].sum())\n",
        "organic"
      ],
      "metadata": {
        "colab": {
          "base_uri": "https://localhost:8080/",
          "height": 284
        },
        "id": "m8Xuuz557N4M",
        "outputId": "67027c2a-0d91-4534-f2ec-9e57159f64de"
      },
      "execution_count": 48,
      "outputs": [
        {
          "output_type": "stream",
          "name": "stderr",
          "text": [
            "C:\\Users\\Danil\\AppData\\Local\\Temp\\ipykernel_2928\\1146094866.py:1: SettingWithCopyWarning: \n",
            "A value is trying to be set on a copy of a slice from a DataFrame.\n",
            "Try using .loc[row_indexer,col_indexer] = value instead\n",
            "\n",
            "See the caveats in the documentation: https://pandas.pydata.org/pandas-docs/stable/user_guide/indexing.html#returning-a-view-versus-a-copy\n",
            "  df_organic['ones'] = 1\n"
          ]
        },
        {
          "output_type": "execute_result",
          "data": {
            "text/plain": [
              "    funnel_stage   ones     share\n",
              "0       interest  51410  0.553462\n",
              "1  consideration  34970  0.376475\n",
              "2         intent   6140  0.066101\n",
              "3       purchase    368  0.003962"
            ],
            "text/html": [
              "<div>\n",
              "<style scoped>\n",
              "    .dataframe tbody tr th:only-of-type {\n",
              "        vertical-align: middle;\n",
              "    }\n",
              "\n",
              "    .dataframe tbody tr th {\n",
              "        vertical-align: top;\n",
              "    }\n",
              "\n",
              "    .dataframe thead th {\n",
              "        text-align: right;\n",
              "    }\n",
              "</style>\n",
              "<table border=\"1\" class=\"dataframe\">\n",
              "  <thead>\n",
              "    <tr style=\"text-align: right;\">\n",
              "      <th></th>\n",
              "      <th>funnel_stage</th>\n",
              "      <th>ones</th>\n",
              "      <th>share</th>\n",
              "    </tr>\n",
              "  </thead>\n",
              "  <tbody>\n",
              "    <tr>\n",
              "      <th>0</th>\n",
              "      <td>interest</td>\n",
              "      <td>51410</td>\n",
              "      <td>0.553462</td>\n",
              "    </tr>\n",
              "    <tr>\n",
              "      <th>1</th>\n",
              "      <td>consideration</td>\n",
              "      <td>34970</td>\n",
              "      <td>0.376475</td>\n",
              "    </tr>\n",
              "    <tr>\n",
              "      <th>2</th>\n",
              "      <td>intent</td>\n",
              "      <td>6140</td>\n",
              "      <td>0.066101</td>\n",
              "    </tr>\n",
              "    <tr>\n",
              "      <th>3</th>\n",
              "      <td>purchase</td>\n",
              "      <td>368</td>\n",
              "      <td>0.003962</td>\n",
              "    </tr>\n",
              "  </tbody>\n",
              "</table>\n",
              "</div>"
            ]
          },
          "metadata": {},
          "execution_count": 48
        }
      ]
    },
    {
      "cell_type": "code",
      "source": [
        "df_paid['ones'] = 1\n",
        "paid = df_paid[['funnel_stage', 'ones']].groupby('funnel_stage').sum().sort_values(by='ones', ascending=False).reset_index()\n",
        "paid['share'] = paid['ones'].apply(lambda x: x/paid['ones'].sum())\n",
        "paid"
      ],
      "metadata": {
        "colab": {
          "base_uri": "https://localhost:8080/",
          "height": 284
        },
        "id": "7k9v1VtkCN8v",
        "outputId": "45311b7b-651d-4ad6-fda0-14186bc92b3d"
      },
      "execution_count": 49,
      "outputs": [
        {
          "output_type": "stream",
          "name": "stderr",
          "text": [
            "C:\\Users\\Danil\\AppData\\Local\\Temp\\ipykernel_2928\\1246266034.py:1: SettingWithCopyWarning: \n",
            "A value is trying to be set on a copy of a slice from a DataFrame.\n",
            "Try using .loc[row_indexer,col_indexer] = value instead\n",
            "\n",
            "See the caveats in the documentation: https://pandas.pydata.org/pandas-docs/stable/user_guide/indexing.html#returning-a-view-versus-a-copy\n",
            "  df_paid['ones'] = 1\n"
          ]
        },
        {
          "output_type": "execute_result",
          "data": {
            "text/plain": [
              "    funnel_stage    ones     share\n",
              "0       interest  333655  0.605758\n",
              "1  consideration  186889  0.339301\n",
              "2         intent   27401  0.049747\n",
              "3       purchase    2861  0.005194"
            ],
            "text/html": [
              "<div>\n",
              "<style scoped>\n",
              "    .dataframe tbody tr th:only-of-type {\n",
              "        vertical-align: middle;\n",
              "    }\n",
              "\n",
              "    .dataframe tbody tr th {\n",
              "        vertical-align: top;\n",
              "    }\n",
              "\n",
              "    .dataframe thead th {\n",
              "        text-align: right;\n",
              "    }\n",
              "</style>\n",
              "<table border=\"1\" class=\"dataframe\">\n",
              "  <thead>\n",
              "    <tr style=\"text-align: right;\">\n",
              "      <th></th>\n",
              "      <th>funnel_stage</th>\n",
              "      <th>ones</th>\n",
              "      <th>share</th>\n",
              "    </tr>\n",
              "  </thead>\n",
              "  <tbody>\n",
              "    <tr>\n",
              "      <th>0</th>\n",
              "      <td>interest</td>\n",
              "      <td>333655</td>\n",
              "      <td>0.605758</td>\n",
              "    </tr>\n",
              "    <tr>\n",
              "      <th>1</th>\n",
              "      <td>consideration</td>\n",
              "      <td>186889</td>\n",
              "      <td>0.339301</td>\n",
              "    </tr>\n",
              "    <tr>\n",
              "      <th>2</th>\n",
              "      <td>intent</td>\n",
              "      <td>27401</td>\n",
              "      <td>0.049747</td>\n",
              "    </tr>\n",
              "    <tr>\n",
              "      <th>3</th>\n",
              "      <td>purchase</td>\n",
              "      <td>2861</td>\n",
              "      <td>0.005194</td>\n",
              "    </tr>\n",
              "  </tbody>\n",
              "</table>\n",
              "</div>"
            ]
          },
          "metadata": {},
          "execution_count": 49
        }
      ]
    },
    {
      "cell_type": "code",
      "source": [
        "fig, ax = plt.subplots(ncols=2, nrows=1, figsize=(16,5))\n",
        "\n",
        "ax[0].plot(organic['funnel_stage'], organic['share'])\n",
        "ax[0].set_title('Органический трафик')\n",
        "ax[0].set_ylim(ymin=0, ymax=0.8)\n",
        "\n",
        "ax[1].plot(paid['funnel_stage'], paid['share'])\n",
        "ax[1].set_title('Платный трафик')\n",
        "ax[1].set_ylim(ymin=0, ymax=0.8)\n",
        "plt.show()"
      ],
      "metadata": {
        "colab": {
          "base_uri": "https://localhost:8080/",
          "height": 469
        },
        "id": "KFMDjd4PDDw0",
        "outputId": "9f3ffe7f-5106-46f5-cd03-37e3107f5560"
      },
      "execution_count": 50,
      "outputs": [
        {
          "output_type": "display_data",
          "data": {
            "text/plain": [
              "<Figure size 1600x500 with 2 Axes>"
            ],
            "image/png": "[encoded data removed]"
          },
          "metadata": {}
        }
      ]
    },
    {
      "cell_type": "code",
      "source": [
        "st.chisquare(organic.share, paid.share)"
      ],
      "metadata": {
        "colab": {
          "base_uri": "https://localhost:8080/"
        },
        "id": "Ik-LLDoawJLD",
        "outputId": "5c631522-be16-418b-d71c-8bbcddb604a4"
      },
      "execution_count": 51,
      "outputs": [
        {
          "output_type": "execute_result",
          "data": {
            "text/plain": [
              "Power_divergenceResult(statistic=0.01425619585534431, pvalue=0.9995492168986879)"
            ]
          },
          "metadata": {},
          "execution_count": 51
        }
      ]
    },
    {
      "cell_type": "markdown",
      "source": [
        "В результате можно сделать вывод, что две выборки для платного и органического трафика статистически не отличаются (т.к. pvalue>0.5)"
      ],
      "metadata": {
        "id": "6GBj1GrKxsci"
      }
    },
    {
      "cell_type": "markdown",
      "source": [
        "##Воронки для каждого канала коммуникации"
      ],
      "metadata": {
        "id": "cJ9_oeB6yBKz"
      }
    },
    {
      "cell_type": "code",
      "source": [
        "stages = ['interest', 'consideration', 'intent', 'purchase']\n",
        "df_new['funnel_stage'] = pd.Categorical(df_new['funnel_stage'], categories=stages, ordered=True)\n",
        "df_sorted = df_new.sort_values('funnel_stage')\n",
        "df_sorted"
      ],
      "metadata": {
        "colab": {
          "base_uri": "https://localhost:8080/",
          "height": 423
        },
        "id": "3HEcXs29zcG_",
        "outputId": "7ae625be-2f23-4442-b263-a3dc0b7814b0"
      },
      "execution_count": 52,
      "outputs": [
        {
          "output_type": "execute_result",
          "data": {
            "text/plain": [
              "        user_id funnel_stage  timestamp  profit       os       ad_channel  \\\n",
              "321846   193027     interest     176247     0.0  Android             rich   \n",
              "369396  1037193     interest     180327     0.0      iOS           search   \n",
              "369395   600408     interest     180327     0.0  Android           search   \n",
              "369394   959588     interest     180327     0.0      iOS           search   \n",
              "369393   812759     interest     180327     0.0      iOS           search   \n",
              "...         ...          ...        ...     ...      ...              ...   \n",
              "590412   903805     purchase     198957    50.0  Android           search   \n",
              "309892   937217     purchase     175221  2136.0      iOS           search   \n",
              "634324   990343     purchase     205981  2136.0      iOS           search   \n",
              "493103   669187     purchase     190786  1099.0      iOS           banner   \n",
              "122902   836487     purchase     159607   520.0  Android  partner_network   \n",
              "\n",
              "        price  \n",
              "321846    2.5  \n",
              "369396    1.5  \n",
              "369395    1.5  \n",
              "369394    1.5  \n",
              "369393    1.5  \n",
              "...       ...  \n",
              "590412    1.5  \n",
              "309892    1.5  \n",
              "634324    1.5  \n",
              "493103    0.5  \n",
              "122902    1.0  \n",
              "\n",
              "[643694 rows x 7 columns]"
            ],
            "text/html": [
              "<div>\n",
              "<style scoped>\n",
              "    .dataframe tbody tr th:only-of-type {\n",
              "        vertical-align: middle;\n",
              "    }\n",
              "\n",
              "    .dataframe tbody tr th {\n",
              "        vertical-align: top;\n",
              "    }\n",
              "\n",
              "    .dataframe thead th {\n",
              "        text-align: right;\n",
              "    }\n",
              "</style>\n",
              "<table border=\"1\" class=\"dataframe\">\n",
              "  <thead>\n",
              "    <tr style=\"text-align: right;\">\n",
              "      <th></th>\n",
              "      <th>user_id</th>\n",
              "      <th>funnel_stage</th>\n",
              "      <th>timestamp</th>\n",
              "      <th>profit</th>\n",
              "      <th>os</th>\n",
              "      <th>ad_channel</th>\n",
              "      <th>price</th>\n",
              "    </tr>\n",
              "  </thead>\n",
              "  <tbody>\n",
              "    <tr>\n",
              "      <th>321846</th>\n",
              "      <td>193027</td>\n",
              "      <td>interest</td>\n",
              "      <td>176247</td>\n",
              "      <td>0.0</td>\n",
              "      <td>Android</td>\n",
              "      <td>rich</td>\n",
              "      <td>2.5</td>\n",
              "    </tr>\n",
              "    <tr>\n",
              "      <th>369396</th>\n",
              "      <td>1037193</td>\n",
              "      <td>interest</td>\n",
              "      <td>180327</td>\n",
              "      <td>0.0</td>\n",
              "      <td>iOS</td>\n",
              "      <td>search</td>\n",
              "      <td>1.5</td>\n",
              "    </tr>\n",
              "    <tr>\n",
              "      <th>369395</th>\n",
              "      <td>600408</td>\n",
              "      <td>interest</td>\n",
              "      <td>180327</td>\n",
              "      <td>0.0</td>\n",
              "      <td>Android</td>\n",
              "      <td>search</td>\n",
              "      <td>1.5</td>\n",
              "    </tr>\n",
              "    <tr>\n",
              "      <th>369394</th>\n",
              "      <td>959588</td>\n",
              "      <td>interest</td>\n",
              "      <td>180327</td>\n",
              "      <td>0.0</td>\n",
              "      <td>iOS</td>\n",
              "      <td>search</td>\n",
              "      <td>1.5</td>\n",
              "    </tr>\n",
              "    <tr>\n",
              "      <th>369393</th>\n",
              "      <td>812759</td>\n",
              "      <td>interest</td>\n",
              "      <td>180327</td>\n",
              "      <td>0.0</td>\n",
              "      <td>iOS</td>\n",
              "      <td>search</td>\n",
              "      <td>1.5</td>\n",
              "    </tr>\n",
              "    <tr>\n",
              "      <th>...</th>\n",
              "      <td>...</td>\n",
              "      <td>...</td>\n",
              "      <td>...</td>\n",
              "      <td>...</td>\n",
              "      <td>...</td>\n",
              "      <td>...</td>\n",
              "      <td>...</td>\n",
              "    </tr>\n",
              "    <tr>\n",
              "      <th>590412</th>\n",
              "      <td>903805</td>\n",
              "      <td>purchase</td>\n",
              "      <td>198957</td>\n",
              "      <td>50.0</td>\n",
              "      <td>Android</td>\n",
              "      <td>search</td>\n",
              "      <td>1.5</td>\n",
              "    </tr>\n",
              "    <tr>\n",
              "      <th>309892</th>\n",
              "      <td>937217</td>\n",
              "      <td>purchase</td>\n",
              "      <td>175221</td>\n",
              "      <td>2136.0</td>\n",
              "      <td>iOS</td>\n",
              "      <td>search</td>\n",
              "      <td>1.5</td>\n",
              "    </tr>\n",
              "    <tr>\n",
              "      <th>634324</th>\n",
              "      <td>990343</td>\n",
              "      <td>purchase</td>\n",
              "      <td>205981</td>\n",
              "      <td>2136.0</td>\n",
              "      <td>iOS</td>\n",
              "      <td>search</td>\n",
              "      <td>1.5</td>\n",
              "    </tr>\n",
              "    <tr>\n",
              "      <th>493103</th>\n",
              "      <td>669187</td>\n",
              "      <td>purchase</td>\n",
              "      <td>190786</td>\n",
              "      <td>1099.0</td>\n",
              "      <td>iOS</td>\n",
              "      <td>banner</td>\n",
              "      <td>0.5</td>\n",
              "    </tr>\n",
              "    <tr>\n",
              "      <th>122902</th>\n",
              "      <td>836487</td>\n",
              "      <td>purchase</td>\n",
              "      <td>159607</td>\n",
              "      <td>520.0</td>\n",
              "      <td>Android</td>\n",
              "      <td>partner_network</td>\n",
              "      <td>1.0</td>\n",
              "    </tr>\n",
              "  </tbody>\n",
              "</table>\n",
              "<p>643694 rows × 7 columns</p>\n",
              "</div>"
            ]
          },
          "metadata": {},
          "execution_count": 52
        }
      ]
    },
    {
      "cell_type": "code",
      "source": [
        "df_new[['funnel_stage', 'ad_channel', 'user_id']].groupby(['ad_channel', 'funnel_stage']).count()"
      ],
      "metadata": {
        "colab": {
          "base_uri": "https://localhost:8080/",
          "height": 1000
        },
        "id": "8tXNofg5yN2x",
        "outputId": "c3ec3f1c-2543-4149-cb77-753b270dac1e"
      },
      "execution_count": 53,
      "outputs": [
        {
          "output_type": "execute_result",
          "data": {
            "text/plain": [
              "                               user_id\n",
              "ad_channel      funnel_stage          \n",
              "banner          interest         59796\n",
              "                consideration    30942\n",
              "                intent            5051\n",
              "                purchase           437\n",
              "native          interest         12645\n",
              "                consideration     8089\n",
              "                intent             254\n",
              "                purchase            23\n",
              "organic         interest         51410\n",
              "                consideration    34970\n",
              "                intent            6140\n",
              "                purchase           368\n",
              "other           interest          2110\n",
              "                consideration     1175\n",
              "                intent             152\n",
              "                purchase            28\n",
              "partner_network interest         42997\n",
              "                consideration    16171\n",
              "                intent            2905\n",
              "                purchase           291\n",
              "rich            interest          5745\n",
              "                consideration     3068\n",
              "                intent             795\n",
              "                purchase            11\n",
              "search          interest        146744\n",
              "                consideration    87789\n",
              "                intent           18204\n",
              "                purchase          2066\n",
              "video           interest         63618\n",
              "                consideration    39655\n",
              "                intent              40\n",
              "                purchase             5"
            ],
            "text/html": [
              "<div>\n",
              "<style scoped>\n",
              "    .dataframe tbody tr th:only-of-type {\n",
              "        vertical-align: middle;\n",
              "    }\n",
              "\n",
              "    .dataframe tbody tr th {\n",
              "        vertical-align: top;\n",
              "    }\n",
              "\n",
              "    .dataframe thead th {\n",
              "        text-align: right;\n",
              "    }\n",
              "</style>\n",
              "<table border=\"1\" class=\"dataframe\">\n",
              "  <thead>\n",
              "    <tr style=\"text-align: right;\">\n",
              "      <th></th>\n",
              "      <th></th>\n",
              "      <th>user_id</th>\n",
              "    </tr>\n",
              "    <tr>\n",
              "      <th>ad_channel</th>\n",
              "      <th>funnel_stage</th>\n",
              "      <th></th>\n",
              "    </tr>\n",
              "  </thead>\n",
              "  <tbody>\n",
              "    <tr>\n",
              "      <th rowspan=\"4\" valign=\"top\">banner</th>\n",
              "      <th>interest</th>\n",
              "      <td>59796</td>\n",
              "    </tr>\n",
              "    <tr>\n",
              "      <th>consideration</th>\n",
              "      <td>30942</td>\n",
              "    </tr>\n",
              "    <tr>\n",
              "      <th>intent</th>\n",
              "      <td>5051</td>\n",
              "    </tr>\n",
              "    <tr>\n",
              "      <th>purchase</th>\n",
              "      <td>437</td>\n",
              "    </tr>\n",
              "    <tr>\n",
              "      <th rowspan=\"4\" valign=\"top\">native</th>\n",
              "      <th>interest</th>\n",
              "      <td>12645</td>\n",
              "    </tr>\n",
              "    <tr>\n",
              "      <th>consideration</th>\n",
              "      <td>8089</td>\n",
              "    </tr>\n",
              "    <tr>\n",
              "      <th>intent</th>\n",
              "      <td>254</td>\n",
              "    </tr>\n",
              "    <tr>\n",
              "      <th>purchase</th>\n",
              "      <td>23</td>\n",
              "    </tr>\n",
              "    <tr>\n",
              "      <th rowspan=\"4\" valign=\"top\">organic</th>\n",
              "      <th>interest</th>\n",
              "      <td>51410</td>\n",
              "    </tr>\n",
              "    <tr>\n",
              "      <th>consideration</th>\n",
              "      <td>34970</td>\n",
              "    </tr>\n",
              "    <tr>\n",
              "      <th>intent</th>\n",
              "      <td>6140</td>\n",
              "    </tr>\n",
              "    <tr>\n",
              "      <th>purchase</th>\n",
              "      <td>368</td>\n",
              "    </tr>\n",
              "    <tr>\n",
              "      <th rowspan=\"4\" valign=\"top\">other</th>\n",
              "      <th>interest</th>\n",
              "      <td>2110</td>\n",
              "    </tr>\n",
              "    <tr>\n",
              "      <th>consideration</th>\n",
              "      <td>1175</td>\n",
              "    </tr>\n",
              "    <tr>\n",
              "      <th>intent</th>\n",
              "      <td>152</td>\n",
              "    </tr>\n",
              "    <tr>\n",
              "      <th>purchase</th>\n",
              "      <td>28</td>\n",
              "    </tr>\n",
              "    <tr>\n",
              "      <th rowspan=\"4\" valign=\"top\">partner_network</th>\n",
              "      <th>interest</th>\n",
              "      <td>42997</td>\n",
              "    </tr>\n",
              "    <tr>\n",
              "      <th>consideration</th>\n",
              "      <td>16171</td>\n",
              "    </tr>\n",
              "    <tr>\n",
              "      <th>intent</th>\n",
              "      <td>2905</td>\n",
              "    </tr>\n",
              "    <tr>\n",
              "      <th>purchase</th>\n",
              "      <td>291</td>\n",
              "    </tr>\n",
              "    <tr>\n",
              "      <th rowspan=\"4\" valign=\"top\">rich</th>\n",
              "      <th>interest</th>\n",
              "      <td>5745</td>\n",
              "    </tr>\n",
              "    <tr>\n",
              "      <th>consideration</th>\n",
              "      <td>3068</td>\n",
              "    </tr>\n",
              "    <tr>\n",
              "      <th>intent</th>\n",
              "      <td>795</td>\n",
              "    </tr>\n",
              "    <tr>\n",
              "      <th>purchase</th>\n",
              "      <td>11</td>\n",
              "    </tr>\n",
              "    <tr>\n",
              "      <th rowspan=\"4\" valign=\"top\">search</th>\n",
              "      <th>interest</th>\n",
              "      <td>146744</td>\n",
              "    </tr>\n",
              "    <tr>\n",
              "      <th>consideration</th>\n",
              "      <td>87789</td>\n",
              "    </tr>\n",
              "    <tr>\n",
              "      <th>intent</th>\n",
              "      <td>18204</td>\n",
              "    </tr>\n",
              "    <tr>\n",
              "      <th>purchase</th>\n",
              "      <td>2066</td>\n",
              "    </tr>\n",
              "    <tr>\n",
              "      <th rowspan=\"4\" valign=\"top\">video</th>\n",
              "      <th>interest</th>\n",
              "      <td>63618</td>\n",
              "    </tr>\n",
              "    <tr>\n",
              "      <th>consideration</th>\n",
              "      <td>39655</td>\n",
              "    </tr>\n",
              "    <tr>\n",
              "      <th>intent</th>\n",
              "      <td>40</td>\n",
              "    </tr>\n",
              "    <tr>\n",
              "      <th>purchase</th>\n",
              "      <td>5</td>\n",
              "    </tr>\n",
              "  </tbody>\n",
              "</table>\n",
              "</div>"
            ]
          },
          "metadata": {},
          "execution_count": 53
        }
      ]
    },
    {
      "cell_type": "code",
      "source": [
        "plt.figure(figsize=(10,7))\n",
        "sns.countplot(data=df_new, x='ad_channel', hue='funnel_stage')\n",
        "plt.title('График воронок продаж по всем каналам')\n",
        "plt.xlabel('Каналы и их этапы')\n",
        "plt.ylabel('Количество')\n",
        "plt.show()"
      ],
      "metadata": {
        "colab": {
          "base_uri": "https://localhost:8080/",
          "height": 644
        },
        "id": "IjSGrMJN3b0W",
        "outputId": "671dbafd-3215-44e4-f955-030a0df9f92a"
      },
      "execution_count": 54,
      "outputs": [
        {
          "output_type": "display_data",
          "data": {
            "text/plain": [
              "<Figure size 1000x700 with 1 Axes>"
            ],
            "image/png": "[encoded data removed]"
          },
          "metadata": {}
        }
      ]
    },
    {
      "cell_type": "markdown",
      "source": [
        "##Выводы"
      ],
      "metadata": {
        "id": "86F2LEGe5Cqj"
      }
    },
    {
      "cell_type": "markdown",
      "source": [
        "Отключить стоит канал video, так как он второй по затратности, а прибыль у него практически нулевая. Возможно стоит больше вкладываться в канал search или канал banner, т.к. они имеют хорошую доходность, а канал banner и по затратам не особо дорогой."
      ],
      "metadata": {
        "id": "B95G2-N-5HjA"
      }
    }
  ]
}